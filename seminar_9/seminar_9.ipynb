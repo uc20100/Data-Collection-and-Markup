{
 "cells": [
  {
   "cell_type": "markdown",
   "id": "9a23f3ae-9905-4bc1-99ef-a668c3284708",
   "metadata": {},
   "source": [
    "# ДЗ по \"Сбор и разметка данных (семинары)\"\n",
    "## Семинар 9. Инструменты разметки наборов данных\n",
    "* Домашнее задание:\n",
    "- Задача 1.\r\n",
    "Выберите датасет, который имеет отношение к вашей области интересов или исследований. Датасет должен содержать неструктурированные данные, требующие разметки для решения конкретной задачи, например, анализа настроений или распознавания именованных сущностей.\r\n",
    "\r\n",
    "- Задача 2.\r\n",
    "Выполните разметку на основе правил (rule-based labeling) на подмножестве выбранного датасета. Разработайте и реализуйте набор правил или условий, которые позволят автоматически присваивать метки данным на основе определенных шаблонов или критериев.\r\n",
    "\r\n",
    "- Задача 3.\r\n",
    "Выполните разметку вручную отдельного подмножества выбранного датасета с помощью выбранного вами инструмента разметки.\r\n",
    "\r\n",
    "- Задача 4.\r\n",
    "Объедините данные, размеченные вручную, с данными, размеченными на основе правил. Объедините два подмножества размеченных данных в один набор данных, сохранив при этом соответствующую структуру и целостность.\r\n",
    "\r\n",
    "- Задача 5.\r\n",
    "Обучите модель машинного обучения, используя объединенный набор размеченных данных. Разделите датасет на обучающий и тестовый наборы и используйте обучающий набор для обучения модели.\r\n",
    "\r\n",
    "- Задача 6.\r\n",
    "Оценить эффективность обученной модели на тестовом датасете. Используйте подходящие метрики оценки. Интерпретируйте результаты и проанализируйте эффективность модели в решении задачи разметки.\r\n",
    "\r\n"
   ]
  },
  {
   "cell_type": "code",
   "execution_count": 1,
   "id": "21d0cb0d-dfc9-4cd5-94e9-0f21f7841c2c",
   "metadata": {
    "editable": true,
    "slideshow": {
     "slide_type": ""
    },
    "tags": []
   },
   "outputs": [],
   "source": [
    "# Устанавливаем пакеты, если они не установлены\n",
    "# !pip install pandas\n",
    "# !pip install nltk\n",
    "# !pip install textblob\n",
    "# !pip install scikit-learn"
   ]
  },
  {
   "cell_type": "code",
   "execution_count": 2,
   "id": "a62ab52d-c7f3-408f-99f8-550b53ff2a16",
   "metadata": {},
   "outputs": [
    {
     "name": "stderr",
     "output_type": "stream",
     "text": [
      "[nltk_data] Downloading package punkt to\n",
      "[nltk_data]     C:\\Users\\uc201\\AppData\\Roaming\\nltk_data...\n",
      "[nltk_data]   Package punkt is already up-to-date!\n"
     ]
    }
   ],
   "source": [
    "import pandas as pd\n",
    "import nltk\n",
    "# Загружаем предобученную модель токенизации текста\n",
    "nltk.download('punkt')\n",
    "import csv\n",
    "import os\n",
    "import wget\n",
    "from textblob import TextBlob\n",
    "# from sklearn.utils import shuffle\n",
    "from sklearn.model_selection import train_test_split"
   ]
  },
  {
   "cell_type": "code",
   "execution_count": null,
   "id": "c7876aa9-0449-4533-8230-ca7ea3eb9ac2",
   "metadata": {},
   "outputs": [],
   "source": []
  },
  {
   "cell_type": "markdown",
   "id": "0160061d-615a-4ae2-ac2f-bcb9aa34da56",
   "metadata": {
    "jp-MarkdownHeadingCollapsed": true
   },
   "source": [
    "## Загрузка датасетов"
   ]
  },
  {
   "cell_type": "markdown",
   "id": "f40eaed7-caaf-42be-b591-67b5f521ace5",
   "metadata": {
    "jp-MarkdownHeadingCollapsed": true
   },
   "source": [
    "###  Загрузка датасета новостей lenta.ru"
   ]
  },
  {
   "cell_type": "code",
   "execution_count": 3,
   "id": "ec0b04ee-33cd-4eaa-97c5-2e1f7a701080",
   "metadata": {},
   "outputs": [],
   "source": [
    "# Загрузим датасет с новостями с lenta.ru\n",
    "news = pd.read_csv('news_lenta_ru.csv', engine='python', on_bad_lines='skip')"
   ]
  },
  {
   "cell_type": "code",
   "execution_count": 4,
   "id": "711ed40b-aed3-416c-8c6a-bea46e0ecf73",
   "metadata": {},
   "outputs": [
    {
     "data": {
      "text/html": [
       "<div>\n",
       "<style scoped>\n",
       "    .dataframe tbody tr th:only-of-type {\n",
       "        vertical-align: middle;\n",
       "    }\n",
       "\n",
       "    .dataframe tbody tr th {\n",
       "        vertical-align: top;\n",
       "    }\n",
       "\n",
       "    .dataframe thead th {\n",
       "        text-align: right;\n",
       "    }\n",
       "</style>\n",
       "<table border=\"1\" class=\"dataframe\">\n",
       "  <thead>\n",
       "    <tr style=\"text-align: right;\">\n",
       "      <th></th>\n",
       "      <th>url</th>\n",
       "      <th>title</th>\n",
       "      <th>text</th>\n",
       "      <th>topic</th>\n",
       "      <th>tags</th>\n",
       "    </tr>\n",
       "  </thead>\n",
       "  <tbody>\n",
       "    <tr>\n",
       "      <th>0</th>\n",
       "      <td>https://lenta.ru/news/1914/09/16/hungarnn/</td>\n",
       "      <td>1914. Русские войска вступили в пределы Венгрии</td>\n",
       "      <td>Бои у Сопоцкина и Друскеник закончились отступ...</td>\n",
       "      <td>Библиотека</td>\n",
       "      <td>Первая мировая</td>\n",
       "    </tr>\n",
       "    <tr>\n",
       "      <th>1</th>\n",
       "      <td>https://lenta.ru/news/1914/09/16/lermontov/</td>\n",
       "      <td>1914. Празднование столетия М.Ю. Лермонтова от...</td>\n",
       "      <td>Министерство народного просвещения, в виду про...</td>\n",
       "      <td>Библиотека</td>\n",
       "      <td>Первая мировая</td>\n",
       "    </tr>\n",
       "    <tr>\n",
       "      <th>2</th>\n",
       "      <td>https://lenta.ru/news/1914/09/17/nesteroff/</td>\n",
       "      <td>1914. Das ist Nesteroff!</td>\n",
       "      <td>Штабс-капитан П. Н. Нестеров на днях, увидев в...</td>\n",
       "      <td>Библиотека</td>\n",
       "      <td>Первая мировая</td>\n",
       "    </tr>\n",
       "    <tr>\n",
       "      <th>3</th>\n",
       "      <td>https://lenta.ru/news/1914/09/17/bulldogn/</td>\n",
       "      <td>1914. Бульдог-гонец под Льежем</td>\n",
       "      <td>Фотограф-корреспондент Daily Mirror рассказыва...</td>\n",
       "      <td>Библиотека</td>\n",
       "      <td>Первая мировая</td>\n",
       "    </tr>\n",
       "    <tr>\n",
       "      <th>4</th>\n",
       "      <td>https://lenta.ru/news/1914/09/18/zver/</td>\n",
       "      <td>1914. Под Люблином пойман швабский зверь</td>\n",
       "      <td>Лица, приехавшие в Варшаву из Люблина, передаю...</td>\n",
       "      <td>Библиотека</td>\n",
       "      <td>Первая мировая</td>\n",
       "    </tr>\n",
       "    <tr>\n",
       "      <th>...</th>\n",
       "      <td>...</td>\n",
       "      <td>...</td>\n",
       "      <td>...</td>\n",
       "      <td>...</td>\n",
       "      <td>...</td>\n",
       "    </tr>\n",
       "    <tr>\n",
       "      <th>9995</th>\n",
       "      <td>https://lenta.ru/news/2000/07/10/kpp/</td>\n",
       "      <td>На границе Дагестана и Чечни будут стрелять в ...</td>\n",
       "      <td>Глава МВД Дагестана приказал нарядам милиции н...</td>\n",
       "      <td>Россия</td>\n",
       "      <td>Все</td>\n",
       "    </tr>\n",
       "    <tr>\n",
       "      <th>9996</th>\n",
       "      <td>https://lenta.ru/news/2000/07/10/gossovet/</td>\n",
       "      <td>Путин пересадит губернаторов в Госсовет</td>\n",
       "      <td>Представители Кремля ведут активный диалог с г...</td>\n",
       "      <td>Россия</td>\n",
       "      <td>Все</td>\n",
       "    </tr>\n",
       "    <tr>\n",
       "      <th>9997</th>\n",
       "      <td>https://lenta.ru/news/2000/07/10/clowns/</td>\n",
       "      <td>В Москву съедутся клоуны со всего мира</td>\n",
       "      <td>В Москве 20 июля открывается фестиваль \"Планет...</td>\n",
       "      <td>Россия</td>\n",
       "      <td>Все</td>\n",
       "    </tr>\n",
       "    <tr>\n",
       "      <th>9998</th>\n",
       "      <td>https://lenta.ru/news/2000/07/10/women/</td>\n",
       "      <td>Старшая Уильямс выигрывает чемпионский титул</td>\n",
       "      <td>Чисто американским получился финал Уимблдонск...</td>\n",
       "      <td>Спорт</td>\n",
       "      <td>Все</td>\n",
       "    </tr>\n",
       "    <tr>\n",
       "      <th>9999</th>\n",
       "      <td>https://lenta.ru/news/2000/07/10/zenit/</td>\n",
       "      <td>\"Зенит\" выходит в третий раунд Кубка Интертото</td>\n",
       "      <td>Первым российским клубом, стартовавшим в сезон...</td>\n",
       "      <td>Спорт</td>\n",
       "      <td>Все</td>\n",
       "    </tr>\n",
       "  </tbody>\n",
       "</table>\n",
       "<p>10000 rows × 5 columns</p>\n",
       "</div>"
      ],
      "text/plain": [
       "                                              url  \\\n",
       "0      https://lenta.ru/news/1914/09/16/hungarnn/   \n",
       "1     https://lenta.ru/news/1914/09/16/lermontov/   \n",
       "2     https://lenta.ru/news/1914/09/17/nesteroff/   \n",
       "3      https://lenta.ru/news/1914/09/17/bulldogn/   \n",
       "4          https://lenta.ru/news/1914/09/18/zver/   \n",
       "...                                           ...   \n",
       "9995        https://lenta.ru/news/2000/07/10/kpp/   \n",
       "9996   https://lenta.ru/news/2000/07/10/gossovet/   \n",
       "9997     https://lenta.ru/news/2000/07/10/clowns/   \n",
       "9998      https://lenta.ru/news/2000/07/10/women/   \n",
       "9999      https://lenta.ru/news/2000/07/10/zenit/   \n",
       "\n",
       "                                                  title  \\\n",
       "0     1914. Русские войска вступили в пределы Венгрии     \n",
       "1     1914. Празднование столетия М.Ю. Лермонтова от...   \n",
       "2                              1914. Das ist Nesteroff!   \n",
       "3                       1914. Бульдог-гонец под Льежем    \n",
       "4              1914. Под Люблином пойман швабский зверь   \n",
       "...                                                 ...   \n",
       "9995  На границе Дагестана и Чечни будут стрелять в ...   \n",
       "9996            Путин пересадит губернаторов в Госсовет   \n",
       "9997             В Москву съедутся клоуны со всего мира   \n",
       "9998       Старшая Уильямс выигрывает чемпионский титул   \n",
       "9999     \"Зенит\" выходит в третий раунд Кубка Интертото   \n",
       "\n",
       "                                                   text       topic  \\\n",
       "0     Бои у Сопоцкина и Друскеник закончились отступ...  Библиотека   \n",
       "1     Министерство народного просвещения, в виду про...  Библиотека   \n",
       "2     Штабс-капитан П. Н. Нестеров на днях, увидев в...  Библиотека   \n",
       "3     Фотограф-корреспондент Daily Mirror рассказыва...  Библиотека   \n",
       "4     Лица, приехавшие в Варшаву из Люблина, передаю...  Библиотека   \n",
       "...                                                 ...         ...   \n",
       "9995  Глава МВД Дагестана приказал нарядам милиции н...      Россия   \n",
       "9996  Представители Кремля ведут активный диалог с г...      Россия   \n",
       "9997  В Москве 20 июля открывается фестиваль \"Планет...      Россия   \n",
       "9998   Чисто американским получился финал Уимблдонск...       Спорт   \n",
       "9999  Первым российским клубом, стартовавшим в сезон...       Спорт   \n",
       "\n",
       "                tags  \n",
       "0     Первая мировая  \n",
       "1     Первая мировая  \n",
       "2     Первая мировая  \n",
       "3     Первая мировая  \n",
       "4     Первая мировая  \n",
       "...              ...  \n",
       "9995             Все  \n",
       "9996             Все  \n",
       "9997             Все  \n",
       "9998             Все  \n",
       "9999             Все  \n",
       "\n",
       "[10000 rows x 5 columns]"
      ]
     },
     "execution_count": 4,
     "metadata": {},
     "output_type": "execute_result"
    }
   ],
   "source": [
    "news"
   ]
  },
  {
   "cell_type": "markdown",
   "id": "9d20ecee-a191-4dda-823a-934bae05a062",
   "metadata": {
    "jp-MarkdownHeadingCollapsed": true
   },
   "source": [
    "### Загрузка тонального словаря"
   ]
  },
  {
   "cell_type": "code",
   "execution_count": 5,
   "id": "39e8481c-df5f-4e92-b74f-64037b1efc82",
   "metadata": {},
   "outputs": [],
   "source": [
    "# Датасет тонального словаря\n",
    "url = 'https://raw.githubusercontent.com/dkulagin/kartaslov/master/dataset/kartaslovsent/kartaslovsent.csv'\n",
    "path = './kartaslovsent.csv'\n",
    "if not os.path.isfile(\"kartaslovsent.csv\"):\n",
    "    # Загружаем данные\n",
    "    wget.download(url, out=path)"
   ]
  },
  {
   "cell_type": "code",
   "execution_count": 6,
   "id": "0cbbb798-4d45-4ddd-98de-588df54040b5",
   "metadata": {},
   "outputs": [],
   "source": [
    "df_tone_dictionary = pd.read_csv('kartaslovsent.csv', sep=';', on_bad_lines='skip')"
   ]
  },
  {
   "cell_type": "code",
   "execution_count": 7,
   "id": "a3f8871b-c8f2-4a5a-8383-b2bbe9837775",
   "metadata": {},
   "outputs": [
    {
     "data": {
      "text/html": [
       "<div>\n",
       "<style scoped>\n",
       "    .dataframe tbody tr th:only-of-type {\n",
       "        vertical-align: middle;\n",
       "    }\n",
       "\n",
       "    .dataframe tbody tr th {\n",
       "        vertical-align: top;\n",
       "    }\n",
       "\n",
       "    .dataframe thead th {\n",
       "        text-align: right;\n",
       "    }\n",
       "</style>\n",
       "<table border=\"1\" class=\"dataframe\">\n",
       "  <thead>\n",
       "    <tr style=\"text-align: right;\">\n",
       "      <th></th>\n",
       "      <th>term</th>\n",
       "      <th>tag</th>\n",
       "      <th>value</th>\n",
       "      <th>pstv</th>\n",
       "      <th>ngtv</th>\n",
       "      <th>neut</th>\n",
       "      <th>dunno</th>\n",
       "      <th>pstvNgtvDisagreementRatio</th>\n",
       "    </tr>\n",
       "  </thead>\n",
       "  <tbody>\n",
       "    <tr>\n",
       "      <th>0</th>\n",
       "      <td>абажур</td>\n",
       "      <td>NEUT</td>\n",
       "      <td>0.08</td>\n",
       "      <td>0.185</td>\n",
       "      <td>0.037</td>\n",
       "      <td>0.580</td>\n",
       "      <td>0.198</td>\n",
       "      <td>0.00</td>\n",
       "    </tr>\n",
       "    <tr>\n",
       "      <th>1</th>\n",
       "      <td>аббатство</td>\n",
       "      <td>NEUT</td>\n",
       "      <td>0.10</td>\n",
       "      <td>0.192</td>\n",
       "      <td>0.038</td>\n",
       "      <td>0.578</td>\n",
       "      <td>0.192</td>\n",
       "      <td>0.00</td>\n",
       "    </tr>\n",
       "    <tr>\n",
       "      <th>2</th>\n",
       "      <td>аббревиатура</td>\n",
       "      <td>NEUT</td>\n",
       "      <td>0.08</td>\n",
       "      <td>0.196</td>\n",
       "      <td>0.000</td>\n",
       "      <td>0.630</td>\n",
       "      <td>0.174</td>\n",
       "      <td>0.00</td>\n",
       "    </tr>\n",
       "    <tr>\n",
       "      <th>3</th>\n",
       "      <td>абзац</td>\n",
       "      <td>NEUT</td>\n",
       "      <td>0.00</td>\n",
       "      <td>0.137</td>\n",
       "      <td>0.000</td>\n",
       "      <td>0.706</td>\n",
       "      <td>0.157</td>\n",
       "      <td>0.00</td>\n",
       "    </tr>\n",
       "    <tr>\n",
       "      <th>4</th>\n",
       "      <td>абиссинец</td>\n",
       "      <td>NEUT</td>\n",
       "      <td>0.28</td>\n",
       "      <td>0.151</td>\n",
       "      <td>0.113</td>\n",
       "      <td>0.245</td>\n",
       "      <td>0.491</td>\n",
       "      <td>0.19</td>\n",
       "    </tr>\n",
       "    <tr>\n",
       "      <th>...</th>\n",
       "      <td>...</td>\n",
       "      <td>...</td>\n",
       "      <td>...</td>\n",
       "      <td>...</td>\n",
       "      <td>...</td>\n",
       "      <td>...</td>\n",
       "      <td>...</td>\n",
       "      <td>...</td>\n",
       "    </tr>\n",
       "    <tr>\n",
       "      <th>46122</th>\n",
       "      <td>ёмкость</td>\n",
       "      <td>NEUT</td>\n",
       "      <td>0.00</td>\n",
       "      <td>0.167</td>\n",
       "      <td>0.000</td>\n",
       "      <td>0.690</td>\n",
       "      <td>0.143</td>\n",
       "      <td>0.00</td>\n",
       "    </tr>\n",
       "    <tr>\n",
       "      <th>46123</th>\n",
       "      <td>ёрзать</td>\n",
       "      <td>NGTV</td>\n",
       "      <td>-0.54</td>\n",
       "      <td>0.050</td>\n",
       "      <td>0.446</td>\n",
       "      <td>0.397</td>\n",
       "      <td>0.107</td>\n",
       "      <td>0.00</td>\n",
       "    </tr>\n",
       "    <tr>\n",
       "      <th>46124</th>\n",
       "      <td>ёрничать</td>\n",
       "      <td>NGTV</td>\n",
       "      <td>-0.79</td>\n",
       "      <td>0.078</td>\n",
       "      <td>0.529</td>\n",
       "      <td>0.236</td>\n",
       "      <td>0.157</td>\n",
       "      <td>0.00</td>\n",
       "    </tr>\n",
       "    <tr>\n",
       "      <th>46125</th>\n",
       "      <td>ёрш</td>\n",
       "      <td>NEUT</td>\n",
       "      <td>0.16</td>\n",
       "      <td>0.224</td>\n",
       "      <td>0.072</td>\n",
       "      <td>0.576</td>\n",
       "      <td>0.128</td>\n",
       "      <td>0.00</td>\n",
       "    </tr>\n",
       "    <tr>\n",
       "      <th>46126</th>\n",
       "      <td>ёршик</td>\n",
       "      <td>NEUT</td>\n",
       "      <td>0.00</td>\n",
       "      <td>0.152</td>\n",
       "      <td>0.043</td>\n",
       "      <td>0.718</td>\n",
       "      <td>0.087</td>\n",
       "      <td>0.00</td>\n",
       "    </tr>\n",
       "  </tbody>\n",
       "</table>\n",
       "<p>46127 rows × 8 columns</p>\n",
       "</div>"
      ],
      "text/plain": [
       "               term   tag  value   pstv   ngtv   neut  dunno  \\\n",
       "0            абажур  NEUT   0.08  0.185  0.037  0.580  0.198   \n",
       "1         аббатство  NEUT   0.10  0.192  0.038  0.578  0.192   \n",
       "2      аббревиатура  NEUT   0.08  0.196  0.000  0.630  0.174   \n",
       "3             абзац  NEUT   0.00  0.137  0.000  0.706  0.157   \n",
       "4         абиссинец  NEUT   0.28  0.151  0.113  0.245  0.491   \n",
       "...             ...   ...    ...    ...    ...    ...    ...   \n",
       "46122       ёмкость  NEUT   0.00  0.167  0.000  0.690  0.143   \n",
       "46123        ёрзать  NGTV  -0.54  0.050  0.446  0.397  0.107   \n",
       "46124      ёрничать  NGTV  -0.79  0.078  0.529  0.236  0.157   \n",
       "46125           ёрш  NEUT   0.16  0.224  0.072  0.576  0.128   \n",
       "46126         ёршик  NEUT   0.00  0.152  0.043  0.718  0.087   \n",
       "\n",
       "       pstvNgtvDisagreementRatio  \n",
       "0                           0.00  \n",
       "1                           0.00  \n",
       "2                           0.00  \n",
       "3                           0.00  \n",
       "4                           0.19  \n",
       "...                          ...  \n",
       "46122                       0.00  \n",
       "46123                       0.00  \n",
       "46124                       0.00  \n",
       "46125                       0.00  \n",
       "46126                       0.00  \n",
       "\n",
       "[46127 rows x 8 columns]"
      ]
     },
     "execution_count": 7,
     "metadata": {},
     "output_type": "execute_result"
    }
   ],
   "source": [
    "df_tone_dictionary"
   ]
  },
  {
   "cell_type": "markdown",
   "id": "05b65ed0-1f36-4ae2-a308-ce7d9e5ddc93",
   "metadata": {},
   "source": [
    "## Присваивание метки настроения заголовкам новостей"
   ]
  },
  {
   "cell_type": "markdown",
   "id": "f236346e-4b34-4c9b-9c0b-3b5527c0e77f",
   "metadata": {
    "jp-MarkdownHeadingCollapsed": true
   },
   "source": [
    "### Перемешаем и разделим датафрейм на три части (1-разметка в ручную, 2-разметка на основе правил, 3-разметка с помощью блиотеки TextBlob)"
   ]
  },
  {
   "cell_type": "code",
   "execution_count": 14,
   "id": "e9300e38-2903-45a6-a0b7-4305fc725f41",
   "metadata": {},
   "outputs": [],
   "source": [
    "# Перемешаем и разделим датафрем на 3 части\n",
    "title_news_1, title_news_2 = train_test_split(news['title'], train_size=5)\n",
    "title_news_2, title_news_3 = train_test_split(title_news_2, train_size=50)"
   ]
  },
  {
   "cell_type": "code",
   "execution_count": 15,
   "id": "075b0620-7aa6-496e-ab1b-53b215bafa44",
   "metadata": {},
   "outputs": [],
   "source": [
    "# Преобразуем полученые датасеты в датафреймы Pandas\n",
    "df_title_news_1 = pd.DataFrame(title_news_1)\n",
    "df_title_news_2 = pd.DataFrame(title_news_2)\n",
    "df_title_news_3 = pd.DataFrame(title_news_3)"
   ]
  },
  {
   "cell_type": "code",
   "execution_count": 16,
   "id": "5e897675-9888-4cd1-8e3c-5db5f866bea5",
   "metadata": {},
   "outputs": [
    {
     "data": {
      "text/html": [
       "<div>\n",
       "<style scoped>\n",
       "    .dataframe tbody tr th:only-of-type {\n",
       "        vertical-align: middle;\n",
       "    }\n",
       "\n",
       "    .dataframe tbody tr th {\n",
       "        vertical-align: top;\n",
       "    }\n",
       "\n",
       "    .dataframe thead th {\n",
       "        text-align: right;\n",
       "    }\n",
       "</style>\n",
       "<table border=\"1\" class=\"dataframe\">\n",
       "  <thead>\n",
       "    <tr style=\"text-align: right;\">\n",
       "      <th></th>\n",
       "      <th>title</th>\n",
       "    </tr>\n",
       "  </thead>\n",
       "  <tbody>\n",
       "    <tr>\n",
       "      <th>4767</th>\n",
       "      <td>Панк-рокера Элвиса Костелло продают в оцифрова...</td>\n",
       "    </tr>\n",
       "    <tr>\n",
       "      <th>3156</th>\n",
       "      <td>Наркоман Диего Марадона вышел из реанимации</td>\n",
       "    </tr>\n",
       "    <tr>\n",
       "      <th>1066</th>\n",
       "      <td>Треть российских компьютерных систем не готова...</td>\n",
       "    </tr>\n",
       "    <tr>\n",
       "      <th>4735</th>\n",
       "      <td>Корреспондент немецкой телекомпании Франк Хефл...</td>\n",
       "    </tr>\n",
       "    <tr>\n",
       "      <th>3958</th>\n",
       "      <td>Полиция Мексики взяла штурмом Национальный уни...</td>\n",
       "    </tr>\n",
       "  </tbody>\n",
       "</table>\n",
       "</div>"
      ],
      "text/plain": [
       "                                                  title\n",
       "4767  Панк-рокера Элвиса Костелло продают в оцифрова...\n",
       "3156        Наркоман Диего Марадона вышел из реанимации\n",
       "1066  Треть российских компьютерных систем не готова...\n",
       "4735  Корреспондент немецкой телекомпании Франк Хефл...\n",
       "3958  Полиция Мексики взяла штурмом Национальный уни..."
      ]
     },
     "execution_count": 16,
     "metadata": {},
     "output_type": "execute_result"
    }
   ],
   "source": [
    "df_title_news_1.head()"
   ]
  },
  {
   "cell_type": "code",
   "execution_count": 17,
   "id": "b07a9a65-b121-4b79-91c4-383c24276b11",
   "metadata": {},
   "outputs": [
    {
     "data": {
      "text/html": [
       "<div>\n",
       "<style scoped>\n",
       "    .dataframe tbody tr th:only-of-type {\n",
       "        vertical-align: middle;\n",
       "    }\n",
       "\n",
       "    .dataframe tbody tr th {\n",
       "        vertical-align: top;\n",
       "    }\n",
       "\n",
       "    .dataframe thead th {\n",
       "        text-align: right;\n",
       "    }\n",
       "</style>\n",
       "<table border=\"1\" class=\"dataframe\">\n",
       "  <thead>\n",
       "    <tr style=\"text-align: right;\">\n",
       "      <th></th>\n",
       "      <th>title</th>\n",
       "    </tr>\n",
       "  </thead>\n",
       "  <tbody>\n",
       "    <tr>\n",
       "      <th>7405</th>\n",
       "      <td>В Чечне пропал самолет-разведчик СУ-24</td>\n",
       "    </tr>\n",
       "    <tr>\n",
       "      <th>6075</th>\n",
       "      <td>АРКО взяло в управление Башпромбанк и расплати...</td>\n",
       "    </tr>\n",
       "    <tr>\n",
       "      <th>7684</th>\n",
       "      <td>МПС готовится отдать пассажирские перевозки ча...</td>\n",
       "    </tr>\n",
       "    <tr>\n",
       "      <th>954</th>\n",
       "      <td>Ставки в \"деле Аэрофлота\" выросли до 600.000.0...</td>\n",
       "    </tr>\n",
       "    <tr>\n",
       "      <th>8059</th>\n",
       "      <td>\"Газпром\" сократит поставки газа энергетикам</td>\n",
       "    </tr>\n",
       "  </tbody>\n",
       "</table>\n",
       "</div>"
      ],
      "text/plain": [
       "                                                  title\n",
       "7405             В Чечне пропал самолет-разведчик СУ-24\n",
       "6075  АРКО взяло в управление Башпромбанк и расплати...\n",
       "7684  МПС готовится отдать пассажирские перевозки ча...\n",
       "954   Ставки в \"деле Аэрофлота\" выросли до 600.000.0...\n",
       "8059       \"Газпром\" сократит поставки газа энергетикам"
      ]
     },
     "execution_count": 17,
     "metadata": {},
     "output_type": "execute_result"
    }
   ],
   "source": [
    "df_title_news_2.head()"
   ]
  },
  {
   "cell_type": "code",
   "execution_count": 18,
   "id": "0a8782c8-9507-4702-ab81-fd66196948b8",
   "metadata": {},
   "outputs": [
    {
     "data": {
      "text/html": [
       "<div>\n",
       "<style scoped>\n",
       "    .dataframe tbody tr th:only-of-type {\n",
       "        vertical-align: middle;\n",
       "    }\n",
       "\n",
       "    .dataframe tbody tr th {\n",
       "        vertical-align: top;\n",
       "    }\n",
       "\n",
       "    .dataframe thead th {\n",
       "        text-align: right;\n",
       "    }\n",
       "</style>\n",
       "<table border=\"1\" class=\"dataframe\">\n",
       "  <thead>\n",
       "    <tr style=\"text-align: right;\">\n",
       "      <th></th>\n",
       "      <th>title</th>\n",
       "    </tr>\n",
       "  </thead>\n",
       "  <tbody>\n",
       "    <tr>\n",
       "      <th>618</th>\n",
       "      <td>МВФ требует от Центробанка закрыть зарубежные ...</td>\n",
       "    </tr>\n",
       "    <tr>\n",
       "      <th>404</th>\n",
       "      <td>У Маркеса выявлен рак лимфы</td>\n",
       "    </tr>\n",
       "    <tr>\n",
       "      <th>7551</th>\n",
       "      <td>Жириновский поможет журналу Forbes обвинить Бе...</td>\n",
       "    </tr>\n",
       "    <tr>\n",
       "      <th>8065</th>\n",
       "      <td>Цены на бензин вырастут на 30 процентов?</td>\n",
       "    </tr>\n",
       "    <tr>\n",
       "      <th>5896</th>\n",
       "      <td>Черепков уверен в победе над владивостокским и...</td>\n",
       "    </tr>\n",
       "  </tbody>\n",
       "</table>\n",
       "</div>"
      ],
      "text/plain": [
       "                                                  title\n",
       "618   МВФ требует от Центробанка закрыть зарубежные ...\n",
       "404                         У Маркеса выявлен рак лимфы\n",
       "7551  Жириновский поможет журналу Forbes обвинить Бе...\n",
       "8065           Цены на бензин вырастут на 30 процентов?\n",
       "5896  Черепков уверен в победе над владивостокским и..."
      ]
     },
     "execution_count": 18,
     "metadata": {},
     "output_type": "execute_result"
    }
   ],
   "source": [
    "df_title_news_3.head()"
   ]
  },
  {
   "cell_type": "markdown",
   "id": "9d81a3d3-7212-40ca-9143-88ec4804bc7a",
   "metadata": {
    "jp-MarkdownHeadingCollapsed": true
   },
   "source": [
    "### Опредиление функций"
   ]
  },
  {
   "cell_type": "code",
   "execution_count": 19,
   "id": "e67f3444-722a-4917-ad26-60c826d5d035",
   "metadata": {},
   "outputs": [],
   "source": [
    "# Функция для присвоения метки настроения на основе наличия положительных или отрицательных слов\n",
    "def get_sentiment_my_func(text, df_td=df_tone_dictionary):\n",
    "    '''\n",
    "    Функция вычисляет метрику настроения.\n",
    "\n",
    "    :param text: текст который будем анализировать,\n",
    "    :param df_td: тональный словарь,\n",
    "    :return: возвращает оценку тональности: -0.35 (неготив) <= нейтрально >= (0.55) позитив \n",
    "    '''\n",
    "    # Токенизация текста на отдельные слова\n",
    "    words = nltk.word_tokenize(text.lower())\n",
    "    count = 0      # Счетчик найденных слов\n",
    "    sum_value = 0  # Сумма всех зачений весов найденных слов\n",
    "    \n",
    "    for word in words:\n",
    "        if len(df_td[df_td.term == word]):\n",
    "            count += 1\n",
    "            df_filtered = df_td[df_td['term'] == word]\n",
    "            value = df_filtered['value'].iloc[0]\n",
    "            sum_value += value\n",
    "    if count:\n",
    "        sum_value = sum_value/count\n",
    "  \n",
    "    return sum_value   \n"
   ]
  },
  {
   "cell_type": "code",
   "execution_count": 20,
   "id": "aa9327a0-ab87-47f8-a393-32e69da3245c",
   "metadata": {},
   "outputs": [],
   "source": [
    "# Функция присвоения метки настроения библиотеки TextBlob\n",
    "def get_sentiment_blob(text):\n",
    "    '''\n",
    "    Функция вычисляет метрику настроения.\n",
    "\n",
    "    :param text: текст который будем анализировать,\n",
    "    :return: возвращает оценку тональности. \n",
    "    '''\n",
    "    blob = TextBlob(text)\n",
    "    return blob.sentiment.polarity"
   ]
  },
  {
   "cell_type": "code",
   "execution_count": 21,
   "id": "6344c0cd-e48e-43a4-9242-cdad8895e3e0",
   "metadata": {},
   "outputs": [],
   "source": [
    "# Определение функции для присвоения метки настроения на основе оценки полярности настроения\n",
    "def get_sentiment_label(score):\n",
    "    '''\n",
    "    Функция выводит метку настроения (негативный, позитивный или нейтральный).\n",
    "\n",
    "    :param score: уровень метки настроения от -1 до 1,\n",
    "    :return: возвращает оценку тональности. \n",
    "    '''\n",
    "    if score < -0.35:\n",
    "        return 'negative'  \n",
    "    elif score > 0.55:\n",
    "        return 'positive' \n",
    "    else:\n",
    "        return 'neutral'"
   ]
  },
  {
   "cell_type": "markdown",
   "id": "faba75ef-0da6-42e1-a249-26c1f6067365",
   "metadata": {},
   "source": [
    "### Присваиваем метки"
   ]
  },
  {
   "cell_type": "markdown",
   "id": "bc982877-0003-40cb-8556-3ee9ddefdb52",
   "metadata": {
    "jp-MarkdownHeadingCollapsed": true
   },
   "source": [
    "#### Присвоение меток настроения на основе правил"
   ]
  },
  {
   "cell_type": "code",
   "execution_count": 36,
   "id": "4a6cf815-d83d-4f0f-845a-7ca5c942aff0",
   "metadata": {},
   "outputs": [],
   "source": [
    "# Применение функции к столбцу 'title' датасета для получения полярности настроения каждого заголовка новости\n",
    "df_title_news_2['sentiment'] = df_title_news_2['title'].apply(get_sentiment_my_func)\n",
    "# Применение функции к столбцу 'sentiment' датасета для присвоения меток настроения\n",
    "df_title_news_2['sentiment_label'] = df_title_news_2['sentiment'].apply(get_sentiment_label)"
   ]
  },
  {
   "cell_type": "code",
   "execution_count": 37,
   "id": "17a3944b-188e-4c0e-8324-10bf9f41e04d",
   "metadata": {},
   "outputs": [
    {
     "data": {
      "text/html": [
       "<div>\n",
       "<style scoped>\n",
       "    .dataframe tbody tr th:only-of-type {\n",
       "        vertical-align: middle;\n",
       "    }\n",
       "\n",
       "    .dataframe tbody tr th {\n",
       "        vertical-align: top;\n",
       "    }\n",
       "\n",
       "    .dataframe thead th {\n",
       "        text-align: right;\n",
       "    }\n",
       "</style>\n",
       "<table border=\"1\" class=\"dataframe\">\n",
       "  <thead>\n",
       "    <tr style=\"text-align: right;\">\n",
       "      <th></th>\n",
       "      <th>title</th>\n",
       "      <th>sentiment</th>\n",
       "      <th>sentiment_label</th>\n",
       "    </tr>\n",
       "  </thead>\n",
       "  <tbody>\n",
       "    <tr>\n",
       "      <th>7405</th>\n",
       "      <td>В Чечне пропал самолет-разведчик СУ-24</td>\n",
       "      <td>0.00</td>\n",
       "      <td>neutral</td>\n",
       "    </tr>\n",
       "    <tr>\n",
       "      <th>6075</th>\n",
       "      <td>АРКО взяло в управление Башпромбанк и расплати...</td>\n",
       "      <td>0.34</td>\n",
       "      <td>neutral</td>\n",
       "    </tr>\n",
       "    <tr>\n",
       "      <th>7684</th>\n",
       "      <td>МПС готовится отдать пассажирские перевозки ча...</td>\n",
       "      <td>0.36</td>\n",
       "      <td>neutral</td>\n",
       "    </tr>\n",
       "    <tr>\n",
       "      <th>954</th>\n",
       "      <td>Ставки в \"деле Аэрофлота\" выросли до 600.000.0...</td>\n",
       "      <td>0.00</td>\n",
       "      <td>neutral</td>\n",
       "    </tr>\n",
       "    <tr>\n",
       "      <th>8059</th>\n",
       "      <td>\"Газпром\" сократит поставки газа энергетикам</td>\n",
       "      <td>0.00</td>\n",
       "      <td>neutral</td>\n",
       "    </tr>\n",
       "  </tbody>\n",
       "</table>\n",
       "</div>"
      ],
      "text/plain": [
       "                                                  title  sentiment  \\\n",
       "7405             В Чечне пропал самолет-разведчик СУ-24       0.00   \n",
       "6075  АРКО взяло в управление Башпромбанк и расплати...       0.34   \n",
       "7684  МПС готовится отдать пассажирские перевозки ча...       0.36   \n",
       "954   Ставки в \"деле Аэрофлота\" выросли до 600.000.0...       0.00   \n",
       "8059       \"Газпром\" сократит поставки газа энергетикам       0.00   \n",
       "\n",
       "     sentiment_label  \n",
       "7405         neutral  \n",
       "6075         neutral  \n",
       "7684         neutral  \n",
       "954          neutral  \n",
       "8059         neutral  "
      ]
     },
     "execution_count": 37,
     "metadata": {},
     "output_type": "execute_result"
    }
   ],
   "source": [
    "df_title_news_2.head()"
   ]
  },
  {
   "cell_type": "markdown",
   "id": "4ab94805-e5c6-4413-b29d-7d5b2c32b25d",
   "metadata": {
    "jp-MarkdownHeadingCollapsed": true
   },
   "source": [
    "#### Присвоения меток настроения на основе модуля TextBlob"
   ]
  },
  {
   "cell_type": "code",
   "execution_count": 38,
   "id": "d410bdb9-fc5d-4e73-b36f-06799461bb22",
   "metadata": {},
   "outputs": [],
   "source": [
    "# Применение функции к столбцу 'title' датасета для получения полярности настроения каждого заголовка новости\n",
    "df_title_news_3['sentiment'] = df_title_news_3['title'].apply(get_sentiment_blob)\n",
    "# Применение функции к столбцу 'sentiment' датасета для присвоения меток настроения\n",
    "df_title_news_3['sentiment_label'] = df_title_news_3['sentiment'].apply(get_sentiment_label)"
   ]
  },
  {
   "cell_type": "code",
   "execution_count": 39,
   "id": "6ea58bfd-6f46-44d5-9324-75fbd62a58f6",
   "metadata": {},
   "outputs": [
    {
     "data": {
      "text/html": [
       "<div>\n",
       "<style scoped>\n",
       "    .dataframe tbody tr th:only-of-type {\n",
       "        vertical-align: middle;\n",
       "    }\n",
       "\n",
       "    .dataframe tbody tr th {\n",
       "        vertical-align: top;\n",
       "    }\n",
       "\n",
       "    .dataframe thead th {\n",
       "        text-align: right;\n",
       "    }\n",
       "</style>\n",
       "<table border=\"1\" class=\"dataframe\">\n",
       "  <thead>\n",
       "    <tr style=\"text-align: right;\">\n",
       "      <th></th>\n",
       "      <th>title</th>\n",
       "      <th>sentiment</th>\n",
       "      <th>sentiment_label</th>\n",
       "    </tr>\n",
       "  </thead>\n",
       "  <tbody>\n",
       "    <tr>\n",
       "      <th>618</th>\n",
       "      <td>МВФ требует от Центробанка закрыть зарубежные ...</td>\n",
       "      <td>0.0</td>\n",
       "      <td>neutral</td>\n",
       "    </tr>\n",
       "    <tr>\n",
       "      <th>404</th>\n",
       "      <td>У Маркеса выявлен рак лимфы</td>\n",
       "      <td>0.0</td>\n",
       "      <td>neutral</td>\n",
       "    </tr>\n",
       "    <tr>\n",
       "      <th>7551</th>\n",
       "      <td>Жириновский поможет журналу Forbes обвинить Бе...</td>\n",
       "      <td>0.0</td>\n",
       "      <td>neutral</td>\n",
       "    </tr>\n",
       "    <tr>\n",
       "      <th>8065</th>\n",
       "      <td>Цены на бензин вырастут на 30 процентов?</td>\n",
       "      <td>0.0</td>\n",
       "      <td>neutral</td>\n",
       "    </tr>\n",
       "    <tr>\n",
       "      <th>5896</th>\n",
       "      <td>Черепков уверен в победе над владивостокским и...</td>\n",
       "      <td>0.0</td>\n",
       "      <td>neutral</td>\n",
       "    </tr>\n",
       "  </tbody>\n",
       "</table>\n",
       "</div>"
      ],
      "text/plain": [
       "                                                  title  sentiment  \\\n",
       "618   МВФ требует от Центробанка закрыть зарубежные ...        0.0   \n",
       "404                         У Маркеса выявлен рак лимфы        0.0   \n",
       "7551  Жириновский поможет журналу Forbes обвинить Бе...        0.0   \n",
       "8065           Цены на бензин вырастут на 30 процентов?        0.0   \n",
       "5896  Черепков уверен в победе над владивостокским и...        0.0   \n",
       "\n",
       "     sentiment_label  \n",
       "618          neutral  \n",
       "404          neutral  \n",
       "7551         neutral  \n",
       "8065         neutral  \n",
       "5896         neutral  "
      ]
     },
     "execution_count": 39,
     "metadata": {},
     "output_type": "execute_result"
    }
   ],
   "source": [
    "df_title_news_3.head()"
   ]
  },
  {
   "cell_type": "markdown",
   "id": "b2a8c0a0-f160-49f1-9eb8-271340bdbe2f",
   "metadata": {},
   "source": [
    "#### Далее"
   ]
  },
  {
   "cell_type": "code",
   "execution_count": null,
   "id": "8de78cfd-ce72-4b77-bb3d-d5aed0e3ae91",
   "metadata": {},
   "outputs": [],
   "source": []
  },
  {
   "cell_type": "code",
   "execution_count": null,
   "id": "8e3045a3-1a32-44de-aa3a-04f90f6f0106",
   "metadata": {},
   "outputs": [],
   "source": []
  },
  {
   "cell_type": "code",
   "execution_count": null,
   "id": "cf7aadc6-96aa-414b-a573-21364fb63e88",
   "metadata": {},
   "outputs": [],
   "source": []
  },
  {
   "cell_type": "code",
   "execution_count": 140,
   "id": "622db3d8-ba5c-46b8-a7ba-ecdcf5c75e51",
   "metadata": {},
   "outputs": [],
   "source": [
    "words = get_sentiment(reviews['text'].iloc[0], df_tone_dictionary)\n"
   ]
  },
  {
   "cell_type": "code",
   "execution_count": 141,
   "id": "c939c088-1c71-4909-ae61-6cd5e9b5867e",
   "metadata": {},
   "outputs": [
    {
     "data": {
      "text/plain": [
       "('NEUT', -0.07416666666666667)"
      ]
     },
     "execution_count": 141,
     "metadata": {},
     "output_type": "execute_result"
    }
   ],
   "source": [
    "words"
   ]
  },
  {
   "cell_type": "code",
   "execution_count": 123,
   "id": "a92cf98d-74fa-4449-937b-58b3ad322a57",
   "metadata": {},
   "outputs": [
    {
     "name": "stdout",
     "output_type": "stream",
     "text": [
      "('неприятель', -1.0)\n",
      "('участие', 0.59)\n",
      "('огонь', 0.27)\n",
      "('попытка', 0.43)\n",
      "('пробиться', 0.68)\n",
      "('шоссе', 0.02)\n",
      "('перемешивание', 0.0)\n",
      "('часть', 0.0)\n",
      "('неприятельский', -1.0)\n",
      "('отряд', 0.0)\n",
      "('преследовать', -0.43)\n",
      "('инвалид', -0.45)\n",
      "sum_value/count =-0.07416666666666667\n"
     ]
    }
   ],
   "source": [
    "count = 0      # Счетчик найденных слов\n",
    "sum_value = 0  # Сумма всех зачений весов найденных слов\n",
    "for word in words:\n",
    "    if len(loyln[loyln.term == word]):\n",
    "        count += 1\n",
    "        df_filtered = loyln[loyln['term'] == word]\n",
    "        value = df_filtered['value'].iloc[0]\n",
    "        sum_value += value\n",
    "if count:\n",
    "    sum_value = sum_value/count"
   ]
  },
  {
   "cell_type": "code",
   "execution_count": 64,
   "id": "2e2ddb7f-7855-4c9c-af09-bd95a2473d80",
   "metadata": {},
   "outputs": [
    {
     "data": {
      "text/html": [
       "<div>\n",
       "<style scoped>\n",
       "    .dataframe tbody tr th:only-of-type {\n",
       "        vertical-align: middle;\n",
       "    }\n",
       "\n",
       "    .dataframe tbody tr th {\n",
       "        vertical-align: top;\n",
       "    }\n",
       "\n",
       "    .dataframe thead th {\n",
       "        text-align: right;\n",
       "    }\n",
       "</style>\n",
       "<table border=\"1\" class=\"dataframe\">\n",
       "  <thead>\n",
       "    <tr style=\"text-align: right;\">\n",
       "      <th></th>\n",
       "      <th>term</th>\n",
       "      <th>tag</th>\n",
       "      <th>value</th>\n",
       "      <th>pstv</th>\n",
       "      <th>ngtv</th>\n",
       "      <th>neut</th>\n",
       "      <th>dunno</th>\n",
       "      <th>pstvNgtvDisagreementRatio</th>\n",
       "    </tr>\n",
       "  </thead>\n",
       "  <tbody>\n",
       "  </tbody>\n",
       "</table>\n",
       "</div>"
      ],
      "text/plain": [
       "Empty DataFrame\n",
       "Columns: [term, tag, value, pstv, ngtv, neut, dunno, pstvNgtvDisagreementRatio]\n",
       "Index: []"
      ]
     },
     "execution_count": 64,
     "metadata": {},
     "output_type": "execute_result"
    }
   ],
   "source": [
    "r"
   ]
  },
  {
   "cell_type": "code",
   "execution_count": null,
   "id": "8d04a575-8692-469a-a8d3-75e85f47ef62",
   "metadata": {},
   "outputs": [],
   "source": []
  },
  {
   "cell_type": "code",
   "execution_count": null,
   "id": "a1c07487-2e7c-49a8-b628-5f4c70760b00",
   "metadata": {},
   "outputs": [],
   "source": []
  },
  {
   "cell_type": "code",
   "execution_count": null,
   "id": "771125f4-2980-4b51-9b15-98c985717722",
   "metadata": {},
   "outputs": [],
   "source": []
  },
  {
   "cell_type": "code",
   "execution_count": 90,
   "id": "dc93e74c-1b3e-479a-a8f1-5a0397b7ec63",
   "metadata": {
    "editable": true,
    "slideshow": {
     "slide_type": ""
    },
    "tags": []
   },
   "outputs": [],
   "source": [
    "# from corus import load_lenta2\n",
    "\n",
    "# # Датасет с ноаостями lenta.ru\n",
    "# url = 'https://github.com/natasha/corus/blob/master/data/lenta-ru-news.csv.bz2'\n",
    "# path = './lenta-ru-news.csv.bz2'\n",
    "# # if not os.path.isfile(\"lenta-ru-news.csv.bz2\"):\n",
    "#     # Загружаем данные\n",
    "# # wget.download(url, out=path)\n",
    "# # Создаем генратор с новостями с lenta.ru\n",
    "# records = load_lenta2(path)\n",
    "# # Добаляем текст новостей в словарь\n",
    "# # news_dict = {'text': [next(records).text for _ in range(4_000)]}\n",
    "# news_list = [{'url':item.url, 'title':item.title, 'text':item.text, 'topic':item.topic, 'tags':item.tags} for item in records]\n",
    "# # next(records)"
   ]
  },
  {
   "cell_type": "code",
   "execution_count": 91,
   "id": "017e41d1-c4dd-46a4-9d78-99d7af7e5529",
   "metadata": {},
   "outputs": [
    {
     "data": {
      "text/plain": [
       "800975"
      ]
     },
     "execution_count": 91,
     "metadata": {},
     "output_type": "execute_result"
    }
   ],
   "source": [
    "# len(news_list)"
   ]
  },
  {
   "cell_type": "code",
   "execution_count": 178,
   "id": "000ea856-2147-45be-8bc9-11f70fcfca79",
   "metadata": {},
   "outputs": [],
   "source": [
    "# list2 = [news_list[i] for i in range(10_000)]"
   ]
  },
  {
   "cell_type": "code",
   "execution_count": 179,
   "id": "ebef742f-652e-4cdf-83c8-3f594d32c5bd",
   "metadata": {},
   "outputs": [
    {
     "data": {
      "text/plain": [
       "10000"
      ]
     },
     "execution_count": 179,
     "metadata": {},
     "output_type": "execute_result"
    }
   ],
   "source": [
    "# len(list2)"
   ]
  },
  {
   "cell_type": "code",
   "execution_count": 180,
   "id": "b104e23a-c23e-42b3-a3e8-9f7626447e03",
   "metadata": {},
   "outputs": [],
   "source": [
    "# # Создаём датафрем\n",
    "# df = pd.DataFrame(list2)\n",
    "# df.to_csv('news_lenta_ru.csv', encoding='utf-8', index=False)\n"
   ]
  },
  {
   "cell_type": "code",
   "execution_count": 181,
   "id": "1e0051ab-20e9-4b88-812d-96c2bf039dec",
   "metadata": {},
   "outputs": [
    {
     "data": {
      "text/html": [
       "<div>\n",
       "<style scoped>\n",
       "    .dataframe tbody tr th:only-of-type {\n",
       "        vertical-align: middle;\n",
       "    }\n",
       "\n",
       "    .dataframe tbody tr th {\n",
       "        vertical-align: top;\n",
       "    }\n",
       "\n",
       "    .dataframe thead th {\n",
       "        text-align: right;\n",
       "    }\n",
       "</style>\n",
       "<table border=\"1\" class=\"dataframe\">\n",
       "  <thead>\n",
       "    <tr style=\"text-align: right;\">\n",
       "      <th></th>\n",
       "      <th>url</th>\n",
       "      <th>title</th>\n",
       "      <th>text</th>\n",
       "      <th>topic</th>\n",
       "      <th>tags</th>\n",
       "    </tr>\n",
       "  </thead>\n",
       "  <tbody>\n",
       "    <tr>\n",
       "      <th>0</th>\n",
       "      <td>https://lenta.ru/news/1914/09/16/hungarnn/</td>\n",
       "      <td>1914. Русские войска вступили в пределы Венгрии</td>\n",
       "      <td>Бои у Сопоцкина и Друскеник закончились отступ...</td>\n",
       "      <td>Библиотека</td>\n",
       "      <td>Первая мировая</td>\n",
       "    </tr>\n",
       "    <tr>\n",
       "      <th>1</th>\n",
       "      <td>https://lenta.ru/news/1914/09/16/lermontov/</td>\n",
       "      <td>1914. Празднование столетия М.Ю. Лермонтова от...</td>\n",
       "      <td>Министерство народного просвещения, в виду про...</td>\n",
       "      <td>Библиотека</td>\n",
       "      <td>Первая мировая</td>\n",
       "    </tr>\n",
       "    <tr>\n",
       "      <th>2</th>\n",
       "      <td>https://lenta.ru/news/1914/09/17/nesteroff/</td>\n",
       "      <td>1914. Das ist Nesteroff!</td>\n",
       "      <td>Штабс-капитан П. Н. Нестеров на днях, увидев в...</td>\n",
       "      <td>Библиотека</td>\n",
       "      <td>Первая мировая</td>\n",
       "    </tr>\n",
       "    <tr>\n",
       "      <th>3</th>\n",
       "      <td>https://lenta.ru/news/1914/09/17/bulldogn/</td>\n",
       "      <td>1914. Бульдог-гонец под Льежем</td>\n",
       "      <td>Фотограф-корреспондент Daily Mirror рассказыва...</td>\n",
       "      <td>Библиотека</td>\n",
       "      <td>Первая мировая</td>\n",
       "    </tr>\n",
       "    <tr>\n",
       "      <th>4</th>\n",
       "      <td>https://lenta.ru/news/1914/09/18/zver/</td>\n",
       "      <td>1914. Под Люблином пойман швабский зверь</td>\n",
       "      <td>Лица, приехавшие в Варшаву из Люблина, передаю...</td>\n",
       "      <td>Библиотека</td>\n",
       "      <td>Первая мировая</td>\n",
       "    </tr>\n",
       "    <tr>\n",
       "      <th>...</th>\n",
       "      <td>...</td>\n",
       "      <td>...</td>\n",
       "      <td>...</td>\n",
       "      <td>...</td>\n",
       "      <td>...</td>\n",
       "    </tr>\n",
       "    <tr>\n",
       "      <th>9995</th>\n",
       "      <td>https://lenta.ru/news/2000/07/10/kpp/</td>\n",
       "      <td>На границе Дагестана и Чечни будут стрелять в ...</td>\n",
       "      <td>Глава МВД Дагестана приказал нарядам милиции н...</td>\n",
       "      <td>Россия</td>\n",
       "      <td>Все</td>\n",
       "    </tr>\n",
       "    <tr>\n",
       "      <th>9996</th>\n",
       "      <td>https://lenta.ru/news/2000/07/10/gossovet/</td>\n",
       "      <td>Путин пересадит губернаторов в Госсовет</td>\n",
       "      <td>Представители Кремля ведут активный диалог с г...</td>\n",
       "      <td>Россия</td>\n",
       "      <td>Все</td>\n",
       "    </tr>\n",
       "    <tr>\n",
       "      <th>9997</th>\n",
       "      <td>https://lenta.ru/news/2000/07/10/clowns/</td>\n",
       "      <td>В Москву съедутся клоуны со всего мира</td>\n",
       "      <td>В Москве 20 июля открывается фестиваль \"Планет...</td>\n",
       "      <td>Россия</td>\n",
       "      <td>Все</td>\n",
       "    </tr>\n",
       "    <tr>\n",
       "      <th>9998</th>\n",
       "      <td>https://lenta.ru/news/2000/07/10/women/</td>\n",
       "      <td>Старшая Уильямс выигрывает чемпионский титул</td>\n",
       "      <td>Чисто американским получился финал Уимблдонск...</td>\n",
       "      <td>Спорт</td>\n",
       "      <td>Все</td>\n",
       "    </tr>\n",
       "    <tr>\n",
       "      <th>9999</th>\n",
       "      <td>https://lenta.ru/news/2000/07/10/zenit/</td>\n",
       "      <td>\"Зенит\" выходит в третий раунд Кубка Интертото</td>\n",
       "      <td>Первым российским клубом, стартовавшим в сезон...</td>\n",
       "      <td>Спорт</td>\n",
       "      <td>Все</td>\n",
       "    </tr>\n",
       "  </tbody>\n",
       "</table>\n",
       "<p>10000 rows × 5 columns</p>\n",
       "</div>"
      ],
      "text/plain": [
       "                                              url  \\\n",
       "0      https://lenta.ru/news/1914/09/16/hungarnn/   \n",
       "1     https://lenta.ru/news/1914/09/16/lermontov/   \n",
       "2     https://lenta.ru/news/1914/09/17/nesteroff/   \n",
       "3      https://lenta.ru/news/1914/09/17/bulldogn/   \n",
       "4          https://lenta.ru/news/1914/09/18/zver/   \n",
       "...                                           ...   \n",
       "9995        https://lenta.ru/news/2000/07/10/kpp/   \n",
       "9996   https://lenta.ru/news/2000/07/10/gossovet/   \n",
       "9997     https://lenta.ru/news/2000/07/10/clowns/   \n",
       "9998      https://lenta.ru/news/2000/07/10/women/   \n",
       "9999      https://lenta.ru/news/2000/07/10/zenit/   \n",
       "\n",
       "                                                  title  \\\n",
       "0     1914. Русские войска вступили в пределы Венгрии     \n",
       "1     1914. Празднование столетия М.Ю. Лермонтова от...   \n",
       "2                              1914. Das ist Nesteroff!   \n",
       "3                       1914. Бульдог-гонец под Льежем    \n",
       "4              1914. Под Люблином пойман швабский зверь   \n",
       "...                                                 ...   \n",
       "9995  На границе Дагестана и Чечни будут стрелять в ...   \n",
       "9996            Путин пересадит губернаторов в Госсовет   \n",
       "9997             В Москву съедутся клоуны со всего мира   \n",
       "9998       Старшая Уильямс выигрывает чемпионский титул   \n",
       "9999     \"Зенит\" выходит в третий раунд Кубка Интертото   \n",
       "\n",
       "                                                   text       topic  \\\n",
       "0     Бои у Сопоцкина и Друскеник закончились отступ...  Библиотека   \n",
       "1     Министерство народного просвещения, в виду про...  Библиотека   \n",
       "2     Штабс-капитан П. Н. Нестеров на днях, увидев в...  Библиотека   \n",
       "3     Фотограф-корреспондент Daily Mirror рассказыва...  Библиотека   \n",
       "4     Лица, приехавшие в Варшаву из Люблина, передаю...  Библиотека   \n",
       "...                                                 ...         ...   \n",
       "9995  Глава МВД Дагестана приказал нарядам милиции н...      Россия   \n",
       "9996  Представители Кремля ведут активный диалог с г...      Россия   \n",
       "9997  В Москве 20 июля открывается фестиваль \"Планет...      Россия   \n",
       "9998   Чисто американским получился финал Уимблдонск...       Спорт   \n",
       "9999  Первым российским клубом, стартовавшим в сезон...       Спорт   \n",
       "\n",
       "                tags  \n",
       "0     Первая мировая  \n",
       "1     Первая мировая  \n",
       "2     Первая мировая  \n",
       "3     Первая мировая  \n",
       "4     Первая мировая  \n",
       "...              ...  \n",
       "9995             Все  \n",
       "9996             Все  \n",
       "9997             Все  \n",
       "9998             Все  \n",
       "9999             Все  \n",
       "\n",
       "[10000 rows x 5 columns]"
      ]
     },
     "execution_count": 181,
     "metadata": {},
     "output_type": "execute_result"
    }
   ],
   "source": [
    "# df"
   ]
  },
  {
   "cell_type": "code",
   "execution_count": 56,
   "id": "b1be0b5e-eddb-490c-9ecb-fff574008ccf",
   "metadata": {},
   "outputs": [],
   "source": [
    "# len(news_dict['text'])"
   ]
  },
  {
   "cell_type": "code",
   "execution_count": 60,
   "id": "1b15fce5-c580-49e5-a503-4e5ec77618fe",
   "metadata": {},
   "outputs": [],
   "source": [
    "# for _ in range(2000):\n",
    "#     next(records).text\n",
    "#     # print(item.text)"
   ]
  },
  {
   "cell_type": "code",
   "execution_count": null,
   "id": "36232648-c310-4496-bd95-802afdc5e0da",
   "metadata": {},
   "outputs": [],
   "source": []
  }
 ],
 "metadata": {
  "kernelspec": {
   "display_name": "Python 3 (ipykernel)",
   "language": "python",
   "name": "python3"
  },
  "language_info": {
   "codemirror_mode": {
    "name": "ipython",
    "version": 3
   },
   "file_extension": ".py",
   "mimetype": "text/x-python",
   "name": "python",
   "nbconvert_exporter": "python",
   "pygments_lexer": "ipython3",
   "version": "3.11.8"
  }
 },
 "nbformat": 4,
 "nbformat_minor": 5
}
