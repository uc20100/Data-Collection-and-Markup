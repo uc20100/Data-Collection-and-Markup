{
 "cells": [
  {
   "cell_type": "markdown",
   "id": "e5d1955532185844",
   "metadata": {
    "collapsed": false,
    "jupyter": {
     "outputs_hidden": false
    }
   },
   "source": [
    "# ДЗ по \"Сбор и разметка данных (семинары)\"\n",
    "## Семинар 7. Selenium в Python\n",
    "Домашнее задание:  \n",
    "1.\tВыберите веб-сайт, который содержит информацию, представляющую интерес для извлечения данных. Это может быть новостной сайт, платформа для электронной коммерции или любой другой сайт, который позволяет осуществлять скрейпинг (убедитесь в соблюдении условий обслуживания сайта).  \n",
    "2.\tИспользуя Selenium, напишите сценарий для автоматизации процесса перехода на нужную страницу сайта.  \n",
    "3.\tОпределите элементы HTML, содержащие информацию, которую вы хотите извлечь (например, заголовки статей, названия продуктов, цены и т.д.).  \n",
    "4.\tИспользуйте BeautifulSoup для парсинга содержимого HTML и извлечения нужной информации из идентифицированных элементов.  \n",
    "5.\tОбработайте любые ошибки или исключения, которые могут возникнуть в процессе скрейпинга.  \n",
    "6.\tПротестируйте свой скрипт на различных сценариях, чтобы убедиться, что он точно извлекает нужные данные.  \n",
    "7.\tПредоставьте ваш Python-скрипт вместе с кратким отчетом (не более 1 страницы), который включает следующее:   \n",
    "URL сайта. Укажите URL сайта, который вы выбрали для анализа. Описание. Предоставьте краткое описание информации, которую вы хотели извлечь из сайта. Подход. Объясните подход, который вы использовали для навигации по сайту, определения соответствующих элементов и извлечения нужных данных. Трудности. Опишите все проблемы и препятствия, с которыми вы столкнулись в ходе реализации проекта, и как вы их преодолели. Результаты. Включите образец извлеченных данных в выбранном вами структурированном формате (например, CSV или JSON).  \n",
    "\n",
    "*Примечание: Обязательно соблюдайте условия обслуживания сайта и избегайте чрезмерного скрейпинга, который может нарушить нормальную работу сайта.*"
   ]
  },
  {
   "cell_type": "code",
   "execution_count": 86,
   "id": "cef5c2fd82565283",
   "metadata": {
    "ExecuteTime": {
     "end_time": "2024-04-07T18:22:35.023447Z",
     "start_time": "2024-04-07T18:22:35.011441Z"
    },
    "collapsed": false,
    "jupyter": {
     "outputs_hidden": false
    }
   },
   "outputs": [],
   "source": [
    "# Устанавливаем пакеты если они не установлены\n",
    "# !pip install selenium\n",
    "# !pip install pandas\n",
    "# !pip install matplotlib\n",
    "# !pip install pymongo"
   ]
  },
  {
   "cell_type": "code",
   "execution_count": 99,
   "id": "9cdccca6d4066646",
   "metadata": {
    "ExecuteTime": {
     "end_time": "2024-04-07T19:23:30.205356Z",
     "start_time": "2024-04-07T19:23:23.309379Z"
    },
    "collapsed": false,
    "jupyter": {
     "outputs_hidden": false
    }
   },
   "outputs": [],
   "source": [
    "from selenium import webdriver\n",
    "from selenium.webdriver.chrome.options import Options\n",
    "from selenium.webdriver.support.ui import WebDriverWait\n",
    "from selenium.webdriver.support import expected_conditions as EC\n",
    "from selenium.webdriver.common.by import By\n",
    "from selenium.webdriver.common.keys import Keys\n",
    "import time\n",
    "import re\n",
    "import pandas as pd\n",
    "import matplotlib.pyplot as plt\n",
    "# Настройка формата вывода чисел float\n",
    "pd.set_option('display.float_format', '{:.2f}'.format)"
   ]
  },
  {
   "cell_type": "code",
   "execution_count": 3,
   "id": "2a5684727e6199d2",
   "metadata": {
    "ExecuteTime": {
     "end_time": "2024-04-07T18:22:42.787071Z",
     "start_time": "2024-04-07T18:22:35.054961Z"
    },
    "collapsed": false,
    "jupyter": {
     "outputs_hidden": false
    }
   },
   "outputs": [],
   "source": [
    "options = Options()\n",
    "# Запуск браузера с развернутым экраном\n",
    "options.add_argument('start-maximized')\n",
    "# Будем использовать браузер Chrom\n",
    "driver = webdriver.Chrome(options=options)\n",
    "# Открываем ссылку\n",
    "driver.get('https://www.wildberries.ru/')\n",
    "time.sleep(4)"
   ]
  },
  {
   "cell_type": "code",
   "execution_count": 4,
   "id": "90dedca122f1057f",
   "metadata": {
    "ExecuteTime": {
     "end_time": "2024-04-07T18:22:42.898600Z",
     "start_time": "2024-04-07T18:22:42.788072Z"
    },
    "collapsed": false,
    "jupyter": {
     "outputs_hidden": false
    }
   },
   "outputs": [],
   "source": [
    "wait = WebDriverWait(driver, 10)\n",
    "# Ищем строку поиска\n",
    "input = wait.until(EC.presence_of_element_located((By.ID, \"searchInput\")))\n",
    "# Вводим фразу поиска и нажимаем Enter\n",
    "input.send_keys('аккумулятор для ибп 12v')\n",
    "input.send_keys(Keys.ENTER)"
   ]
  },
  {
   "cell_type": "markdown",
   "id": "7dd83b9570ef744d",
   "metadata": {
    "collapsed": false,
    "jupyter": {
     "outputs_hidden": false
    }
   },
   "source": [
    "### Прокручиваем страницу и записываем все ссылки на аккумуляторы, если есть кнопка \"далее\" - нажимаем её или выходим из цикла "
   ]
  },
  {
   "cell_type": "code",
   "execution_count": 5,
   "id": "b5db71c4bf1c45af",
   "metadata": {
    "ExecuteTime": {
     "end_time": "2024-04-07T18:29:22.712280Z",
     "start_time": "2024-04-07T18:22:42.900594Z"
    },
    "collapsed": false,
    "jupyter": {
     "outputs_hidden": false
    }
   },
   "outputs": [],
   "source": [
    "# Список ссылок на страницы аккумулятора\n",
    "url_list = []\n",
    "\n",
    "while True:\n",
    "    # Количество аккумуляторов на странице\n",
    "    count = None\n",
    "    while True:\n",
    "        time.sleep(4)\n",
    "        # Ожидаем появление объекта (html код) карточек товара\n",
    "        cards = wait.until(EC.presence_of_all_elements_located((By.XPATH, '//article[@id]')))\n",
    "        # Выходим из цикла, если при прокрутке страницы, количество товаров не меняется \n",
    "        if len(cards) == count:\n",
    "            break    \n",
    "        # Вычисляем сколько карточек товара на странице\n",
    "        count = len(cards)\n",
    "        # Прокручиваем страницу выполняя JAVA Script\n",
    "        driver.execute_script('window.scrollBy(0, 1800)')\n",
    "        time.sleep(2)\n",
    "        \n",
    "    # На полностью загруженной странице соберём инфу\n",
    "    for card in cards:\n",
    "        # Записываем ссылку каждого аккумулятора\n",
    "        url = card.find_element(By.XPATH, './div/a').get_attribute('href')\n",
    "        url_list.append(url)\n",
    "    \n",
    "    # Проверяем есть ли кнопка дальше\n",
    "    try:\n",
    "        next = driver.find_element(By.XPATH,  \"//a[@class='pagination-next pagination__next j-next-page']\")\n",
    "        next.click()\n",
    "    except Exception:\n",
    "        break"
   ]
  },
  {
   "cell_type": "code",
   "execution_count": 6,
   "id": "6a44c926f7adea58",
   "metadata": {
    "ExecuteTime": {
     "end_time": "2024-04-07T18:40:33.419809Z",
     "start_time": "2024-04-07T18:40:33.411807Z"
    },
    "collapsed": false,
    "jupyter": {
     "outputs_hidden": false
    }
   },
   "outputs": [
    {
     "name": "stdout",
     "output_type": "stream",
     "text": [
      "Всего получено: 970 ссылок на аккумуляторы\n"
     ]
    }
   ],
   "source": [
    "print(f'Всего получено: {len(url_list)} ссылок на аккумуляторы')"
   ]
  },
  {
   "cell_type": "markdown",
   "id": "d630620ad9f57c25",
   "metadata": {
    "collapsed": false,
    "jupyter": {
     "outputs_hidden": false
    }
   },
   "source": [
    "### Заходим на каждую страницу найденныж аккомуляторов и парсим её"
   ]
  },
  {
   "cell_type": "code",
   "execution_count": 95,
   "id": "467ce333e09bf108",
   "metadata": {
    "ExecuteTime": {
     "end_time": "2024-04-07T19:08:02.354880Z",
     "start_time": "2024-04-07T18:55:25.785715Z"
    },
    "collapsed": false,
    "jupyter": {
     "outputs_hidden": false
    }
   },
   "outputs": [],
   "source": [
    "driver2 = webdriver.Chrome(options=options)\n",
    "wait2 = WebDriverWait(driver2, 10)\n",
    "acb_list = []\n",
    "\n",
    "# Просматриваем все ссылки ан аккумуляторы\n",
    "for url_item in url_list:\n",
    "    acb_dict = {}\n",
    "    \n",
    "    driver2.get(url_item)\n",
    "    # Заносим назание аккумулятора\n",
    "    acb_dict['name'] = wait2.until(EC.presence_of_element_located((By.XPATH, \"//h1\"))).text\n",
    "    # Заносим цену аккумулятора\n",
    "    price = wait2.until(EC.presence_of_all_elements_located((By.CLASS_NAME, 'price-block__wallet-price')))\n",
    "    try:\n",
    "        acb_dict['price'] = float(re.sub(r'[^\\d.]+', '', price[1].text))\n",
    "    except Exception:\n",
    "        acb_dict['price'] = None\n",
    "    # Заносим бренд аккумулятора\n",
    "    acb_dict['brend'] = wait2.until(EC.presence_of_element_located((By.CLASS_NAME, \"product-page__header-brand\"))).text\n",
    "    # Заносим url ссылку на аккумулятор\n",
    "    acb_dict['url'] = url_item   \n",
    "    \n",
    "    # Обрабатываем табличные данные\n",
    "    table_label = wait2.until(EC.presence_of_all_elements_located((By.XPATH, '//th')))\n",
    "    table_param = wait2.until(EC.presence_of_all_elements_located((By.XPATH, '//td')))\n",
    "    # Заносим данные в зависимости от названия   \n",
    "    for i in range(len(table_label)):\n",
    "        if table_label[i].text == 'Страна производства':\n",
    "            acb_dict['country'] = table_param[i].text\n",
    "        elif table_label[i].text == 'Емкость аккумулятора (Ач)':\n",
    "            try:\n",
    "                val = table_param[i].text.strip()\n",
    "                val, *_ = val.split()\n",
    "                acb_dict['capacity'] = float(re.sub(r'[^\\d.]+', '', val))\n",
    "            except Exception:\n",
    "                acb_dict['capacity'] = None\n",
    "        elif table_label[i].text == 'Напряжение':\n",
    "             try:\n",
    "                val = table_param[i].text.strip()\n",
    "                val, *_ = val.split() \n",
    "                acb_dict['voltage'] = float(re.sub(r'[^\\d.]+', '', val))\n",
    "             except Exception:\n",
    "                acb_dict['voltage'] = None\n",
    "        \n",
    "    # Добавляем словарь в список аккумуляторов\n",
    "    acb_list.append(acb_dict)"
   ]
  },
  {
   "cell_type": "code",
   "execution_count": 96,
   "id": "99bf89db7b707db9",
   "metadata": {
    "ExecuteTime": {
     "end_time": "2024-04-07T19:08:19.060923Z",
     "start_time": "2024-04-07T19:08:19.053923Z"
    },
    "collapsed": false,
    "jupyter": {
     "outputs_hidden": false
    }
   },
   "outputs": [
    {
     "name": "stdout",
     "output_type": "stream",
     "text": [
      "Обработано 970 страниц\n"
     ]
    }
   ],
   "source": [
    "print(f'Обработано {len(acb_list)} страниц')"
   ]
  },
  {
   "cell_type": "markdown",
   "id": "9bbb530f-e37a-4fef-80e6-a7b4b8474a80",
   "metadata": {},
   "source": [
    "### Посмотрим, что за данные мы получили"
   ]
  },
  {
   "cell_type": "code",
   "execution_count": 97,
   "id": "bdea445a0244dd8e",
   "metadata": {
    "ExecuteTime": {
     "end_time": "2024-04-07T19:30:55.735883Z",
     "start_time": "2024-04-07T19:30:55.716884Z"
    },
    "collapsed": false,
    "jupyter": {
     "outputs_hidden": false
    }
   },
   "outputs": [
    {
     "data": {
      "text/html": [
       "<div>\n",
       "<style scoped>\n",
       "    .dataframe tbody tr th:only-of-type {\n",
       "        vertical-align: middle;\n",
       "    }\n",
       "\n",
       "    .dataframe tbody tr th {\n",
       "        vertical-align: top;\n",
       "    }\n",
       "\n",
       "    .dataframe thead th {\n",
       "        text-align: right;\n",
       "    }\n",
       "</style>\n",
       "<table border=\"1\" class=\"dataframe\">\n",
       "  <thead>\n",
       "    <tr style=\"text-align: right;\">\n",
       "      <th></th>\n",
       "      <th>name</th>\n",
       "      <th>price</th>\n",
       "      <th>brend</th>\n",
       "      <th>url</th>\n",
       "      <th>country</th>\n",
       "      <th>capacity</th>\n",
       "      <th>voltage</th>\n",
       "    </tr>\n",
       "  </thead>\n",
       "  <tbody>\n",
       "    <tr>\n",
       "      <th>0</th>\n",
       "      <td>Аккумулятор SF 1207, 7Ач, аккумуляторная батар...</td>\n",
       "      <td>758.0</td>\n",
       "      <td>Security Force</td>\n",
       "      <td>https://www.wildberries.ru/catalog/40724205/de...</td>\n",
       "      <td>Китай</td>\n",
       "      <td>7.0</td>\n",
       "      <td>12.0</td>\n",
       "    </tr>\n",
       "    <tr>\n",
       "      <th>1</th>\n",
       "      <td>Аккумулятор 12v 7ah акб agm 1207</td>\n",
       "      <td>1097.0</td>\n",
       "      <td>SKAT</td>\n",
       "      <td>https://www.wildberries.ru/catalog/149737382/d...</td>\n",
       "      <td>Китай</td>\n",
       "      <td>7.0</td>\n",
       "      <td>12.0</td>\n",
       "    </tr>\n",
       "    <tr>\n",
       "      <th>2</th>\n",
       "      <td>Аккумулятор для ибп 12v 18 Ah M5/T3 котла, вес...</td>\n",
       "      <td>2805.0</td>\n",
       "      <td>NPP</td>\n",
       "      <td>https://www.wildberries.ru/catalog/194125701/d...</td>\n",
       "      <td>Китай</td>\n",
       "      <td>18.0</td>\n",
       "      <td>12.0</td>\n",
       "    </tr>\n",
       "    <tr>\n",
       "      <th>3</th>\n",
       "      <td>Аккумулятор Yellow VL 12-7.5 для детского элек...</td>\n",
       "      <td>1643.0</td>\n",
       "      <td>YELLOW</td>\n",
       "      <td>https://www.wildberries.ru/catalog/161312115/d...</td>\n",
       "      <td>Китай</td>\n",
       "      <td>7.5</td>\n",
       "      <td>12.0</td>\n",
       "    </tr>\n",
       "    <tr>\n",
       "      <th>4</th>\n",
       "      <td>Аккумулятор для ибп 12v 7 Ah F1/T1 осветительн...</td>\n",
       "      <td>959.0</td>\n",
       "      <td>Thomas</td>\n",
       "      <td>https://www.wildberries.ru/catalog/194125712/d...</td>\n",
       "      <td>Китай</td>\n",
       "      <td>7.0</td>\n",
       "      <td>12.0</td>\n",
       "    </tr>\n",
       "  </tbody>\n",
       "</table>\n",
       "</div>"
      ],
      "text/plain": [
       "                                                name   price           brend  \\\n",
       "0  Аккумулятор SF 1207, 7Ач, аккумуляторная батар...   758.0  Security Force   \n",
       "1                   Аккумулятор 12v 7ah акб agm 1207  1097.0            SKAT   \n",
       "2  Аккумулятор для ибп 12v 18 Ah M5/T3 котла, вес...  2805.0             NPP   \n",
       "3  Аккумулятор Yellow VL 12-7.5 для детского элек...  1643.0          YELLOW   \n",
       "4  Аккумулятор для ибп 12v 7 Ah F1/T1 осветительн...   959.0          Thomas   \n",
       "\n",
       "                                                 url country  capacity  \\\n",
       "0  https://www.wildberries.ru/catalog/40724205/de...   Китай       7.0   \n",
       "1  https://www.wildberries.ru/catalog/149737382/d...   Китай       7.0   \n",
       "2  https://www.wildberries.ru/catalog/194125701/d...   Китай      18.0   \n",
       "3  https://www.wildberries.ru/catalog/161312115/d...   Китай       7.5   \n",
       "4  https://www.wildberries.ru/catalog/194125712/d...   Китай       7.0   \n",
       "\n",
       "   voltage  \n",
       "0     12.0  \n",
       "1     12.0  \n",
       "2     12.0  \n",
       "3     12.0  \n",
       "4     12.0  "
      ]
     },
     "execution_count": 97,
     "metadata": {},
     "output_type": "execute_result"
    }
   ],
   "source": [
    "df = pd.DataFrame(acb_list)\n",
    "df.head()"
   ]
  },
  {
   "cell_type": "code",
   "execution_count": 60,
   "id": "66a8be8be4590e0b",
   "metadata": {
    "ExecuteTime": {
     "end_time": "2024-04-07T19:34:45.641291Z",
     "start_time": "2024-04-07T19:34:45.616287Z"
    },
    "collapsed": false,
    "jupyter": {
     "outputs_hidden": false
    }
   },
   "outputs": [
    {
     "name": "stdout",
     "output_type": "stream",
     "text": [
      "<class 'pandas.core.frame.DataFrame'>\n",
      "RangeIndex: 970 entries, 0 to 969\n",
      "Data columns (total 8 columns):\n",
      " #   Column    Non-Null Count  Dtype  \n",
      "---  ------    --------------  -----  \n",
      " 0   name      970 non-null    object \n",
      " 1   price     970 non-null    float64\n",
      " 2   brend     970 non-null    object \n",
      " 3   url       970 non-null    object \n",
      " 4   _id       0 non-null      object \n",
      " 5   country   831 non-null    object \n",
      " 6   capacity  837 non-null    float64\n",
      " 7   voltage   840 non-null    float64\n",
      "dtypes: float64(3), object(5)\n",
      "memory usage: 60.8+ KB\n"
     ]
    }
   ],
   "source": [
    "df.info()"
   ]
  },
  {
   "cell_type": "markdown",
   "id": "0c992e20-292a-41dc-b34d-9189d44787da",
   "metadata": {},
   "source": [
    "### Какие производители аккумуляторов для ИБП представлены на Wildberries"
   ]
  },
  {
   "cell_type": "code",
   "execution_count": 62,
   "id": "6198963f-10f4-4610-8ab8-043733bcb536",
   "metadata": {},
   "outputs": [
    {
     "data": {
      "text/plain": [
       "country\n",
       "Китай      778\n",
       "Вьетнам     42\n",
       "Тайвань      7\n",
       "Россия       4\n",
       "Name: count, dtype: int64"
      ]
     },
     "execution_count": 62,
     "metadata": {},
     "output_type": "execute_result"
    }
   ],
   "source": [
    "data = df['country'].value_counts()\n",
    "names = data.index\n",
    "values = data.values\n",
    "data"
   ]
  },
  {
   "cell_type": "code",
   "execution_count": 63,
   "id": "3868dae0-fbd4-4ad8-9fd6-de49709c8a40",
   "metadata": {},
   "outputs": [
    {
     "data": {
      "image/png": "[encoded data removed]",
      "text/plain": [
       "<Figure size 640x480 with 1 Axes>"
      ]
     },
     "metadata": {},
     "output_type": "display_data"
    }
   ],
   "source": [
    "plt.pie(values, autopct='%.1f%%', labels=names)\n",
    "plt.show()"
   ]
  },
  {
   "cell_type": "markdown",
   "id": "2365cf19-8905-4714-9cfb-119835bf3422",
   "metadata": {},
   "source": [
    "### Минимальная, максимальная и средняя цена аккумулятора в зависимости от его ёмкости"
   ]
  },
  {
   "cell_type": "code",
   "execution_count": 100,
   "id": "f93d02632b1a26b4",
   "metadata": {
    "collapsed": false,
    "jupyter": {
     "outputs_hidden": false
    }
   },
   "outputs": [
    {
     "data": {
      "text/html": [
       "<div>\n",
       "<style scoped>\n",
       "    .dataframe tbody tr th:only-of-type {\n",
       "        vertical-align: middle;\n",
       "    }\n",
       "\n",
       "    .dataframe tbody tr th {\n",
       "        vertical-align: top;\n",
       "    }\n",
       "\n",
       "    .dataframe thead tr th {\n",
       "        text-align: left;\n",
       "    }\n",
       "\n",
       "    .dataframe thead tr:last-of-type th {\n",
       "        text-align: right;\n",
       "    }\n",
       "</style>\n",
       "<table border=\"1\" class=\"dataframe\">\n",
       "  <thead>\n",
       "    <tr>\n",
       "      <th></th>\n",
       "      <th colspan=\"3\" halign=\"left\">price</th>\n",
       "    </tr>\n",
       "    <tr>\n",
       "      <th></th>\n",
       "      <th>min</th>\n",
       "      <th>mean</th>\n",
       "      <th>max</th>\n",
       "    </tr>\n",
       "    <tr>\n",
       "      <th>capacity</th>\n",
       "      <th></th>\n",
       "      <th></th>\n",
       "      <th></th>\n",
       "    </tr>\n",
       "  </thead>\n",
       "  <tbody>\n",
       "    <tr>\n",
       "      <th>0.80</th>\n",
       "      <td>550.00</td>\n",
       "      <td>873.62</td>\n",
       "      <td>1035.00</td>\n",
       "    </tr>\n",
       "    <tr>\n",
       "      <th>1.20</th>\n",
       "      <td>430.00</td>\n",
       "      <td>670.19</td>\n",
       "      <td>1036.00</td>\n",
       "    </tr>\n",
       "    <tr>\n",
       "      <th>1.30</th>\n",
       "      <td>577.00</td>\n",
       "      <td>789.00</td>\n",
       "      <td>1286.00</td>\n",
       "    </tr>\n",
       "    <tr>\n",
       "      <th>2.20</th>\n",
       "      <td>594.00</td>\n",
       "      <td>875.75</td>\n",
       "      <td>1239.00</td>\n",
       "    </tr>\n",
       "    <tr>\n",
       "      <th>2.30</th>\n",
       "      <td>670.00</td>\n",
       "      <td>842.73</td>\n",
       "      <td>1565.00</td>\n",
       "    </tr>\n",
       "    <tr>\n",
       "      <th>2.80</th>\n",
       "      <td>776.00</td>\n",
       "      <td>784.00</td>\n",
       "      <td>792.00</td>\n",
       "    </tr>\n",
       "    <tr>\n",
       "      <th>2.90</th>\n",
       "      <td>1023.00</td>\n",
       "      <td>1023.00</td>\n",
       "      <td>1023.00</td>\n",
       "    </tr>\n",
       "    <tr>\n",
       "      <th>3.20</th>\n",
       "      <td>774.00</td>\n",
       "      <td>1227.87</td>\n",
       "      <td>1780.00</td>\n",
       "    </tr>\n",
       "    <tr>\n",
       "      <th>3.30</th>\n",
       "      <td>1228.00</td>\n",
       "      <td>1351.00</td>\n",
       "      <td>1474.00</td>\n",
       "    </tr>\n",
       "    <tr>\n",
       "      <th>4.50</th>\n",
       "      <td>532.00</td>\n",
       "      <td>1246.66</td>\n",
       "      <td>3184.00</td>\n",
       "    </tr>\n",
       "    <tr>\n",
       "      <th>5.00</th>\n",
       "      <td>795.00</td>\n",
       "      <td>1625.88</td>\n",
       "      <td>4100.00</td>\n",
       "    </tr>\n",
       "    <tr>\n",
       "      <th>5.40</th>\n",
       "      <td>1154.00</td>\n",
       "      <td>1205.50</td>\n",
       "      <td>1257.00</td>\n",
       "    </tr>\n",
       "    <tr>\n",
       "      <th>5.50</th>\n",
       "      <td>2004.00</td>\n",
       "      <td>2076.50</td>\n",
       "      <td>2149.00</td>\n",
       "    </tr>\n",
       "    <tr>\n",
       "      <th>5.80</th>\n",
       "      <td>1164.00</td>\n",
       "      <td>1829.00</td>\n",
       "      <td>2303.00</td>\n",
       "    </tr>\n",
       "    <tr>\n",
       "      <th>6.00</th>\n",
       "      <td>1228.00</td>\n",
       "      <td>2061.71</td>\n",
       "      <td>2750.00</td>\n",
       "    </tr>\n",
       "    <tr>\n",
       "      <th>7.00</th>\n",
       "      <td>701.00</td>\n",
       "      <td>1310.34</td>\n",
       "      <td>4684.00</td>\n",
       "    </tr>\n",
       "    <tr>\n",
       "      <th>7.20</th>\n",
       "      <td>636.00</td>\n",
       "      <td>1749.49</td>\n",
       "      <td>4338.00</td>\n",
       "    </tr>\n",
       "    <tr>\n",
       "      <th>7.50</th>\n",
       "      <td>1215.00</td>\n",
       "      <td>1865.50</td>\n",
       "      <td>3170.00</td>\n",
       "    </tr>\n",
       "    <tr>\n",
       "      <th>8.00</th>\n",
       "      <td>574.00</td>\n",
       "      <td>1779.50</td>\n",
       "      <td>3237.00</td>\n",
       "    </tr>\n",
       "    <tr>\n",
       "      <th>8.60</th>\n",
       "      <td>1755.00</td>\n",
       "      <td>1755.00</td>\n",
       "      <td>1755.00</td>\n",
       "    </tr>\n",
       "    <tr>\n",
       "      <th>9.00</th>\n",
       "      <td>1106.00</td>\n",
       "      <td>2048.51</td>\n",
       "      <td>4902.00</td>\n",
       "    </tr>\n",
       "    <tr>\n",
       "      <th>10.00</th>\n",
       "      <td>1134.00</td>\n",
       "      <td>1134.00</td>\n",
       "      <td>1134.00</td>\n",
       "    </tr>\n",
       "    <tr>\n",
       "      <th>12.00</th>\n",
       "      <td>601.00</td>\n",
       "      <td>2654.52</td>\n",
       "      <td>7257.00</td>\n",
       "    </tr>\n",
       "    <tr>\n",
       "      <th>13.00</th>\n",
       "      <td>566.00</td>\n",
       "      <td>1666.00</td>\n",
       "      <td>2766.00</td>\n",
       "    </tr>\n",
       "    <tr>\n",
       "      <th>14.00</th>\n",
       "      <td>2040.00</td>\n",
       "      <td>2040.00</td>\n",
       "      <td>2040.00</td>\n",
       "    </tr>\n",
       "    <tr>\n",
       "      <th>15.00</th>\n",
       "      <td>2268.00</td>\n",
       "      <td>4229.83</td>\n",
       "      <td>6413.00</td>\n",
       "    </tr>\n",
       "    <tr>\n",
       "      <th>17.00</th>\n",
       "      <td>1973.00</td>\n",
       "      <td>4701.88</td>\n",
       "      <td>9487.00</td>\n",
       "    </tr>\n",
       "    <tr>\n",
       "      <th>18.00</th>\n",
       "      <td>1972.00</td>\n",
       "      <td>3532.81</td>\n",
       "      <td>8068.00</td>\n",
       "    </tr>\n",
       "    <tr>\n",
       "      <th>20.00</th>\n",
       "      <td>2701.00</td>\n",
       "      <td>5142.64</td>\n",
       "      <td>7801.00</td>\n",
       "    </tr>\n",
       "    <tr>\n",
       "      <th>22.00</th>\n",
       "      <td>641.00</td>\n",
       "      <td>1973.55</td>\n",
       "      <td>4630.00</td>\n",
       "    </tr>\n",
       "    <tr>\n",
       "      <th>23.00</th>\n",
       "      <td>700.00</td>\n",
       "      <td>700.00</td>\n",
       "      <td>700.00</td>\n",
       "    </tr>\n",
       "    <tr>\n",
       "      <th>24.00</th>\n",
       "      <td>10164.00</td>\n",
       "      <td>10164.00</td>\n",
       "      <td>10164.00</td>\n",
       "    </tr>\n",
       "    <tr>\n",
       "      <th>26.00</th>\n",
       "      <td>2695.00</td>\n",
       "      <td>5316.05</td>\n",
       "      <td>10537.00</td>\n",
       "    </tr>\n",
       "    <tr>\n",
       "      <th>28.00</th>\n",
       "      <td>1986.00</td>\n",
       "      <td>4606.55</td>\n",
       "      <td>11212.00</td>\n",
       "    </tr>\n",
       "    <tr>\n",
       "      <th>30.00</th>\n",
       "      <td>11212.00</td>\n",
       "      <td>11212.00</td>\n",
       "      <td>11212.00</td>\n",
       "    </tr>\n",
       "    <tr>\n",
       "      <th>32.00</th>\n",
       "      <td>847.00</td>\n",
       "      <td>847.00</td>\n",
       "      <td>847.00</td>\n",
       "    </tr>\n",
       "    <tr>\n",
       "      <th>33.00</th>\n",
       "      <td>1363.00</td>\n",
       "      <td>7514.86</td>\n",
       "      <td>14392.00</td>\n",
       "    </tr>\n",
       "    <tr>\n",
       "      <th>34.00</th>\n",
       "      <td>11696.00</td>\n",
       "      <td>11696.00</td>\n",
       "      <td>11696.00</td>\n",
       "    </tr>\n",
       "    <tr>\n",
       "      <th>35.00</th>\n",
       "      <td>626.00</td>\n",
       "      <td>626.00</td>\n",
       "      <td>626.00</td>\n",
       "    </tr>\n",
       "    <tr>\n",
       "      <th>36.00</th>\n",
       "      <td>5934.00</td>\n",
       "      <td>5934.00</td>\n",
       "      <td>5934.00</td>\n",
       "    </tr>\n",
       "    <tr>\n",
       "      <th>38.00</th>\n",
       "      <td>7501.00</td>\n",
       "      <td>7506.00</td>\n",
       "      <td>7511.00</td>\n",
       "    </tr>\n",
       "    <tr>\n",
       "      <th>40.00</th>\n",
       "      <td>4174.00</td>\n",
       "      <td>7669.91</td>\n",
       "      <td>15784.00</td>\n",
       "    </tr>\n",
       "    <tr>\n",
       "      <th>45.00</th>\n",
       "      <td>915.00</td>\n",
       "      <td>8684.90</td>\n",
       "      <td>17087.00</td>\n",
       "    </tr>\n",
       "    <tr>\n",
       "      <th>50.00</th>\n",
       "      <td>7288.00</td>\n",
       "      <td>13553.17</td>\n",
       "      <td>17213.00</td>\n",
       "    </tr>\n",
       "    <tr>\n",
       "      <th>55.00</th>\n",
       "      <td>1009.00</td>\n",
       "      <td>14760.24</td>\n",
       "      <td>22349.00</td>\n",
       "    </tr>\n",
       "    <tr>\n",
       "      <th>60.00</th>\n",
       "      <td>8817.00</td>\n",
       "      <td>8817.00</td>\n",
       "      <td>8817.00</td>\n",
       "    </tr>\n",
       "    <tr>\n",
       "      <th>65.00</th>\n",
       "      <td>6188.00</td>\n",
       "      <td>14867.47</td>\n",
       "      <td>25857.00</td>\n",
       "    </tr>\n",
       "    <tr>\n",
       "      <th>70.00</th>\n",
       "      <td>13545.00</td>\n",
       "      <td>13545.00</td>\n",
       "      <td>13545.00</td>\n",
       "    </tr>\n",
       "    <tr>\n",
       "      <th>72.00</th>\n",
       "      <td>795.00</td>\n",
       "      <td>1675.45</td>\n",
       "      <td>3523.00</td>\n",
       "    </tr>\n",
       "    <tr>\n",
       "      <th>75.00</th>\n",
       "      <td>1584.00</td>\n",
       "      <td>16827.29</td>\n",
       "      <td>31196.00</td>\n",
       "    </tr>\n",
       "    <tr>\n",
       "      <th>80.00</th>\n",
       "      <td>9596.00</td>\n",
       "      <td>12153.33</td>\n",
       "      <td>17072.00</td>\n",
       "    </tr>\n",
       "    <tr>\n",
       "      <th>90.00</th>\n",
       "      <td>14728.00</td>\n",
       "      <td>14728.00</td>\n",
       "      <td>14728.00</td>\n",
       "    </tr>\n",
       "    <tr>\n",
       "      <th>100.00</th>\n",
       "      <td>14431.00</td>\n",
       "      <td>16425.75</td>\n",
       "      <td>21800.00</td>\n",
       "    </tr>\n",
       "    <tr>\n",
       "      <th>120.00</th>\n",
       "      <td>16210.00</td>\n",
       "      <td>16375.50</td>\n",
       "      <td>16541.00</td>\n",
       "    </tr>\n",
       "    <tr>\n",
       "      <th>150.00</th>\n",
       "      <td>19786.00</td>\n",
       "      <td>19786.00</td>\n",
       "      <td>19786.00</td>\n",
       "    </tr>\n",
       "    <tr>\n",
       "      <th>200.00</th>\n",
       "      <td>26710.00</td>\n",
       "      <td>30122.00</td>\n",
       "      <td>33534.00</td>\n",
       "    </tr>\n",
       "    <tr>\n",
       "      <th>5000.00</th>\n",
       "      <td>1474.00</td>\n",
       "      <td>1474.00</td>\n",
       "      <td>1474.00</td>\n",
       "    </tr>\n",
       "    <tr>\n",
       "      <th>40000.00</th>\n",
       "      <td>11113.00</td>\n",
       "      <td>11113.00</td>\n",
       "      <td>11113.00</td>\n",
       "    </tr>\n",
       "  </tbody>\n",
       "</table>\n",
       "</div>"
      ],
      "text/plain": [
       "            price                  \n",
       "              min     mean      max\n",
       "capacity                           \n",
       "0.80       550.00   873.62  1035.00\n",
       "1.20       430.00   670.19  1036.00\n",
       "1.30       577.00   789.00  1286.00\n",
       "2.20       594.00   875.75  1239.00\n",
       "2.30       670.00   842.73  1565.00\n",
       "2.80       776.00   784.00   792.00\n",
       "2.90      1023.00  1023.00  1023.00\n",
       "3.20       774.00  1227.87  1780.00\n",
       "3.30      1228.00  1351.00  1474.00\n",
       "4.50       532.00  1246.66  3184.00\n",
       "5.00       795.00  1625.88  4100.00\n",
       "5.40      1154.00  1205.50  1257.00\n",
       "5.50      2004.00  2076.50  2149.00\n",
       "5.80      1164.00  1829.00  2303.00\n",
       "6.00      1228.00  2061.71  2750.00\n",
       "7.00       701.00  1310.34  4684.00\n",
       "7.20       636.00  1749.49  4338.00\n",
       "7.50      1215.00  1865.50  3170.00\n",
       "8.00       574.00  1779.50  3237.00\n",
       "8.60      1755.00  1755.00  1755.00\n",
       "9.00      1106.00  2048.51  4902.00\n",
       "10.00     1134.00  1134.00  1134.00\n",
       "12.00      601.00  2654.52  7257.00\n",
       "13.00      566.00  1666.00  2766.00\n",
       "14.00     2040.00  2040.00  2040.00\n",
       "15.00     2268.00  4229.83  6413.00\n",
       "17.00     1973.00  4701.88  9487.00\n",
       "18.00     1972.00  3532.81  8068.00\n",
       "20.00     2701.00  5142.64  7801.00\n",
       "22.00      641.00  1973.55  4630.00\n",
       "23.00      700.00   700.00   700.00\n",
       "24.00    10164.00 10164.00 10164.00\n",
       "26.00     2695.00  5316.05 10537.00\n",
       "28.00     1986.00  4606.55 11212.00\n",
       "30.00    11212.00 11212.00 11212.00\n",
       "32.00      847.00   847.00   847.00\n",
       "33.00     1363.00  7514.86 14392.00\n",
       "34.00    11696.00 11696.00 11696.00\n",
       "35.00      626.00   626.00   626.00\n",
       "36.00     5934.00  5934.00  5934.00\n",
       "38.00     7501.00  7506.00  7511.00\n",
       "40.00     4174.00  7669.91 15784.00\n",
       "45.00      915.00  8684.90 17087.00\n",
       "50.00     7288.00 13553.17 17213.00\n",
       "55.00     1009.00 14760.24 22349.00\n",
       "60.00     8817.00  8817.00  8817.00\n",
       "65.00     6188.00 14867.47 25857.00\n",
       "70.00    13545.00 13545.00 13545.00\n",
       "72.00      795.00  1675.45  3523.00\n",
       "75.00     1584.00 16827.29 31196.00\n",
       "80.00     9596.00 12153.33 17072.00\n",
       "90.00    14728.00 14728.00 14728.00\n",
       "100.00   14431.00 16425.75 21800.00\n",
       "120.00   16210.00 16375.50 16541.00\n",
       "150.00   19786.00 19786.00 19786.00\n",
       "200.00   26710.00 30122.00 33534.00\n",
       "5000.00   1474.00  1474.00  1474.00\n",
       "40000.00 11113.00 11113.00 11113.00"
      ]
     },
     "execution_count": 100,
     "metadata": {},
     "output_type": "execute_result"
    }
   ],
   "source": [
    "df.groupby('capacity').agg({'price': ['min', 'mean', 'max']})"
   ]
  },
  {
   "cell_type": "markdown",
   "id": "cde8b4ac-44b5-424d-9a55-17501a5d2218",
   "metadata": {},
   "source": [
    "### Топ 10 популярных компаний"
   ]
  },
  {
   "cell_type": "code",
   "execution_count": 84,
   "id": "1a829758-8ded-439e-bd5b-2bf87e120df4",
   "metadata": {},
   "outputs": [
    {
     "data": {
      "text/plain": [
       "brend\n",
       "DELTA BATTERY       193\n",
       "General Security     63\n",
       "Kiper Power          54\n",
       "LEOCH                44\n",
       "NPP                  42\n",
       "Alfa Battery         39\n",
       "CSB                  36\n",
       "Security Force       35\n",
       "security power       27\n",
       "Sunways              26\n",
       "Name: count, dtype: int64"
      ]
     },
     "execution_count": 84,
     "metadata": {},
     "output_type": "execute_result"
    }
   ],
   "source": [
    "data = df['brend'].value_counts()\n",
    "names = data.index\n",
    "values = data.values\n",
    "data.head(10)"
   ]
  },
  {
   "cell_type": "markdown",
   "id": "cb35c7d0-1a94-45a5-a5c6-ee8fb0acab46",
   "metadata": {},
   "source": [
    "### Запишем полученные данные в БД MongoDB"
   ]
  },
  {
   "cell_type": "code",
   "execution_count": 87,
   "id": "c3ed3d4d-fd87-419f-ace2-11e9d3eedebf",
   "metadata": {},
   "outputs": [],
   "source": [
    "from pymongo import MongoClient"
   ]
  },
  {
   "cell_type": "code",
   "execution_count": 93,
   "id": "7fa3b599-48f3-428b-a8f0-9ed533fa6de2",
   "metadata": {},
   "outputs": [],
   "source": [
    "# Подключение к серверу MongoDB\n",
    "client = MongoClient('mongodb://localhost:27017/')\n",
    "# Выбор базы данных и коллекции\n",
    "db = client['acb']\n",
    "collection = db['acb_12v']"
   ]
  },
  {
   "cell_type": "code",
   "execution_count": 98,
   "id": "35c3649b-1cf1-485d-be1a-dd4e747f7360",
   "metadata": {},
   "outputs": [
    {
     "data": {
      "text/plain": [
       "InsertManyResult([ObjectId('661330752c943f0d2e8ad550'), ObjectId('661330752c943f0d2e8ad551'), ObjectId('661330752c943f0d2e8ad552'), ObjectId('661330752c943f0d2e8ad553'), ObjectId('661330752c943f0d2e8ad554'), ObjectId('661330752c943f0d2e8ad555'), ObjectId('661330752c943f0d2e8ad556'), ObjectId('661330752c943f0d2e8ad557'), ObjectId('661330752c943f0d2e8ad558'), ObjectId('661330752c943f0d2e8ad559'), ObjectId('661330752c943f0d2e8ad55a'), ObjectId('661330752c943f0d2e8ad55b'), ObjectId('661330752c943f0d2e8ad55c'), ObjectId('661330752c943f0d2e8ad55d'), ObjectId('661330752c943f0d2e8ad55e'), ObjectId('661330752c943f0d2e8ad55f'), ObjectId('661330752c943f0d2e8ad560'), ObjectId('661330752c943f0d2e8ad561'), ObjectId('661330752c943f0d2e8ad562'), ObjectId('661330752c943f0d2e8ad563'), ObjectId('661330752c943f0d2e8ad564'), ObjectId('661330752c943f0d2e8ad565'), ObjectId('661330752c943f0d2e8ad566'), ObjectId('661330752c943f0d2e8ad567'), ObjectId('661330752c943f0d2e8ad568'), ObjectId('661330752c943f0d2e8ad569'), ObjectId('661330752c943f0d2e8ad56a'), ObjectId('661330752c943f0d2e8ad56b'), ObjectId('661330752c943f0d2e8ad56c'), ObjectId('661330752c943f0d2e8ad56d'), ObjectId('661330752c943f0d2e8ad56e'), ObjectId('661330752c943f0d2e8ad56f'), ObjectId('661330752c943f0d2e8ad570'), ObjectId('661330752c943f0d2e8ad571'), ObjectId('661330752c943f0d2e8ad572'), ObjectId('661330752c943f0d2e8ad573'), ObjectId('661330752c943f0d2e8ad574'), ObjectId('661330752c943f0d2e8ad575'), ObjectId('661330752c943f0d2e8ad576'), ObjectId('661330752c943f0d2e8ad577'), ObjectId('661330752c943f0d2e8ad578'), ObjectId('661330752c943f0d2e8ad579'), ObjectId('661330752c943f0d2e8ad57a'), ObjectId('661330752c943f0d2e8ad57b'), ObjectId('661330752c943f0d2e8ad57c'), ObjectId('661330752c943f0d2e8ad57d'), ObjectId('661330752c943f0d2e8ad57e'), ObjectId('661330752c943f0d2e8ad57f'), ObjectId('661330752c943f0d2e8ad580'), ObjectId('661330752c943f0d2e8ad581'), ObjectId('661330752c943f0d2e8ad582'), ObjectId('661330752c943f0d2e8ad583'), ObjectId('661330752c943f0d2e8ad584'), ObjectId('661330752c943f0d2e8ad585'), ObjectId('661330752c943f0d2e8ad586'), ObjectId('661330752c943f0d2e8ad587'), ObjectId('661330752c943f0d2e8ad588'), ObjectId('661330752c943f0d2e8ad589'), ObjectId('661330752c943f0d2e8ad58a'), ObjectId('661330752c943f0d2e8ad58b'), ObjectId('661330752c943f0d2e8ad58c'), ObjectId('661330752c943f0d2e8ad58d'), ObjectId('661330752c943f0d2e8ad58e'), ObjectId('661330752c943f0d2e8ad58f'), ObjectId('661330752c943f0d2e8ad590'), ObjectId('661330752c943f0d2e8ad591'), ObjectId('661330752c943f0d2e8ad592'), ObjectId('661330752c943f0d2e8ad593'), ObjectId('661330752c943f0d2e8ad594'), ObjectId('661330752c943f0d2e8ad595'), ObjectId('661330752c943f0d2e8ad596'), ObjectId('661330752c943f0d2e8ad597'), ObjectId('661330752c943f0d2e8ad598'), ObjectId('661330752c943f0d2e8ad599'), ObjectId('661330752c943f0d2e8ad59a'), ObjectId('661330752c943f0d2e8ad59b'), ObjectId('661330752c943f0d2e8ad59c'), ObjectId('661330752c943f0d2e8ad59d'), ObjectId('661330752c943f0d2e8ad59e'), ObjectId('661330752c943f0d2e8ad59f'), ObjectId('661330752c943f0d2e8ad5a0'), ObjectId('661330752c943f0d2e8ad5a1'), ObjectId('661330752c943f0d2e8ad5a2'), ObjectId('661330752c943f0d2e8ad5a3'), ObjectId('661330752c943f0d2e8ad5a4'), ObjectId('661330752c943f0d2e8ad5a5'), ObjectId('661330752c943f0d2e8ad5a6'), ObjectId('661330752c943f0d2e8ad5a7'), ObjectId('661330752c943f0d2e8ad5a8'), ObjectId('661330752c943f0d2e8ad5a9'), ObjectId('661330752c943f0d2e8ad5aa'), ObjectId('661330752c943f0d2e8ad5ab'), ObjectId('661330752c943f0d2e8ad5ac'), ObjectId('661330752c943f0d2e8ad5ad'), ObjectId('661330752c943f0d2e8ad5ae'), ObjectId('661330752c943f0d2e8ad5af'), ObjectId('661330752c943f0d2e8ad5b0'), ObjectId('661330752c943f0d2e8ad5b1'), ObjectId('661330752c943f0d2e8ad5b2'), ObjectId('661330752c943f0d2e8ad5b3'), ObjectId('661330752c943f0d2e8ad5b4'), ObjectId('661330752c943f0d2e8ad5b5'), ObjectId('661330752c943f0d2e8ad5b6'), ObjectId('661330752c943f0d2e8ad5b7'), ObjectId('661330752c943f0d2e8ad5b8'), ObjectId('661330752c943f0d2e8ad5b9'), ObjectId('661330752c943f0d2e8ad5ba'), ObjectId('661330752c943f0d2e8ad5bb'), ObjectId('661330752c943f0d2e8ad5bc'), ObjectId('661330752c943f0d2e8ad5bd'), ObjectId('661330752c943f0d2e8ad5be'), ObjectId('661330752c943f0d2e8ad5bf'), ObjectId('661330752c943f0d2e8ad5c0'), ObjectId('661330752c943f0d2e8ad5c1'), ObjectId('661330752c943f0d2e8ad5c2'), ObjectId('661330752c943f0d2e8ad5c3'), ObjectId('661330752c943f0d2e8ad5c4'), ObjectId('661330752c943f0d2e8ad5c5'), ObjectId('661330752c943f0d2e8ad5c6'), ObjectId('661330752c943f0d2e8ad5c7'), ObjectId('661330752c943f0d2e8ad5c8'), ObjectId('661330752c943f0d2e8ad5c9'), ObjectId('661330752c943f0d2e8ad5ca'), ObjectId('661330752c943f0d2e8ad5cb'), ObjectId('661330752c943f0d2e8ad5cc'), ObjectId('661330752c943f0d2e8ad5cd'), ObjectId('661330752c943f0d2e8ad5ce'), ObjectId('661330752c943f0d2e8ad5cf'), ObjectId('661330752c943f0d2e8ad5d0'), ObjectId('661330752c943f0d2e8ad5d1'), ObjectId('661330752c943f0d2e8ad5d2'), ObjectId('661330752c943f0d2e8ad5d3'), ObjectId('661330752c943f0d2e8ad5d4'), ObjectId('661330752c943f0d2e8ad5d5'), ObjectId('661330752c943f0d2e8ad5d6'), ObjectId('661330752c943f0d2e8ad5d7'), ObjectId('661330752c943f0d2e8ad5d8'), ObjectId('661330752c943f0d2e8ad5d9'), ObjectId('661330752c943f0d2e8ad5da'), ObjectId('661330752c943f0d2e8ad5db'), ObjectId('661330752c943f0d2e8ad5dc'), ObjectId('661330752c943f0d2e8ad5dd'), ObjectId('661330752c943f0d2e8ad5de'), ObjectId('661330752c943f0d2e8ad5df'), ObjectId('661330752c943f0d2e8ad5e0'), ObjectId('661330752c943f0d2e8ad5e1'), ObjectId('661330752c943f0d2e8ad5e2'), ObjectId('661330752c943f0d2e8ad5e3'), ObjectId('661330752c943f0d2e8ad5e4'), ObjectId('661330752c943f0d2e8ad5e5'), ObjectId('661330752c943f0d2e8ad5e6'), ObjectId('661330752c943f0d2e8ad5e7'), ObjectId('661330752c943f0d2e8ad5e8'), ObjectId('661330752c943f0d2e8ad5e9'), ObjectId('661330752c943f0d2e8ad5ea'), ObjectId('661330752c943f0d2e8ad5eb'), ObjectId('661330752c943f0d2e8ad5ec'), ObjectId('661330752c943f0d2e8ad5ed'), ObjectId('661330752c943f0d2e8ad5ee'), ObjectId('661330752c943f0d2e8ad5ef'), ObjectId('661330752c943f0d2e8ad5f0'), ObjectId('661330752c943f0d2e8ad5f1'), ObjectId('661330752c943f0d2e8ad5f2'), ObjectId('661330752c943f0d2e8ad5f3'), ObjectId('661330752c943f0d2e8ad5f4'), ObjectId('661330752c943f0d2e8ad5f5'), ObjectId('661330752c943f0d2e8ad5f6'), ObjectId('661330752c943f0d2e8ad5f7'), ObjectId('661330752c943f0d2e8ad5f8'), ObjectId('661330752c943f0d2e8ad5f9'), ObjectId('661330752c943f0d2e8ad5fa'), ObjectId('661330752c943f0d2e8ad5fb'), ObjectId('661330752c943f0d2e8ad5fc'), ObjectId('661330752c943f0d2e8ad5fd'), ObjectId('661330752c943f0d2e8ad5fe'), ObjectId('661330752c943f0d2e8ad5ff'), ObjectId('661330752c943f0d2e8ad600'), ObjectId('661330752c943f0d2e8ad601'), ObjectId('661330752c943f0d2e8ad602'), ObjectId('661330752c943f0d2e8ad603'), ObjectId('661330752c943f0d2e8ad604'), ObjectId('661330752c943f0d2e8ad605'), ObjectId('661330752c943f0d2e8ad606'), ObjectId('661330752c943f0d2e8ad607'), ObjectId('661330752c943f0d2e8ad608'), ObjectId('661330752c943f0d2e8ad609'), ObjectId('661330752c943f0d2e8ad60a'), ObjectId('661330752c943f0d2e8ad60b'), ObjectId('661330752c943f0d2e8ad60c'), ObjectId('661330752c943f0d2e8ad60d'), ObjectId('661330752c943f0d2e8ad60e'), ObjectId('661330752c943f0d2e8ad60f'), ObjectId('661330752c943f0d2e8ad610'), ObjectId('661330752c943f0d2e8ad611'), ObjectId('661330752c943f0d2e8ad612'), ObjectId('661330752c943f0d2e8ad613'), ObjectId('661330752c943f0d2e8ad614'), ObjectId('661330752c943f0d2e8ad615'), ObjectId('661330752c943f0d2e8ad616'), ObjectId('661330752c943f0d2e8ad617'), ObjectId('661330752c943f0d2e8ad618'), ObjectId('661330752c943f0d2e8ad619'), ObjectId('661330752c943f0d2e8ad61a'), ObjectId('661330752c943f0d2e8ad61b'), ObjectId('661330752c943f0d2e8ad61c'), ObjectId('661330752c943f0d2e8ad61d'), ObjectId('661330752c943f0d2e8ad61e'), ObjectId('661330752c943f0d2e8ad61f'), ObjectId('661330752c943f0d2e8ad620'), ObjectId('661330752c943f0d2e8ad621'), ObjectId('661330752c943f0d2e8ad622'), ObjectId('661330752c943f0d2e8ad623'), ObjectId('661330752c943f0d2e8ad624'), ObjectId('661330752c943f0d2e8ad625'), ObjectId('661330752c943f0d2e8ad626'), ObjectId('661330752c943f0d2e8ad627'), ObjectId('661330752c943f0d2e8ad628'), ObjectId('661330752c943f0d2e8ad629'), ObjectId('661330752c943f0d2e8ad62a'), ObjectId('661330752c943f0d2e8ad62b'), ObjectId('661330752c943f0d2e8ad62c'), ObjectId('661330752c943f0d2e8ad62d'), ObjectId('661330752c943f0d2e8ad62e'), ObjectId('661330752c943f0d2e8ad62f'), ObjectId('661330752c943f0d2e8ad630'), ObjectId('661330752c943f0d2e8ad631'), ObjectId('661330752c943f0d2e8ad632'), ObjectId('661330752c943f0d2e8ad633'), ObjectId('661330752c943f0d2e8ad634'), ObjectId('661330752c943f0d2e8ad635'), ObjectId('661330752c943f0d2e8ad636'), ObjectId('661330752c943f0d2e8ad637'), ObjectId('661330752c943f0d2e8ad638'), ObjectId('661330752c943f0d2e8ad639'), ObjectId('661330752c943f0d2e8ad63a'), ObjectId('661330752c943f0d2e8ad63b'), ObjectId('661330752c943f0d2e8ad63c'), ObjectId('661330752c943f0d2e8ad63d'), ObjectId('661330752c943f0d2e8ad63e'), ObjectId('661330752c943f0d2e8ad63f'), ObjectId('661330752c943f0d2e8ad640'), ObjectId('661330752c943f0d2e8ad641'), ObjectId('661330752c943f0d2e8ad642'), ObjectId('661330752c943f0d2e8ad643'), ObjectId('661330752c943f0d2e8ad644'), ObjectId('661330752c943f0d2e8ad645'), ObjectId('661330752c943f0d2e8ad646'), ObjectId('661330752c943f0d2e8ad647'), ObjectId('661330752c943f0d2e8ad648'), ObjectId('661330752c943f0d2e8ad649'), ObjectId('661330752c943f0d2e8ad64a'), ObjectId('661330752c943f0d2e8ad64b'), ObjectId('661330752c943f0d2e8ad64c'), ObjectId('661330752c943f0d2e8ad64d'), ObjectId('661330752c943f0d2e8ad64e'), ObjectId('661330752c943f0d2e8ad64f'), ObjectId('661330752c943f0d2e8ad650'), ObjectId('661330752c943f0d2e8ad651'), ObjectId('661330752c943f0d2e8ad652'), ObjectId('661330752c943f0d2e8ad653'), ObjectId('661330752c943f0d2e8ad654'), ObjectId('661330752c943f0d2e8ad655'), ObjectId('661330752c943f0d2e8ad656'), ObjectId('661330752c943f0d2e8ad657'), ObjectId('661330752c943f0d2e8ad658'), ObjectId('661330752c943f0d2e8ad659'), ObjectId('661330752c943f0d2e8ad65a'), ObjectId('661330752c943f0d2e8ad65b'), ObjectId('661330752c943f0d2e8ad65c'), ObjectId('661330752c943f0d2e8ad65d'), ObjectId('661330752c943f0d2e8ad65e'), ObjectId('661330752c943f0d2e8ad65f'), ObjectId('661330752c943f0d2e8ad660'), ObjectId('661330752c943f0d2e8ad661'), ObjectId('661330752c943f0d2e8ad662'), ObjectId('661330752c943f0d2e8ad663'), ObjectId('661330752c943f0d2e8ad664'), ObjectId('661330752c943f0d2e8ad665'), ObjectId('661330752c943f0d2e8ad666'), ObjectId('661330752c943f0d2e8ad667'), ObjectId('661330752c943f0d2e8ad668'), ObjectId('661330752c943f0d2e8ad669'), ObjectId('661330752c943f0d2e8ad66a'), ObjectId('661330752c943f0d2e8ad66b'), ObjectId('661330752c943f0d2e8ad66c'), ObjectId('661330752c943f0d2e8ad66d'), ObjectId('661330752c943f0d2e8ad66e'), ObjectId('661330752c943f0d2e8ad66f'), ObjectId('661330752c943f0d2e8ad670'), ObjectId('661330752c943f0d2e8ad671'), ObjectId('661330752c943f0d2e8ad672'), ObjectId('661330752c943f0d2e8ad673'), ObjectId('661330752c943f0d2e8ad674'), ObjectId('661330752c943f0d2e8ad675'), ObjectId('661330752c943f0d2e8ad676'), ObjectId('661330752c943f0d2e8ad677'), ObjectId('661330752c943f0d2e8ad678'), ObjectId('661330752c943f0d2e8ad679'), ObjectId('661330752c943f0d2e8ad67a'), ObjectId('661330752c943f0d2e8ad67b'), ObjectId('661330752c943f0d2e8ad67c'), ObjectId('661330752c943f0d2e8ad67d'), ObjectId('661330752c943f0d2e8ad67e'), ObjectId('661330752c943f0d2e8ad67f'), ObjectId('661330752c943f0d2e8ad680'), ObjectId('661330752c943f0d2e8ad681'), ObjectId('661330752c943f0d2e8ad682'), ObjectId('661330752c943f0d2e8ad683'), ObjectId('661330752c943f0d2e8ad684'), ObjectId('661330752c943f0d2e8ad685'), ObjectId('661330752c943f0d2e8ad686'), ObjectId('661330752c943f0d2e8ad687'), ObjectId('661330752c943f0d2e8ad688'), ObjectId('661330752c943f0d2e8ad689'), ObjectId('661330752c943f0d2e8ad68a'), ObjectId('661330752c943f0d2e8ad68b'), ObjectId('661330752c943f0d2e8ad68c'), ObjectId('661330752c943f0d2e8ad68d'), ObjectId('661330752c943f0d2e8ad68e'), ObjectId('661330752c943f0d2e8ad68f'), ObjectId('661330752c943f0d2e8ad690'), ObjectId('661330752c943f0d2e8ad691'), ObjectId('661330752c943f0d2e8ad692'), ObjectId('661330752c943f0d2e8ad693'), ObjectId('661330752c943f0d2e8ad694'), ObjectId('661330752c943f0d2e8ad695'), ObjectId('661330752c943f0d2e8ad696'), ObjectId('661330752c943f0d2e8ad697'), ObjectId('661330752c943f0d2e8ad698'), ObjectId('661330752c943f0d2e8ad699'), ObjectId('661330752c943f0d2e8ad69a'), ObjectId('661330752c943f0d2e8ad69b'), ObjectId('661330752c943f0d2e8ad69c'), ObjectId('661330752c943f0d2e8ad69d'), ObjectId('661330752c943f0d2e8ad69e'), ObjectId('661330752c943f0d2e8ad69f'), ObjectId('661330752c943f0d2e8ad6a0'), ObjectId('661330752c943f0d2e8ad6a1'), ObjectId('661330752c943f0d2e8ad6a2'), ObjectId('661330752c943f0d2e8ad6a3'), ObjectId('661330752c943f0d2e8ad6a4'), ObjectId('661330752c943f0d2e8ad6a5'), ObjectId('661330752c943f0d2e8ad6a6'), ObjectId('661330752c943f0d2e8ad6a7'), ObjectId('661330752c943f0d2e8ad6a8'), ObjectId('661330752c943f0d2e8ad6a9'), ObjectId('661330752c943f0d2e8ad6aa'), ObjectId('661330752c943f0d2e8ad6ab'), ObjectId('661330752c943f0d2e8ad6ac'), ObjectId('661330752c943f0d2e8ad6ad'), ObjectId('661330752c943f0d2e8ad6ae'), ObjectId('661330752c943f0d2e8ad6af'), ObjectId('661330752c943f0d2e8ad6b0'), ObjectId('661330752c943f0d2e8ad6b1'), ObjectId('661330752c943f0d2e8ad6b2'), ObjectId('661330752c943f0d2e8ad6b3'), ObjectId('661330752c943f0d2e8ad6b4'), ObjectId('661330752c943f0d2e8ad6b5'), ObjectId('661330752c943f0d2e8ad6b6'), ObjectId('661330752c943f0d2e8ad6b7'), ObjectId('661330752c943f0d2e8ad6b8'), ObjectId('661330752c943f0d2e8ad6b9'), ObjectId('661330752c943f0d2e8ad6ba'), ObjectId('661330752c943f0d2e8ad6bb'), ObjectId('661330752c943f0d2e8ad6bc'), ObjectId('661330752c943f0d2e8ad6bd'), ObjectId('661330752c943f0d2e8ad6be'), ObjectId('661330752c943f0d2e8ad6bf'), ObjectId('661330752c943f0d2e8ad6c0'), ObjectId('661330752c943f0d2e8ad6c1'), ObjectId('661330752c943f0d2e8ad6c2'), ObjectId('661330752c943f0d2e8ad6c3'), ObjectId('661330752c943f0d2e8ad6c4'), ObjectId('661330752c943f0d2e8ad6c5'), ObjectId('661330752c943f0d2e8ad6c6'), ObjectId('661330752c943f0d2e8ad6c7'), ObjectId('661330752c943f0d2e8ad6c8'), ObjectId('661330752c943f0d2e8ad6c9'), ObjectId('661330752c943f0d2e8ad6ca'), ObjectId('661330752c943f0d2e8ad6cb'), ObjectId('661330752c943f0d2e8ad6cc'), ObjectId('661330752c943f0d2e8ad6cd'), ObjectId('661330752c943f0d2e8ad6ce'), ObjectId('661330752c943f0d2e8ad6cf'), ObjectId('661330752c943f0d2e8ad6d0'), ObjectId('661330752c943f0d2e8ad6d1'), ObjectId('661330752c943f0d2e8ad6d2'), ObjectId('661330752c943f0d2e8ad6d3'), ObjectId('661330752c943f0d2e8ad6d4'), ObjectId('661330752c943f0d2e8ad6d5'), ObjectId('661330752c943f0d2e8ad6d6'), ObjectId('661330752c943f0d2e8ad6d7'), ObjectId('661330752c943f0d2e8ad6d8'), ObjectId('661330752c943f0d2e8ad6d9'), ObjectId('661330752c943f0d2e8ad6da'), ObjectId('661330752c943f0d2e8ad6db'), ObjectId('661330752c943f0d2e8ad6dc'), ObjectId('661330752c943f0d2e8ad6dd'), ObjectId('661330752c943f0d2e8ad6de'), ObjectId('661330752c943f0d2e8ad6df'), ObjectId('661330752c943f0d2e8ad6e0'), ObjectId('661330752c943f0d2e8ad6e1'), ObjectId('661330752c943f0d2e8ad6e2'), ObjectId('661330752c943f0d2e8ad6e3'), ObjectId('661330752c943f0d2e8ad6e4'), ObjectId('661330752c943f0d2e8ad6e5'), ObjectId('661330752c943f0d2e8ad6e6'), ObjectId('661330752c943f0d2e8ad6e7'), ObjectId('661330752c943f0d2e8ad6e8'), ObjectId('661330752c943f0d2e8ad6e9'), ObjectId('661330752c943f0d2e8ad6ea'), ObjectId('661330752c943f0d2e8ad6eb'), ObjectId('661330752c943f0d2e8ad6ec'), ObjectId('661330752c943f0d2e8ad6ed'), ObjectId('661330752c943f0d2e8ad6ee'), ObjectId('661330752c943f0d2e8ad6ef'), ObjectId('661330752c943f0d2e8ad6f0'), ObjectId('661330752c943f0d2e8ad6f1'), ObjectId('661330752c943f0d2e8ad6f2'), ObjectId('661330752c943f0d2e8ad6f3'), ObjectId('661330752c943f0d2e8ad6f4'), ObjectId('661330752c943f0d2e8ad6f5'), ObjectId('661330752c943f0d2e8ad6f6'), ObjectId('661330752c943f0d2e8ad6f7'), ObjectId('661330752c943f0d2e8ad6f8'), ObjectId('661330752c943f0d2e8ad6f9'), ObjectId('661330752c943f0d2e8ad6fa'), ObjectId('661330752c943f0d2e8ad6fb'), ObjectId('661330752c943f0d2e8ad6fc'), ObjectId('661330752c943f0d2e8ad6fd'), ObjectId('661330752c943f0d2e8ad6fe'), ObjectId('661330752c943f0d2e8ad6ff'), ObjectId('661330752c943f0d2e8ad700'), ObjectId('661330752c943f0d2e8ad701'), ObjectId('661330752c943f0d2e8ad702'), ObjectId('661330752c943f0d2e8ad703'), ObjectId('661330752c943f0d2e8ad704'), ObjectId('661330752c943f0d2e8ad705'), ObjectId('661330752c943f0d2e8ad706'), ObjectId('661330752c943f0d2e8ad707'), ObjectId('661330752c943f0d2e8ad708'), ObjectId('661330752c943f0d2e8ad709'), ObjectId('661330752c943f0d2e8ad70a'), ObjectId('661330752c943f0d2e8ad70b'), ObjectId('661330752c943f0d2e8ad70c'), ObjectId('661330752c943f0d2e8ad70d'), ObjectId('661330752c943f0d2e8ad70e'), ObjectId('661330752c943f0d2e8ad70f'), ObjectId('661330752c943f0d2e8ad710'), ObjectId('661330752c943f0d2e8ad711'), ObjectId('661330752c943f0d2e8ad712'), ObjectId('661330752c943f0d2e8ad713'), ObjectId('661330752c943f0d2e8ad714'), ObjectId('661330752c943f0d2e8ad715'), ObjectId('661330752c943f0d2e8ad716'), ObjectId('661330752c943f0d2e8ad717'), ObjectId('661330752c943f0d2e8ad718'), ObjectId('661330752c943f0d2e8ad719'), ObjectId('661330752c943f0d2e8ad71a'), ObjectId('661330752c943f0d2e8ad71b'), ObjectId('661330752c943f0d2e8ad71c'), ObjectId('661330752c943f0d2e8ad71d'), ObjectId('661330752c943f0d2e8ad71e'), ObjectId('661330752c943f0d2e8ad71f'), ObjectId('661330752c943f0d2e8ad720'), ObjectId('661330752c943f0d2e8ad721'), ObjectId('661330752c943f0d2e8ad722'), ObjectId('661330752c943f0d2e8ad723'), ObjectId('661330752c943f0d2e8ad724'), ObjectId('661330752c943f0d2e8ad725'), ObjectId('661330752c943f0d2e8ad726'), ObjectId('661330752c943f0d2e8ad727'), ObjectId('661330752c943f0d2e8ad728'), ObjectId('661330752c943f0d2e8ad729'), ObjectId('661330752c943f0d2e8ad72a'), ObjectId('661330752c943f0d2e8ad72b'), ObjectId('661330752c943f0d2e8ad72c'), ObjectId('661330752c943f0d2e8ad72d'), ObjectId('661330752c943f0d2e8ad72e'), ObjectId('661330752c943f0d2e8ad72f'), ObjectId('661330752c943f0d2e8ad730'), ObjectId('661330752c943f0d2e8ad731'), ObjectId('661330752c943f0d2e8ad732'), ObjectId('661330752c943f0d2e8ad733'), ObjectId('661330752c943f0d2e8ad734'), ObjectId('661330752c943f0d2e8ad735'), ObjectId('661330752c943f0d2e8ad736'), ObjectId('661330752c943f0d2e8ad737'), ObjectId('661330752c943f0d2e8ad738'), ObjectId('661330752c943f0d2e8ad739'), ObjectId('661330752c943f0d2e8ad73a'), ObjectId('661330752c943f0d2e8ad73b'), ObjectId('661330752c943f0d2e8ad73c'), ObjectId('661330752c943f0d2e8ad73d'), ObjectId('661330752c943f0d2e8ad73e'), ObjectId('661330752c943f0d2e8ad73f'), ObjectId('661330752c943f0d2e8ad740'), ObjectId('661330752c943f0d2e8ad741'), ObjectId('661330752c943f0d2e8ad742'), ObjectId('661330752c943f0d2e8ad743'), ObjectId('661330752c943f0d2e8ad744'), ObjectId('661330752c943f0d2e8ad745'), ObjectId('661330752c943f0d2e8ad746'), ObjectId('661330752c943f0d2e8ad747'), ObjectId('661330752c943f0d2e8ad748'), ObjectId('661330752c943f0d2e8ad749'), ObjectId('661330752c943f0d2e8ad74a'), ObjectId('661330752c943f0d2e8ad74b'), ObjectId('661330752c943f0d2e8ad74c'), ObjectId('661330752c943f0d2e8ad74d'), ObjectId('661330752c943f0d2e8ad74e'), ObjectId('661330752c943f0d2e8ad74f'), ObjectId('661330752c943f0d2e8ad750'), ObjectId('661330752c943f0d2e8ad751'), ObjectId('661330752c943f0d2e8ad752'), ObjectId('661330752c943f0d2e8ad753'), ObjectId('661330752c943f0d2e8ad754'), ObjectId('661330752c943f0d2e8ad755'), ObjectId('661330752c943f0d2e8ad756'), ObjectId('661330752c943f0d2e8ad757'), ObjectId('661330752c943f0d2e8ad758'), ObjectId('661330752c943f0d2e8ad759'), ObjectId('661330752c943f0d2e8ad75a'), ObjectId('661330752c943f0d2e8ad75b'), ObjectId('661330752c943f0d2e8ad75c'), ObjectId('661330752c943f0d2e8ad75d'), ObjectId('661330752c943f0d2e8ad75e'), ObjectId('661330752c943f0d2e8ad75f'), ObjectId('661330752c943f0d2e8ad760'), ObjectId('661330752c943f0d2e8ad761'), ObjectId('661330752c943f0d2e8ad762'), ObjectId('661330752c943f0d2e8ad763'), ObjectId('661330752c943f0d2e8ad764'), ObjectId('661330752c943f0d2e8ad765'), ObjectId('661330752c943f0d2e8ad766'), ObjectId('661330752c943f0d2e8ad767'), ObjectId('661330752c943f0d2e8ad768'), ObjectId('661330752c943f0d2e8ad769'), ObjectId('661330752c943f0d2e8ad76a'), ObjectId('661330752c943f0d2e8ad76b'), ObjectId('661330752c943f0d2e8ad76c'), ObjectId('661330752c943f0d2e8ad76d'), ObjectId('661330752c943f0d2e8ad76e'), ObjectId('661330752c943f0d2e8ad76f'), ObjectId('661330752c943f0d2e8ad770'), ObjectId('661330752c943f0d2e8ad771'), ObjectId('661330752c943f0d2e8ad772'), ObjectId('661330752c943f0d2e8ad773'), ObjectId('661330752c943f0d2e8ad774'), ObjectId('661330752c943f0d2e8ad775'), ObjectId('661330752c943f0d2e8ad776'), ObjectId('661330752c943f0d2e8ad777'), ObjectId('661330752c943f0d2e8ad778'), ObjectId('661330752c943f0d2e8ad779'), ObjectId('661330752c943f0d2e8ad77a'), ObjectId('661330752c943f0d2e8ad77b'), ObjectId('661330752c943f0d2e8ad77c'), ObjectId('661330752c943f0d2e8ad77d'), ObjectId('661330752c943f0d2e8ad77e'), ObjectId('661330752c943f0d2e8ad77f'), ObjectId('661330752c943f0d2e8ad780'), ObjectId('661330752c943f0d2e8ad781'), ObjectId('661330752c943f0d2e8ad782'), ObjectId('661330752c943f0d2e8ad783'), ObjectId('661330752c943f0d2e8ad784'), ObjectId('661330752c943f0d2e8ad785'), ObjectId('661330752c943f0d2e8ad786'), ObjectId('661330752c943f0d2e8ad787'), ObjectId('661330752c943f0d2e8ad788'), ObjectId('661330752c943f0d2e8ad789'), ObjectId('661330752c943f0d2e8ad78a'), ObjectId('661330752c943f0d2e8ad78b'), ObjectId('661330752c943f0d2e8ad78c'), ObjectId('661330752c943f0d2e8ad78d'), ObjectId('661330752c943f0d2e8ad78e'), ObjectId('661330752c943f0d2e8ad78f'), ObjectId('661330752c943f0d2e8ad790'), ObjectId('661330752c943f0d2e8ad791'), ObjectId('661330752c943f0d2e8ad792'), ObjectId('661330752c943f0d2e8ad793'), ObjectId('661330752c943f0d2e8ad794'), ObjectId('661330752c943f0d2e8ad795'), ObjectId('661330752c943f0d2e8ad796'), ObjectId('661330752c943f0d2e8ad797'), ObjectId('661330752c943f0d2e8ad798'), ObjectId('661330752c943f0d2e8ad799'), ObjectId('661330752c943f0d2e8ad79a'), ObjectId('661330752c943f0d2e8ad79b'), ObjectId('661330752c943f0d2e8ad79c'), ObjectId('661330752c943f0d2e8ad79d'), ObjectId('661330752c943f0d2e8ad79e'), ObjectId('661330752c943f0d2e8ad79f'), ObjectId('661330752c943f0d2e8ad7a0'), ObjectId('661330752c943f0d2e8ad7a1'), ObjectId('661330752c943f0d2e8ad7a2'), ObjectId('661330752c943f0d2e8ad7a3'), ObjectId('661330752c943f0d2e8ad7a4'), ObjectId('661330752c943f0d2e8ad7a5'), ObjectId('661330752c943f0d2e8ad7a6'), ObjectId('661330752c943f0d2e8ad7a7'), ObjectId('661330752c943f0d2e8ad7a8'), ObjectId('661330752c943f0d2e8ad7a9'), ObjectId('661330752c943f0d2e8ad7aa'), ObjectId('661330752c943f0d2e8ad7ab'), ObjectId('661330752c943f0d2e8ad7ac'), ObjectId('661330752c943f0d2e8ad7ad'), ObjectId('661330752c943f0d2e8ad7ae'), ObjectId('661330752c943f0d2e8ad7af'), ObjectId('661330752c943f0d2e8ad7b0'), ObjectId('661330752c943f0d2e8ad7b1'), ObjectId('661330752c943f0d2e8ad7b2'), ObjectId('661330752c943f0d2e8ad7b3'), ObjectId('661330752c943f0d2e8ad7b4'), ObjectId('661330752c943f0d2e8ad7b5'), ObjectId('661330752c943f0d2e8ad7b6'), ObjectId('661330752c943f0d2e8ad7b7'), ObjectId('661330752c943f0d2e8ad7b8'), ObjectId('661330752c943f0d2e8ad7b9'), ObjectId('661330752c943f0d2e8ad7ba'), ObjectId('661330752c943f0d2e8ad7bb'), ObjectId('661330752c943f0d2e8ad7bc'), ObjectId('661330752c943f0d2e8ad7bd'), ObjectId('661330752c943f0d2e8ad7be'), ObjectId('661330752c943f0d2e8ad7bf'), ObjectId('661330752c943f0d2e8ad7c0'), ObjectId('661330752c943f0d2e8ad7c1'), ObjectId('661330752c943f0d2e8ad7c2'), ObjectId('661330752c943f0d2e8ad7c3'), ObjectId('661330752c943f0d2e8ad7c4'), ObjectId('661330752c943f0d2e8ad7c5'), ObjectId('661330752c943f0d2e8ad7c6'), ObjectId('661330752c943f0d2e8ad7c7'), ObjectId('661330752c943f0d2e8ad7c8'), ObjectId('661330752c943f0d2e8ad7c9'), ObjectId('661330752c943f0d2e8ad7ca'), ObjectId('661330752c943f0d2e8ad7cb'), ObjectId('661330752c943f0d2e8ad7cc'), ObjectId('661330752c943f0d2e8ad7cd'), ObjectId('661330752c943f0d2e8ad7ce'), ObjectId('661330752c943f0d2e8ad7cf'), ObjectId('661330752c943f0d2e8ad7d0'), ObjectId('661330752c943f0d2e8ad7d1'), ObjectId('661330752c943f0d2e8ad7d2'), ObjectId('661330752c943f0d2e8ad7d3'), ObjectId('661330752c943f0d2e8ad7d4'), ObjectId('661330752c943f0d2e8ad7d5'), ObjectId('661330752c943f0d2e8ad7d6'), ObjectId('661330752c943f0d2e8ad7d7'), ObjectId('661330752c943f0d2e8ad7d8'), ObjectId('661330752c943f0d2e8ad7d9'), ObjectId('661330752c943f0d2e8ad7da'), ObjectId('661330752c943f0d2e8ad7db'), ObjectId('661330752c943f0d2e8ad7dc'), ObjectId('661330752c943f0d2e8ad7dd'), ObjectId('661330752c943f0d2e8ad7de'), ObjectId('661330752c943f0d2e8ad7df'), ObjectId('661330752c943f0d2e8ad7e0'), ObjectId('661330752c943f0d2e8ad7e1'), ObjectId('661330752c943f0d2e8ad7e2'), ObjectId('661330752c943f0d2e8ad7e3'), ObjectId('661330752c943f0d2e8ad7e4'), ObjectId('661330752c943f0d2e8ad7e5'), ObjectId('661330752c943f0d2e8ad7e6'), ObjectId('661330752c943f0d2e8ad7e7'), ObjectId('661330752c943f0d2e8ad7e8'), ObjectId('661330752c943f0d2e8ad7e9'), ObjectId('661330752c943f0d2e8ad7ea'), ObjectId('661330752c943f0d2e8ad7eb'), ObjectId('661330752c943f0d2e8ad7ec'), ObjectId('661330752c943f0d2e8ad7ed'), ObjectId('661330752c943f0d2e8ad7ee'), ObjectId('661330752c943f0d2e8ad7ef'), ObjectId('661330752c943f0d2e8ad7f0'), ObjectId('661330752c943f0d2e8ad7f1'), ObjectId('661330752c943f0d2e8ad7f2'), ObjectId('661330752c943f0d2e8ad7f3'), ObjectId('661330752c943f0d2e8ad7f4'), ObjectId('661330752c943f0d2e8ad7f5'), ObjectId('661330752c943f0d2e8ad7f6'), ObjectId('661330752c943f0d2e8ad7f7'), ObjectId('661330752c943f0d2e8ad7f8'), ObjectId('661330752c943f0d2e8ad7f9'), ObjectId('661330752c943f0d2e8ad7fa'), ObjectId('661330752c943f0d2e8ad7fb'), ObjectId('661330752c943f0d2e8ad7fc'), ObjectId('661330752c943f0d2e8ad7fd'), ObjectId('661330752c943f0d2e8ad7fe'), ObjectId('661330752c943f0d2e8ad7ff'), ObjectId('661330752c943f0d2e8ad800'), ObjectId('661330752c943f0d2e8ad801'), ObjectId('661330752c943f0d2e8ad802'), ObjectId('661330752c943f0d2e8ad803'), ObjectId('661330752c943f0d2e8ad804'), ObjectId('661330752c943f0d2e8ad805'), ObjectId('661330752c943f0d2e8ad806'), ObjectId('661330752c943f0d2e8ad807'), ObjectId('661330752c943f0d2e8ad808'), ObjectId('661330752c943f0d2e8ad809'), ObjectId('661330752c943f0d2e8ad80a'), ObjectId('661330752c943f0d2e8ad80b'), ObjectId('661330752c943f0d2e8ad80c'), ObjectId('661330752c943f0d2e8ad80d'), ObjectId('661330752c943f0d2e8ad80e'), ObjectId('661330752c943f0d2e8ad80f'), ObjectId('661330752c943f0d2e8ad810'), ObjectId('661330752c943f0d2e8ad811'), ObjectId('661330752c943f0d2e8ad812'), ObjectId('661330752c943f0d2e8ad813'), ObjectId('661330752c943f0d2e8ad814'), ObjectId('661330752c943f0d2e8ad815'), ObjectId('661330752c943f0d2e8ad816'), ObjectId('661330752c943f0d2e8ad817'), ObjectId('661330752c943f0d2e8ad818'), ObjectId('661330752c943f0d2e8ad819'), ObjectId('661330752c943f0d2e8ad81a'), ObjectId('661330752c943f0d2e8ad81b'), ObjectId('661330752c943f0d2e8ad81c'), ObjectId('661330752c943f0d2e8ad81d'), ObjectId('661330752c943f0d2e8ad81e'), ObjectId('661330752c943f0d2e8ad81f'), ObjectId('661330752c943f0d2e8ad820'), ObjectId('661330752c943f0d2e8ad821'), ObjectId('661330752c943f0d2e8ad822'), ObjectId('661330752c943f0d2e8ad823'), ObjectId('661330752c943f0d2e8ad824'), ObjectId('661330752c943f0d2e8ad825'), ObjectId('661330752c943f0d2e8ad826'), ObjectId('661330752c943f0d2e8ad827'), ObjectId('661330752c943f0d2e8ad828'), ObjectId('661330752c943f0d2e8ad829'), ObjectId('661330752c943f0d2e8ad82a'), ObjectId('661330752c943f0d2e8ad82b'), ObjectId('661330752c943f0d2e8ad82c'), ObjectId('661330752c943f0d2e8ad82d'), ObjectId('661330752c943f0d2e8ad82e'), ObjectId('661330752c943f0d2e8ad82f'), ObjectId('661330752c943f0d2e8ad830'), ObjectId('661330752c943f0d2e8ad831'), ObjectId('661330752c943f0d2e8ad832'), ObjectId('661330752c943f0d2e8ad833'), ObjectId('661330752c943f0d2e8ad834'), ObjectId('661330752c943f0d2e8ad835'), ObjectId('661330752c943f0d2e8ad836'), ObjectId('661330752c943f0d2e8ad837'), ObjectId('661330752c943f0d2e8ad838'), ObjectId('661330752c943f0d2e8ad839'), ObjectId('661330752c943f0d2e8ad83a'), ObjectId('661330752c943f0d2e8ad83b'), ObjectId('661330752c943f0d2e8ad83c'), ObjectId('661330752c943f0d2e8ad83d'), ObjectId('661330752c943f0d2e8ad83e'), ObjectId('661330752c943f0d2e8ad83f'), ObjectId('661330752c943f0d2e8ad840'), ObjectId('661330752c943f0d2e8ad841'), ObjectId('661330752c943f0d2e8ad842'), ObjectId('661330752c943f0d2e8ad843'), ObjectId('661330752c943f0d2e8ad844'), ObjectId('661330752c943f0d2e8ad845'), ObjectId('661330752c943f0d2e8ad846'), ObjectId('661330752c943f0d2e8ad847'), ObjectId('661330752c943f0d2e8ad848'), ObjectId('661330752c943f0d2e8ad849'), ObjectId('661330752c943f0d2e8ad84a'), ObjectId('661330752c943f0d2e8ad84b'), ObjectId('661330752c943f0d2e8ad84c'), ObjectId('661330752c943f0d2e8ad84d'), ObjectId('661330752c943f0d2e8ad84e'), ObjectId('661330752c943f0d2e8ad84f'), ObjectId('661330752c943f0d2e8ad850'), ObjectId('661330752c943f0d2e8ad851'), ObjectId('661330752c943f0d2e8ad852'), ObjectId('661330752c943f0d2e8ad853'), ObjectId('661330752c943f0d2e8ad854'), ObjectId('661330752c943f0d2e8ad855'), ObjectId('661330752c943f0d2e8ad856'), ObjectId('661330752c943f0d2e8ad857'), ObjectId('661330752c943f0d2e8ad858'), ObjectId('661330752c943f0d2e8ad859'), ObjectId('661330752c943f0d2e8ad85a'), ObjectId('661330752c943f0d2e8ad85b'), ObjectId('661330752c943f0d2e8ad85c'), ObjectId('661330752c943f0d2e8ad85d'), ObjectId('661330752c943f0d2e8ad85e'), ObjectId('661330752c943f0d2e8ad85f'), ObjectId('661330752c943f0d2e8ad860'), ObjectId('661330752c943f0d2e8ad861'), ObjectId('661330752c943f0d2e8ad862'), ObjectId('661330752c943f0d2e8ad863'), ObjectId('661330752c943f0d2e8ad864'), ObjectId('661330752c943f0d2e8ad865'), ObjectId('661330752c943f0d2e8ad866'), ObjectId('661330752c943f0d2e8ad867'), ObjectId('661330752c943f0d2e8ad868'), ObjectId('661330752c943f0d2e8ad869'), ObjectId('661330752c943f0d2e8ad86a'), ObjectId('661330752c943f0d2e8ad86b'), ObjectId('661330752c943f0d2e8ad86c'), ObjectId('661330752c943f0d2e8ad86d'), ObjectId('661330752c943f0d2e8ad86e'), ObjectId('661330752c943f0d2e8ad86f'), ObjectId('661330752c943f0d2e8ad870'), ObjectId('661330752c943f0d2e8ad871'), ObjectId('661330752c943f0d2e8ad872'), ObjectId('661330752c943f0d2e8ad873'), ObjectId('661330752c943f0d2e8ad874'), ObjectId('661330752c943f0d2e8ad875'), ObjectId('661330752c943f0d2e8ad876'), ObjectId('661330752c943f0d2e8ad877'), ObjectId('661330752c943f0d2e8ad878'), ObjectId('661330752c943f0d2e8ad879'), ObjectId('661330752c943f0d2e8ad87a'), ObjectId('661330752c943f0d2e8ad87b'), ObjectId('661330752c943f0d2e8ad87c'), ObjectId('661330752c943f0d2e8ad87d'), ObjectId('661330752c943f0d2e8ad87e'), ObjectId('661330752c943f0d2e8ad87f'), ObjectId('661330752c943f0d2e8ad880'), ObjectId('661330752c943f0d2e8ad881'), ObjectId('661330752c943f0d2e8ad882'), ObjectId('661330752c943f0d2e8ad883'), ObjectId('661330752c943f0d2e8ad884'), ObjectId('661330752c943f0d2e8ad885'), ObjectId('661330752c943f0d2e8ad886'), ObjectId('661330752c943f0d2e8ad887'), ObjectId('661330752c943f0d2e8ad888'), ObjectId('661330752c943f0d2e8ad889'), ObjectId('661330752c943f0d2e8ad88a'), ObjectId('661330752c943f0d2e8ad88b'), ObjectId('661330752c943f0d2e8ad88c'), ObjectId('661330752c943f0d2e8ad88d'), ObjectId('661330752c943f0d2e8ad88e'), ObjectId('661330752c943f0d2e8ad88f'), ObjectId('661330752c943f0d2e8ad890'), ObjectId('661330752c943f0d2e8ad891'), ObjectId('661330752c943f0d2e8ad892'), ObjectId('661330752c943f0d2e8ad893'), ObjectId('661330752c943f0d2e8ad894'), ObjectId('661330752c943f0d2e8ad895'), ObjectId('661330752c943f0d2e8ad896'), ObjectId('661330752c943f0d2e8ad897'), ObjectId('661330752c943f0d2e8ad898'), ObjectId('661330752c943f0d2e8ad899'), ObjectId('661330752c943f0d2e8ad89a'), ObjectId('661330752c943f0d2e8ad89b'), ObjectId('661330752c943f0d2e8ad89c'), ObjectId('661330752c943f0d2e8ad89d'), ObjectId('661330752c943f0d2e8ad89e'), ObjectId('661330752c943f0d2e8ad89f'), ObjectId('661330752c943f0d2e8ad8a0'), ObjectId('661330752c943f0d2e8ad8a1'), ObjectId('661330752c943f0d2e8ad8a2'), ObjectId('661330752c943f0d2e8ad8a3'), ObjectId('661330752c943f0d2e8ad8a4'), ObjectId('661330752c943f0d2e8ad8a5'), ObjectId('661330752c943f0d2e8ad8a6'), ObjectId('661330752c943f0d2e8ad8a7'), ObjectId('661330752c943f0d2e8ad8a8'), ObjectId('661330752c943f0d2e8ad8a9'), ObjectId('661330752c943f0d2e8ad8aa'), ObjectId('661330752c943f0d2e8ad8ab'), ObjectId('661330752c943f0d2e8ad8ac'), ObjectId('661330752c943f0d2e8ad8ad'), ObjectId('661330752c943f0d2e8ad8ae'), ObjectId('661330752c943f0d2e8ad8af'), ObjectId('661330752c943f0d2e8ad8b0'), ObjectId('661330752c943f0d2e8ad8b1'), ObjectId('661330752c943f0d2e8ad8b2'), ObjectId('661330752c943f0d2e8ad8b3'), ObjectId('661330752c943f0d2e8ad8b4'), ObjectId('661330752c943f0d2e8ad8b5'), ObjectId('661330752c943f0d2e8ad8b6'), ObjectId('661330752c943f0d2e8ad8b7'), ObjectId('661330752c943f0d2e8ad8b8'), ObjectId('661330752c943f0d2e8ad8b9'), ObjectId('661330752c943f0d2e8ad8ba'), ObjectId('661330752c943f0d2e8ad8bb'), ObjectId('661330752c943f0d2e8ad8bc'), ObjectId('661330752c943f0d2e8ad8bd'), ObjectId('661330752c943f0d2e8ad8be'), ObjectId('661330752c943f0d2e8ad8bf'), ObjectId('661330752c943f0d2e8ad8c0'), ObjectId('661330752c943f0d2e8ad8c1'), ObjectId('661330752c943f0d2e8ad8c2'), ObjectId('661330752c943f0d2e8ad8c3'), ObjectId('661330752c943f0d2e8ad8c4'), ObjectId('661330752c943f0d2e8ad8c5'), ObjectId('661330752c943f0d2e8ad8c6'), ObjectId('661330752c943f0d2e8ad8c7'), ObjectId('661330752c943f0d2e8ad8c8'), ObjectId('661330752c943f0d2e8ad8c9'), ObjectId('661330752c943f0d2e8ad8ca'), ObjectId('661330752c943f0d2e8ad8cb'), ObjectId('661330752c943f0d2e8ad8cc'), ObjectId('661330752c943f0d2e8ad8cd'), ObjectId('661330752c943f0d2e8ad8ce'), ObjectId('661330752c943f0d2e8ad8cf'), ObjectId('661330752c943f0d2e8ad8d0'), ObjectId('661330752c943f0d2e8ad8d1'), ObjectId('661330752c943f0d2e8ad8d2'), ObjectId('661330752c943f0d2e8ad8d3'), ObjectId('661330752c943f0d2e8ad8d4'), ObjectId('661330752c943f0d2e8ad8d5'), ObjectId('661330752c943f0d2e8ad8d6'), ObjectId('661330752c943f0d2e8ad8d7'), ObjectId('661330752c943f0d2e8ad8d8'), ObjectId('661330752c943f0d2e8ad8d9'), ObjectId('661330752c943f0d2e8ad8da'), ObjectId('661330752c943f0d2e8ad8db'), ObjectId('661330752c943f0d2e8ad8dc'), ObjectId('661330752c943f0d2e8ad8dd'), ObjectId('661330752c943f0d2e8ad8de'), ObjectId('661330752c943f0d2e8ad8df'), ObjectId('661330752c943f0d2e8ad8e0'), ObjectId('661330752c943f0d2e8ad8e1'), ObjectId('661330752c943f0d2e8ad8e2'), ObjectId('661330752c943f0d2e8ad8e3'), ObjectId('661330752c943f0d2e8ad8e4'), ObjectId('661330752c943f0d2e8ad8e5'), ObjectId('661330752c943f0d2e8ad8e6'), ObjectId('661330752c943f0d2e8ad8e7'), ObjectId('661330752c943f0d2e8ad8e8'), ObjectId('661330752c943f0d2e8ad8e9'), ObjectId('661330752c943f0d2e8ad8ea'), ObjectId('661330752c943f0d2e8ad8eb'), ObjectId('661330752c943f0d2e8ad8ec'), ObjectId('661330752c943f0d2e8ad8ed'), ObjectId('661330752c943f0d2e8ad8ee'), ObjectId('661330752c943f0d2e8ad8ef'), ObjectId('661330752c943f0d2e8ad8f0'), ObjectId('661330752c943f0d2e8ad8f1'), ObjectId('661330752c943f0d2e8ad8f2'), ObjectId('661330752c943f0d2e8ad8f3'), ObjectId('661330752c943f0d2e8ad8f4'), ObjectId('661330752c943f0d2e8ad8f5'), ObjectId('661330752c943f0d2e8ad8f6'), ObjectId('661330752c943f0d2e8ad8f7'), ObjectId('661330752c943f0d2e8ad8f8'), ObjectId('661330752c943f0d2e8ad8f9'), ObjectId('661330752c943f0d2e8ad8fa'), ObjectId('661330752c943f0d2e8ad8fb'), ObjectId('661330752c943f0d2e8ad8fc'), ObjectId('661330752c943f0d2e8ad8fd'), ObjectId('661330752c943f0d2e8ad8fe'), ObjectId('661330752c943f0d2e8ad8ff'), ObjectId('661330752c943f0d2e8ad900'), ObjectId('661330752c943f0d2e8ad901'), ObjectId('661330752c943f0d2e8ad902'), ObjectId('661330752c943f0d2e8ad903'), ObjectId('661330752c943f0d2e8ad904'), ObjectId('661330752c943f0d2e8ad905'), ObjectId('661330752c943f0d2e8ad906'), ObjectId('661330752c943f0d2e8ad907'), ObjectId('661330752c943f0d2e8ad908'), ObjectId('661330752c943f0d2e8ad909'), ObjectId('661330752c943f0d2e8ad90a'), ObjectId('661330752c943f0d2e8ad90b'), ObjectId('661330752c943f0d2e8ad90c'), ObjectId('661330752c943f0d2e8ad90d'), ObjectId('661330752c943f0d2e8ad90e'), ObjectId('661330752c943f0d2e8ad90f'), ObjectId('661330752c943f0d2e8ad910'), ObjectId('661330752c943f0d2e8ad911'), ObjectId('661330752c943f0d2e8ad912'), ObjectId('661330752c943f0d2e8ad913'), ObjectId('661330752c943f0d2e8ad914'), ObjectId('661330752c943f0d2e8ad915'), ObjectId('661330752c943f0d2e8ad916'), ObjectId('661330752c943f0d2e8ad917'), ObjectId('661330752c943f0d2e8ad918'), ObjectId('661330752c943f0d2e8ad919')], acknowledged=True)"
      ]
     },
     "execution_count": 98,
     "metadata": {},
     "output_type": "execute_result"
    }
   ],
   "source": [
    "# Отправим данные в БД MongoDB\n",
    "collection.insert_many(acb_list)"
   ]
  },
  {
   "cell_type": "markdown",
   "id": "45868417-03c2-4007-8d6c-cbbc21c0b213",
   "metadata": {},
   "source": [
    "## Вывод:\n",
    "Взял информацию с сайта `https://www.wildberries.ru/` об аккумуляторах 12V для ИБП. С помощью скрипта ввёл информацию для поиска, после чего скрипт прокручивал страницу, чтобы загрузились все товары. Далее сохранял все ссылки на аккумуляторы в список и если присутствовала кнопка далее, скрипт нажимал её.\n",
    "После того как были собраны все ссылки на аккумуляторы, в другом окне браузера открывалась каждая ссылка и извлекались следующие данные:  \n",
    "- марка;\n",
    "- напряжение аккумулятора;\n",
    "- ёмкость аккумулятора;\n",
    "- бренд;\n",
    "- страна производитель;\n",
    "- цена;\n",
    "- url.\n",
    "  \n",
    "Сначала хотел забирать данные с `OnlineTrade.ru` но сайт понял, что я робот и начал задавать различные задания - типа поверните картинку в правильном положении, поэтому перешел на `https://www.wildberries.ru/`. Все параметры (таймауты, число пикселей прокрутки и т.д.) подбирал экспериментальным путём. Отлаживал программу частично в PyCharm Profecional (демо версия), частично в Jupiter Notebook.\n",
    "\n",
    "Для автоматического сбора данных, нажмите в Jupiter Notebook -> выполнить все (`Run All Cells`)"
   ]
  },
  {
   "cell_type": "code",
   "execution_count": null,
   "id": "d702ad80-9113-4054-ae82-21a7553d0c7a",
   "metadata": {},
   "outputs": [],
   "source": []
  }
 ],
 "metadata": {
  "kernelspec": {
   "display_name": "Python 3 (ipykernel)",
   "language": "python",
   "name": "python3"
  },
  "language_info": {
   "codemirror_mode": {
    "name": "ipython",
    "version": 3
   },
   "file_extension": ".py",
   "mimetype": "text/x-python",
   "name": "python",
   "nbconvert_exporter": "python",
   "pygments_lexer": "ipython3",
   "version": "3.11.8"
  }
 },
 "nbformat": 4,
 "nbformat_minor": 5
}
