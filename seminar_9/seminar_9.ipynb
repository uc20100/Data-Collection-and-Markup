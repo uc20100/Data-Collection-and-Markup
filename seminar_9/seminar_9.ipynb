{
 "cells": [
  {
   "cell_type": "markdown",
   "id": "9a23f3ae-9905-4bc1-99ef-a668c3284708",
   "metadata": {},
   "source": [
    "# ДЗ по \"Сбор и разметка данных (семинары)\"\n",
    "## Семинар 9. Инструменты разметки наборов данных\n",
    "* Домашнее задание:\n",
    "- Задача 1.\n",
    "Выберите датасет, который имеет отношение к вашей области интересов или исследований. Датасет должен содержать неструктурированные данные, требующие разметки для решения конкретной задачи, например, анализа настроений или распознавания именованных сущностей.\n",
    "\n",
    "- Задача 2.\n",
    "Выполните разметку на основе правил (rule-based labeling) на подмножестве выбранного датасета. Разработайте и реализуйте набор правил или условий, которые позволят автоматически присваивать метки данным на основе определенных шаблонов или критериев.\n",
    "\n",
    "- Задача 3.\n",
    "Выполните разметку вручную отдельного подмножества выбранного датасета с помощью выбранного вами инструмента разметки.\n",
    "\n",
    "- Задача 4.\n",
    "Объедините данные, размеченные вручную, с данными, размеченными на основе правил. Объедините два подмножества размеченных данных в один набор данных, сохранив при этом соответствующую структуру и целостность.\n",
    "\n",
    "- Задача 5.\n",
    "Обучите модель машинного обучения, используя объединенный набор размеченных данных. Разделите датасет на обучающий и тестовый наборы и используйте обучающий набор для обучения модели.\n",
    "\n",
    "- Задача 6.\n",
    "Оценить эффективность обученной модели на тестовом датасете. Используйте подходящие метрики оценки. Интерпретируйте результаты и проанализируйте эффективность модели в решении задачи разметки.\n",
    "\n"
   ]
  },
  {
   "cell_type": "code",
   "execution_count": 1,
   "id": "21d0cb0d-dfc9-4cd5-94e9-0f21f7841c2c",
   "metadata": {
    "ExecuteTime": {
     "end_time": "2024-04-15T13:43:55.369652Z",
     "start_time": "2024-04-15T13:43:55.360649Z"
    },
    "editable": true,
    "slideshow": {
     "slide_type": ""
    },
    "tags": []
   },
   "outputs": [],
   "source": [
    "# Устанавливаем пакеты, если они не установлены\n",
    "# !pip install pandas\n",
    "# !pip install nltk\n",
    "# !pip install scikit-learn\n",
    "# !pip install label-studio\n",
    "# !pip install matplotlib\n",
    "# !pip install wget"
   ]
  },
  {
   "cell_type": "code",
   "execution_count": 2,
   "id": "a62ab52d-c7f3-408f-99f8-550b53ff2a16",
   "metadata": {
    "ExecuteTime": {
     "end_time": "2024-04-15T13:44:04.952159Z",
     "start_time": "2024-04-15T13:43:57.952664Z"
    }
   },
   "outputs": [
    {
     "name": "stderr",
     "output_type": "stream",
     "text": [
      "[nltk_data] Downloading package punkt to\n",
      "[nltk_data]     C:\\Users\\uc201\\AppData\\Roaming\\nltk_data...\n",
      "[nltk_data]   Package punkt is already up-to-date!\n"
     ]
    }
   ],
   "source": [
    "import pandas as pd\n",
    "import nltk\n",
    "# Загружаем предобученную модель токенизации текста\n",
    "nltk.download('punkt')\n",
    "import csv\n",
    "import os\n",
    "import wget\n",
    "from sklearn.utils import shuffle\n",
    "from sklearn.model_selection import train_test_split\n",
    "import matplotlib\n",
    "from sklearn.preprocessing import LabelEncoder\n",
    "from sklearn.feature_extraction.text import TfidfVectorizer\n",
    "from sklearn.linear_model import LogisticRegression\n",
    "import numpy as np\n",
    "from sklearn.metrics import f1_score"
   ]
  },
  {
   "cell_type": "markdown",
   "id": "0160061d-615a-4ae2-ac2f-bcb9aa34da56",
   "metadata": {},
   "source": [
    "## Загрузка датасетов"
   ]
  },
  {
   "cell_type": "markdown",
   "id": "f40eaed7-caaf-42be-b591-67b5f521ace5",
   "metadata": {},
   "source": [
    "###  Загрузка датасета новостей lenta.ru"
   ]
  },
  {
   "cell_type": "code",
   "execution_count": 3,
   "id": "ec0b04ee-33cd-4eaa-97c5-2e1f7a701080",
   "metadata": {
    "ExecuteTime": {
     "end_time": "2024-04-15T13:44:30.014432Z",
     "start_time": "2024-04-15T13:44:29.836317Z"
    }
   },
   "outputs": [],
   "source": [
    "# Загрузим датасет с новостями с lenta.ru\n",
    "news = pd.read_csv('./csv/news_lenta_ru.csv', engine='python', on_bad_lines='skip')"
   ]
  },
  {
   "cell_type": "code",
   "execution_count": 4,
   "id": "711ed40b-aed3-416c-8c6a-bea46e0ecf73",
   "metadata": {
    "ExecuteTime": {
     "end_time": "2024-04-15T13:44:32.315051Z",
     "start_time": "2024-04-15T13:44:32.285541Z"
    }
   },
   "outputs": [
    {
     "data": {
      "text/html": [
       "<div>\n",
       "<style scoped>\n",
       "    .dataframe tbody tr th:only-of-type {\n",
       "        vertical-align: middle;\n",
       "    }\n",
       "\n",
       "    .dataframe tbody tr th {\n",
       "        vertical-align: top;\n",
       "    }\n",
       "\n",
       "    .dataframe thead th {\n",
       "        text-align: right;\n",
       "    }\n",
       "</style>\n",
       "<table border=\"1\" class=\"dataframe\">\n",
       "  <thead>\n",
       "    <tr style=\"text-align: right;\">\n",
       "      <th></th>\n",
       "      <th>url</th>\n",
       "      <th>title</th>\n",
       "      <th>text</th>\n",
       "      <th>topic</th>\n",
       "      <th>tags</th>\n",
       "    </tr>\n",
       "  </thead>\n",
       "  <tbody>\n",
       "    <tr>\n",
       "      <th>0</th>\n",
       "      <td>https://lenta.ru/news/1914/09/16/hungarnn/</td>\n",
       "      <td>1914. Русские войска вступили в пределы Венгрии</td>\n",
       "      <td>Бои у Сопоцкина и Друскеник закончились отступ...</td>\n",
       "      <td>Библиотека</td>\n",
       "      <td>Первая мировая</td>\n",
       "    </tr>\n",
       "    <tr>\n",
       "      <th>1</th>\n",
       "      <td>https://lenta.ru/news/1914/09/16/lermontov/</td>\n",
       "      <td>1914. Празднование столетия М.Ю. Лермонтова от...</td>\n",
       "      <td>Министерство народного просвещения, в виду про...</td>\n",
       "      <td>Библиотека</td>\n",
       "      <td>Первая мировая</td>\n",
       "    </tr>\n",
       "    <tr>\n",
       "      <th>2</th>\n",
       "      <td>https://lenta.ru/news/1914/09/17/nesteroff/</td>\n",
       "      <td>1914. Das ist Nesteroff!</td>\n",
       "      <td>Штабс-капитан П. Н. Нестеров на днях, увидев в...</td>\n",
       "      <td>Библиотека</td>\n",
       "      <td>Первая мировая</td>\n",
       "    </tr>\n",
       "    <tr>\n",
       "      <th>3</th>\n",
       "      <td>https://lenta.ru/news/1914/09/17/bulldogn/</td>\n",
       "      <td>1914. Бульдог-гонец под Льежем</td>\n",
       "      <td>Фотограф-корреспондент Daily Mirror рассказыва...</td>\n",
       "      <td>Библиотека</td>\n",
       "      <td>Первая мировая</td>\n",
       "    </tr>\n",
       "    <tr>\n",
       "      <th>4</th>\n",
       "      <td>https://lenta.ru/news/1914/09/18/zver/</td>\n",
       "      <td>1914. Под Люблином пойман швабский зверь</td>\n",
       "      <td>Лица, приехавшие в Варшаву из Люблина, передаю...</td>\n",
       "      <td>Библиотека</td>\n",
       "      <td>Первая мировая</td>\n",
       "    </tr>\n",
       "    <tr>\n",
       "      <th>...</th>\n",
       "      <td>...</td>\n",
       "      <td>...</td>\n",
       "      <td>...</td>\n",
       "      <td>...</td>\n",
       "      <td>...</td>\n",
       "    </tr>\n",
       "    <tr>\n",
       "      <th>9995</th>\n",
       "      <td>https://lenta.ru/news/2000/07/10/kpp/</td>\n",
       "      <td>На границе Дагестана и Чечни будут стрелять в ...</td>\n",
       "      <td>Глава МВД Дагестана приказал нарядам милиции н...</td>\n",
       "      <td>Россия</td>\n",
       "      <td>Все</td>\n",
       "    </tr>\n",
       "    <tr>\n",
       "      <th>9996</th>\n",
       "      <td>https://lenta.ru/news/2000/07/10/gossovet/</td>\n",
       "      <td>Путин пересадит губернаторов в Госсовет</td>\n",
       "      <td>Представители Кремля ведут активный диалог с г...</td>\n",
       "      <td>Россия</td>\n",
       "      <td>Все</td>\n",
       "    </tr>\n",
       "    <tr>\n",
       "      <th>9997</th>\n",
       "      <td>https://lenta.ru/news/2000/07/10/clowns/</td>\n",
       "      <td>В Москву съедутся клоуны со всего мира</td>\n",
       "      <td>В Москве 20 июля открывается фестиваль \"Планет...</td>\n",
       "      <td>Россия</td>\n",
       "      <td>Все</td>\n",
       "    </tr>\n",
       "    <tr>\n",
       "      <th>9998</th>\n",
       "      <td>https://lenta.ru/news/2000/07/10/women/</td>\n",
       "      <td>Старшая Уильямс выигрывает чемпионский титул</td>\n",
       "      <td>Чисто американским получился финал Уимблдонск...</td>\n",
       "      <td>Спорт</td>\n",
       "      <td>Все</td>\n",
       "    </tr>\n",
       "    <tr>\n",
       "      <th>9999</th>\n",
       "      <td>https://lenta.ru/news/2000/07/10/zenit/</td>\n",
       "      <td>\"Зенит\" выходит в третий раунд Кубка Интертото</td>\n",
       "      <td>Первым российским клубом, стартовавшим в сезон...</td>\n",
       "      <td>Спорт</td>\n",
       "      <td>Все</td>\n",
       "    </tr>\n",
       "  </tbody>\n",
       "</table>\n",
       "<p>10000 rows × 5 columns</p>\n",
       "</div>"
      ],
      "text/plain": [
       "                                              url  \\\n",
       "0      https://lenta.ru/news/1914/09/16/hungarnn/   \n",
       "1     https://lenta.ru/news/1914/09/16/lermontov/   \n",
       "2     https://lenta.ru/news/1914/09/17/nesteroff/   \n",
       "3      https://lenta.ru/news/1914/09/17/bulldogn/   \n",
       "4          https://lenta.ru/news/1914/09/18/zver/   \n",
       "...                                           ...   \n",
       "9995        https://lenta.ru/news/2000/07/10/kpp/   \n",
       "9996   https://lenta.ru/news/2000/07/10/gossovet/   \n",
       "9997     https://lenta.ru/news/2000/07/10/clowns/   \n",
       "9998      https://lenta.ru/news/2000/07/10/women/   \n",
       "9999      https://lenta.ru/news/2000/07/10/zenit/   \n",
       "\n",
       "                                                  title  \\\n",
       "0     1914. Русские войска вступили в пределы Венгрии     \n",
       "1     1914. Празднование столетия М.Ю. Лермонтова от...   \n",
       "2                              1914. Das ist Nesteroff!   \n",
       "3                       1914. Бульдог-гонец под Льежем    \n",
       "4              1914. Под Люблином пойман швабский зверь   \n",
       "...                                                 ...   \n",
       "9995  На границе Дагестана и Чечни будут стрелять в ...   \n",
       "9996            Путин пересадит губернаторов в Госсовет   \n",
       "9997             В Москву съедутся клоуны со всего мира   \n",
       "9998       Старшая Уильямс выигрывает чемпионский титул   \n",
       "9999     \"Зенит\" выходит в третий раунд Кубка Интертото   \n",
       "\n",
       "                                                   text       topic  \\\n",
       "0     Бои у Сопоцкина и Друскеник закончились отступ...  Библиотека   \n",
       "1     Министерство народного просвещения, в виду про...  Библиотека   \n",
       "2     Штабс-капитан П. Н. Нестеров на днях, увидев в...  Библиотека   \n",
       "3     Фотограф-корреспондент Daily Mirror рассказыва...  Библиотека   \n",
       "4     Лица, приехавшие в Варшаву из Люблина, передаю...  Библиотека   \n",
       "...                                                 ...         ...   \n",
       "9995  Глава МВД Дагестана приказал нарядам милиции н...      Россия   \n",
       "9996  Представители Кремля ведут активный диалог с г...      Россия   \n",
       "9997  В Москве 20 июля открывается фестиваль \"Планет...      Россия   \n",
       "9998   Чисто американским получился финал Уимблдонск...       Спорт   \n",
       "9999  Первым российским клубом, стартовавшим в сезон...       Спорт   \n",
       "\n",
       "                tags  \n",
       "0     Первая мировая  \n",
       "1     Первая мировая  \n",
       "2     Первая мировая  \n",
       "3     Первая мировая  \n",
       "4     Первая мировая  \n",
       "...              ...  \n",
       "9995             Все  \n",
       "9996             Все  \n",
       "9997             Все  \n",
       "9998             Все  \n",
       "9999             Все  \n",
       "\n",
       "[10000 rows x 5 columns]"
      ]
     },
     "execution_count": 4,
     "metadata": {},
     "output_type": "execute_result"
    }
   ],
   "source": [
    "news"
   ]
  },
  {
   "cell_type": "markdown",
   "id": "9d20ecee-a191-4dda-823a-934bae05a062",
   "metadata": {},
   "source": [
    "### Загрузка тонального словаря"
   ]
  },
  {
   "cell_type": "code",
   "execution_count": 5,
   "id": "39e8481c-df5f-4e92-b74f-64037b1efc82",
   "metadata": {
    "ExecuteTime": {
     "end_time": "2024-04-15T13:44:40.522683Z",
     "start_time": "2024-04-15T13:44:40.511684Z"
    }
   },
   "outputs": [],
   "source": [
    "# Датасет тонального словаря\n",
    "url = 'https://raw.githubusercontent.com/dkulagin/kartaslov/master/dataset/kartaslovsent/kartaslovsent.csv'\n",
    "path = './csv/kartaslovsent.csv'\n",
    "if not os.path.isfile(\"./csv/kartaslovsent.csv\"):\n",
    "    # Загружаем данные\n",
    "    wget.download(url, out=path)"
   ]
  },
  {
   "cell_type": "code",
   "execution_count": 6,
   "id": "0cbbb798-4d45-4ddd-98de-588df54040b5",
   "metadata": {
    "ExecuteTime": {
     "end_time": "2024-04-15T13:54:55.668822Z",
     "start_time": "2024-04-15T13:54:55.617302Z"
    }
   },
   "outputs": [],
   "source": [
    "df_tone_dictionary = pd.read_csv('./csv/kartaslovsent.csv', sep=';', on_bad_lines='skip')"
   ]
  },
  {
   "cell_type": "code",
   "execution_count": 7,
   "id": "a3f8871b-c8f2-4a5a-8383-b2bbe9837775",
   "metadata": {
    "ExecuteTime": {
     "end_time": "2024-04-15T13:54:57.124806Z",
     "start_time": "2024-04-15T13:54:57.100802Z"
    }
   },
   "outputs": [
    {
     "data": {
      "text/html": [
       "<div>\n",
       "<style scoped>\n",
       "    .dataframe tbody tr th:only-of-type {\n",
       "        vertical-align: middle;\n",
       "    }\n",
       "\n",
       "    .dataframe tbody tr th {\n",
       "        vertical-align: top;\n",
       "    }\n",
       "\n",
       "    .dataframe thead th {\n",
       "        text-align: right;\n",
       "    }\n",
       "</style>\n",
       "<table border=\"1\" class=\"dataframe\">\n",
       "  <thead>\n",
       "    <tr style=\"text-align: right;\">\n",
       "      <th></th>\n",
       "      <th>term</th>\n",
       "      <th>tag</th>\n",
       "      <th>value</th>\n",
       "      <th>pstv</th>\n",
       "      <th>ngtv</th>\n",
       "      <th>neut</th>\n",
       "      <th>dunno</th>\n",
       "      <th>pstvNgtvDisagreementRatio</th>\n",
       "    </tr>\n",
       "  </thead>\n",
       "  <tbody>\n",
       "    <tr>\n",
       "      <th>0</th>\n",
       "      <td>абажур</td>\n",
       "      <td>NEUT</td>\n",
       "      <td>0.08</td>\n",
       "      <td>0.185</td>\n",
       "      <td>0.037</td>\n",
       "      <td>0.580</td>\n",
       "      <td>0.198</td>\n",
       "      <td>0.00</td>\n",
       "    </tr>\n",
       "    <tr>\n",
       "      <th>1</th>\n",
       "      <td>аббатство</td>\n",
       "      <td>NEUT</td>\n",
       "      <td>0.10</td>\n",
       "      <td>0.192</td>\n",
       "      <td>0.038</td>\n",
       "      <td>0.578</td>\n",
       "      <td>0.192</td>\n",
       "      <td>0.00</td>\n",
       "    </tr>\n",
       "    <tr>\n",
       "      <th>2</th>\n",
       "      <td>аббревиатура</td>\n",
       "      <td>NEUT</td>\n",
       "      <td>0.08</td>\n",
       "      <td>0.196</td>\n",
       "      <td>0.000</td>\n",
       "      <td>0.630</td>\n",
       "      <td>0.174</td>\n",
       "      <td>0.00</td>\n",
       "    </tr>\n",
       "    <tr>\n",
       "      <th>3</th>\n",
       "      <td>абзац</td>\n",
       "      <td>NEUT</td>\n",
       "      <td>0.00</td>\n",
       "      <td>0.137</td>\n",
       "      <td>0.000</td>\n",
       "      <td>0.706</td>\n",
       "      <td>0.157</td>\n",
       "      <td>0.00</td>\n",
       "    </tr>\n",
       "    <tr>\n",
       "      <th>4</th>\n",
       "      <td>абиссинец</td>\n",
       "      <td>NEUT</td>\n",
       "      <td>0.28</td>\n",
       "      <td>0.151</td>\n",
       "      <td>0.113</td>\n",
       "      <td>0.245</td>\n",
       "      <td>0.491</td>\n",
       "      <td>0.19</td>\n",
       "    </tr>\n",
       "    <tr>\n",
       "      <th>...</th>\n",
       "      <td>...</td>\n",
       "      <td>...</td>\n",
       "      <td>...</td>\n",
       "      <td>...</td>\n",
       "      <td>...</td>\n",
       "      <td>...</td>\n",
       "      <td>...</td>\n",
       "      <td>...</td>\n",
       "    </tr>\n",
       "    <tr>\n",
       "      <th>46122</th>\n",
       "      <td>ёмкость</td>\n",
       "      <td>NEUT</td>\n",
       "      <td>0.00</td>\n",
       "      <td>0.167</td>\n",
       "      <td>0.000</td>\n",
       "      <td>0.690</td>\n",
       "      <td>0.143</td>\n",
       "      <td>0.00</td>\n",
       "    </tr>\n",
       "    <tr>\n",
       "      <th>46123</th>\n",
       "      <td>ёрзать</td>\n",
       "      <td>NGTV</td>\n",
       "      <td>-0.54</td>\n",
       "      <td>0.050</td>\n",
       "      <td>0.446</td>\n",
       "      <td>0.397</td>\n",
       "      <td>0.107</td>\n",
       "      <td>0.00</td>\n",
       "    </tr>\n",
       "    <tr>\n",
       "      <th>46124</th>\n",
       "      <td>ёрничать</td>\n",
       "      <td>NGTV</td>\n",
       "      <td>-0.79</td>\n",
       "      <td>0.078</td>\n",
       "      <td>0.529</td>\n",
       "      <td>0.236</td>\n",
       "      <td>0.157</td>\n",
       "      <td>0.00</td>\n",
       "    </tr>\n",
       "    <tr>\n",
       "      <th>46125</th>\n",
       "      <td>ёрш</td>\n",
       "      <td>NEUT</td>\n",
       "      <td>0.16</td>\n",
       "      <td>0.224</td>\n",
       "      <td>0.072</td>\n",
       "      <td>0.576</td>\n",
       "      <td>0.128</td>\n",
       "      <td>0.00</td>\n",
       "    </tr>\n",
       "    <tr>\n",
       "      <th>46126</th>\n",
       "      <td>ёршик</td>\n",
       "      <td>NEUT</td>\n",
       "      <td>0.00</td>\n",
       "      <td>0.152</td>\n",
       "      <td>0.043</td>\n",
       "      <td>0.718</td>\n",
       "      <td>0.087</td>\n",
       "      <td>0.00</td>\n",
       "    </tr>\n",
       "  </tbody>\n",
       "</table>\n",
       "<p>46127 rows × 8 columns</p>\n",
       "</div>"
      ],
      "text/plain": [
       "               term   tag  value   pstv   ngtv   neut  dunno  \\\n",
       "0            абажур  NEUT   0.08  0.185  0.037  0.580  0.198   \n",
       "1         аббатство  NEUT   0.10  0.192  0.038  0.578  0.192   \n",
       "2      аббревиатура  NEUT   0.08  0.196  0.000  0.630  0.174   \n",
       "3             абзац  NEUT   0.00  0.137  0.000  0.706  0.157   \n",
       "4         абиссинец  NEUT   0.28  0.151  0.113  0.245  0.491   \n",
       "...             ...   ...    ...    ...    ...    ...    ...   \n",
       "46122       ёмкость  NEUT   0.00  0.167  0.000  0.690  0.143   \n",
       "46123        ёрзать  NGTV  -0.54  0.050  0.446  0.397  0.107   \n",
       "46124      ёрничать  NGTV  -0.79  0.078  0.529  0.236  0.157   \n",
       "46125           ёрш  NEUT   0.16  0.224  0.072  0.576  0.128   \n",
       "46126         ёршик  NEUT   0.00  0.152  0.043  0.718  0.087   \n",
       "\n",
       "       pstvNgtvDisagreementRatio  \n",
       "0                           0.00  \n",
       "1                           0.00  \n",
       "2                           0.00  \n",
       "3                           0.00  \n",
       "4                           0.19  \n",
       "...                          ...  \n",
       "46122                       0.00  \n",
       "46123                       0.00  \n",
       "46124                       0.00  \n",
       "46125                       0.00  \n",
       "46126                       0.00  \n",
       "\n",
       "[46127 rows x 8 columns]"
      ]
     },
     "execution_count": 7,
     "metadata": {},
     "output_type": "execute_result"
    }
   ],
   "source": [
    "df_tone_dictionary"
   ]
  },
  {
   "cell_type": "markdown",
   "id": "05b65ed0-1f36-4ae2-a308-ce7d9e5ddc93",
   "metadata": {},
   "source": [
    "## Присвоение метки настроения заголовкам новостей"
   ]
  },
  {
   "cell_type": "markdown",
   "id": "f236346e-4b34-4c9b-9c0b-3b5527c0e77f",
   "metadata": {},
   "source": [
    "### Перемешаем и разделим датафрейм на две части (1-разметка вручную, 2-разметка на основе правил)"
   ]
  },
  {
   "cell_type": "code",
   "execution_count": 8,
   "id": "e9300e38-2903-45a6-a0b7-4305fc725f41",
   "metadata": {
    "ExecuteTime": {
     "end_time": "2024-04-15T13:55:00.230305Z",
     "start_time": "2024-04-15T13:55:00.211396Z"
    }
   },
   "outputs": [],
   "source": [
    "# Перемешаем и разделим датафрем на 2 части\n",
    "title_news_1, title_news_2 = train_test_split(news['title'], train_size=5, random_state=42)"
   ]
  },
  {
   "cell_type": "code",
   "execution_count": 9,
   "id": "075b0620-7aa6-496e-ab1b-53b215bafa44",
   "metadata": {
    "ExecuteTime": {
     "end_time": "2024-04-15T13:55:01.751979Z",
     "start_time": "2024-04-15T13:55:01.734980Z"
    }
   },
   "outputs": [],
   "source": [
    "# Преобразуем полученые датасеты в датафреймы Pandas\n",
    "df_title_news_1 = pd.DataFrame(title_news_1)\n",
    "df_title_news_2 = pd.DataFrame(title_news_2)"
   ]
  },
  {
   "cell_type": "code",
   "execution_count": 10,
   "id": "5e897675-9888-4cd1-8e3c-5db5f866bea5",
   "metadata": {
    "ExecuteTime": {
     "end_time": "2024-04-15T13:55:02.962475Z",
     "start_time": "2024-04-15T13:55:02.951470Z"
    }
   },
   "outputs": [
    {
     "data": {
      "text/html": [
       "<div>\n",
       "<style scoped>\n",
       "    .dataframe tbody tr th:only-of-type {\n",
       "        vertical-align: middle;\n",
       "    }\n",
       "\n",
       "    .dataframe tbody tr th {\n",
       "        vertical-align: top;\n",
       "    }\n",
       "\n",
       "    .dataframe thead th {\n",
       "        text-align: right;\n",
       "    }\n",
       "</style>\n",
       "<table border=\"1\" class=\"dataframe\">\n",
       "  <thead>\n",
       "    <tr style=\"text-align: right;\">\n",
       "      <th></th>\n",
       "      <th>title</th>\n",
       "    </tr>\n",
       "  </thead>\n",
       "  <tbody>\n",
       "    <tr>\n",
       "      <th>5734</th>\n",
       "      <td>Ястржембский называет имя арестованного за взр...</td>\n",
       "    </tr>\n",
       "    <tr>\n",
       "      <th>5191</th>\n",
       "      <td>Чемпионат Италии: \"Ювентус\" ушел в отрыв</td>\n",
       "    </tr>\n",
       "    <tr>\n",
       "      <th>5390</th>\n",
       "      <td>Из Чернокозово отпущены первые амнистированные...</td>\n",
       "    </tr>\n",
       "    <tr>\n",
       "      <th>860</th>\n",
       "      <td>Парламент Украины затребовал у Конгресса США п...</td>\n",
       "    </tr>\n",
       "    <tr>\n",
       "      <th>7270</th>\n",
       "      <td>Пилот Формулы-1 уцелел в авиакатастрофе</td>\n",
       "    </tr>\n",
       "  </tbody>\n",
       "</table>\n",
       "</div>"
      ],
      "text/plain": [
       "                                                  title\n",
       "5734  Ястржембский называет имя арестованного за взр...\n",
       "5191           Чемпионат Италии: \"Ювентус\" ушел в отрыв\n",
       "5390  Из Чернокозово отпущены первые амнистированные...\n",
       "860   Парламент Украины затребовал у Конгресса США п...\n",
       "7270            Пилот Формулы-1 уцелел в авиакатастрофе"
      ]
     },
     "execution_count": 10,
     "metadata": {},
     "output_type": "execute_result"
    }
   ],
   "source": [
    "df_title_news_1.head()"
   ]
  },
  {
   "cell_type": "code",
   "execution_count": 11,
   "id": "b07a9a65-b121-4b79-91c4-383c24276b11",
   "metadata": {
    "ExecuteTime": {
     "end_time": "2024-04-15T13:55:04.165476Z",
     "start_time": "2024-04-15T13:55:04.158714Z"
    }
   },
   "outputs": [
    {
     "data": {
      "text/html": [
       "<div>\n",
       "<style scoped>\n",
       "    .dataframe tbody tr th:only-of-type {\n",
       "        vertical-align: middle;\n",
       "    }\n",
       "\n",
       "    .dataframe tbody tr th {\n",
       "        vertical-align: top;\n",
       "    }\n",
       "\n",
       "    .dataframe thead th {\n",
       "        text-align: right;\n",
       "    }\n",
       "</style>\n",
       "<table border=\"1\" class=\"dataframe\">\n",
       "  <thead>\n",
       "    <tr style=\"text-align: right;\">\n",
       "      <th></th>\n",
       "      <th>title</th>\n",
       "    </tr>\n",
       "  </thead>\n",
       "  <tbody>\n",
       "    <tr>\n",
       "      <th>6252</th>\n",
       "      <td>Чтобы не платить налог, интернет-изданиям нужн...</td>\n",
       "    </tr>\n",
       "    <tr>\n",
       "      <th>4684</th>\n",
       "      <td>Кубинского дипломата выставили из США</td>\n",
       "    </tr>\n",
       "    <tr>\n",
       "      <th>1731</th>\n",
       "      <td>Правительство РФ: третье тысячеление наступит ...</td>\n",
       "    </tr>\n",
       "    <tr>\n",
       "      <th>4742</th>\n",
       "      <td>Взрывчатку в Сибирь отправили по почте</td>\n",
       "    </tr>\n",
       "    <tr>\n",
       "      <th>4521</th>\n",
       "      <td>В Дагестане совершено покушение на генерала по...</td>\n",
       "    </tr>\n",
       "  </tbody>\n",
       "</table>\n",
       "</div>"
      ],
      "text/plain": [
       "                                                  title\n",
       "6252  Чтобы не платить налог, интернет-изданиям нужн...\n",
       "4684              Кубинского дипломата выставили из США\n",
       "1731  Правительство РФ: третье тысячеление наступит ...\n",
       "4742             Взрывчатку в Сибирь отправили по почте\n",
       "4521  В Дагестане совершено покушение на генерала по..."
      ]
     },
     "execution_count": 11,
     "metadata": {},
     "output_type": "execute_result"
    }
   ],
   "source": [
    "df_title_news_2.head()"
   ]
  },
  {
   "cell_type": "markdown",
   "id": "9d81a3d3-7212-40ca-9143-88ec4804bc7a",
   "metadata": {},
   "source": [
    "### Определение функций"
   ]
  },
  {
   "cell_type": "code",
   "execution_count": 12,
   "id": "e67f3444-722a-4917-ad26-60c826d5d035",
   "metadata": {
    "ExecuteTime": {
     "end_time": "2024-04-15T13:55:07.596701Z",
     "start_time": "2024-04-15T13:55:07.591704Z"
    }
   },
   "outputs": [],
   "source": [
    "# Функция для присвоения метки настроения на основе наличия положительных или отрицательных слов\n",
    "def get_sentiment(text, df_td=df_tone_dictionary):\n",
    "    '''\n",
    "    Функция вычисляет метрику настроения.\n",
    "\n",
    "    :param text: текст который будем анализировать,\n",
    "    :param df_td: тональный словарь,\n",
    "    :return: возвращает оценку тональности: -0.35 (неготив) <= нейтрально >= (0.55) позитив \n",
    "    '''\n",
    "    # Токенизация текста на отдельные слова\n",
    "    words = nltk.word_tokenize(text.lower())\n",
    "    sum_value = 0  # Сумма всех зачений весов найденных слов\n",
    "    \n",
    "    for word in words:\n",
    "        if len(df_td[df_td.term == word]):\n",
    "            df_filtered = df_td[df_td['term'] == word]\n",
    "            value = df_filtered['value'].iloc[0]\n",
    "            sum_value += value\n",
    " \n",
    "    return sum_value   \n"
   ]
  },
  {
   "cell_type": "code",
   "execution_count": 13,
   "id": "6344c0cd-e48e-43a4-9242-cdad8895e3e0",
   "metadata": {
    "ExecuteTime": {
     "end_time": "2024-04-15T14:16:25.400466Z",
     "start_time": "2024-04-15T14:16:25.396467Z"
    }
   },
   "outputs": [],
   "source": [
    "# Определение функции для присвоения метки настроения на основе оценки полярности настроения\n",
    "def get_sentiment_label(score):\n",
    "    '''\n",
    "    Функция выводит метку настроения (негативный, позитивный или нейтральный).\n",
    "\n",
    "    :param score: уровень метки настроения от -1 до 1,\n",
    "    :return: возвращает оценку тональности. \n",
    "    '''\n",
    "    if score < -0.35:\n",
    "        return 'negative'  \n",
    "    elif score >= 0.55:\n",
    "        return 'positive' \n",
    "    else:\n",
    "        return 'neutral'"
   ]
  },
  {
   "cell_type": "markdown",
   "id": "0bc1a3f6-2453-42f5-b396-ea46e81d6c64",
   "metadata": {},
   "source": [
    "#### Проверка функций"
   ]
  },
  {
   "cell_type": "code",
   "execution_count": 14,
   "id": "5d8785cd-e559-405c-a344-94d731dfbe3a",
   "metadata": {
    "ExecuteTime": {
     "end_time": "2024-04-15T14:16:30.910490Z",
     "start_time": "2024-04-15T14:16:30.885780Z"
    }
   },
   "outputs": [
    {
     "name": "stdout",
     "output_type": "stream",
     "text": [
      "CPU times: total: 0 ns\n",
      "Wall time: 21 ms\n"
     ]
    },
    {
     "data": {
      "text/plain": [
       "0.55"
      ]
     },
     "execution_count": 14,
     "metadata": {},
     "output_type": "execute_result"
    }
   ],
   "source": [
    "%%time\n",
    "get_sentiment('Превосходно, что Аист прелетел')"
   ]
  },
  {
   "cell_type": "code",
   "execution_count": 15,
   "id": "dd826400-e1f8-4328-a60c-6d8f411a6d88",
   "metadata": {
    "ExecuteTime": {
     "end_time": "2024-04-15T13:45:25.271831Z",
     "start_time": "2024-04-15T13:45:25.247830Z"
    }
   },
   "outputs": [
    {
     "data": {
      "text/plain": [
       "-0.68"
      ]
     },
     "execution_count": 15,
     "metadata": {},
     "output_type": "execute_result"
    }
   ],
   "source": [
    "get_sentiment('Удар молнии')"
   ]
  },
  {
   "cell_type": "code",
   "execution_count": 16,
   "id": "23d0defa-5dac-4e12-94ee-a971bd799fd6",
   "metadata": {},
   "outputs": [
    {
     "data": {
      "text/plain": [
       "0"
      ]
     },
     "execution_count": 16,
     "metadata": {},
     "output_type": "execute_result"
    }
   ],
   "source": [
    "get_sentiment('Всё в норме')"
   ]
  },
  {
   "cell_type": "code",
   "execution_count": 17,
   "id": "ccd4f04c-f352-4fae-b94d-55ba2c16ece7",
   "metadata": {
    "ExecuteTime": {
     "end_time": "2024-04-15T13:45:28.554069Z",
     "start_time": "2024-04-15T13:45:28.531563Z"
    }
   },
   "outputs": [
    {
     "data": {
      "text/plain": [
       "'positive'"
      ]
     },
     "execution_count": 17,
     "metadata": {},
     "output_type": "execute_result"
    }
   ],
   "source": [
    "get_sentiment_label(get_sentiment('Превосходно, что Аист прелетел'))"
   ]
  },
  {
   "cell_type": "code",
   "execution_count": 18,
   "id": "3d9e2fdc-a4f7-4a4d-b7f9-32d37e30b62c",
   "metadata": {
    "ExecuteTime": {
     "end_time": "2024-04-15T13:45:29.864945Z",
     "start_time": "2024-04-15T13:45:29.847944Z"
    }
   },
   "outputs": [
    {
     "data": {
      "text/plain": [
       "'negative'"
      ]
     },
     "execution_count": 18,
     "metadata": {},
     "output_type": "execute_result"
    }
   ],
   "source": [
    "get_sentiment_label(get_sentiment('Удар молнии'))"
   ]
  },
  {
   "cell_type": "code",
   "execution_count": 19,
   "id": "d9f7ddf2-bafc-422a-a18c-5969556e675d",
   "metadata": {},
   "outputs": [
    {
     "data": {
      "text/plain": [
       "'neutral'"
      ]
     },
     "execution_count": 19,
     "metadata": {},
     "output_type": "execute_result"
    }
   ],
   "source": [
    "get_sentiment_label(get_sentiment('Всё в норме'))"
   ]
  },
  {
   "cell_type": "markdown",
   "id": "faba75ef-0da6-42e1-a249-26c1f6067365",
   "metadata": {},
   "source": [
    "### Присваиваем метки"
   ]
  },
  {
   "cell_type": "markdown",
   "id": "bc982877-0003-40cb-8556-3ee9ddefdb52",
   "metadata": {},
   "source": [
    "#### Присвоение меток настроения на основе правил"
   ]
  },
  {
   "cell_type": "code",
   "execution_count": 20,
   "id": "4a6cf815-d83d-4f0f-845a-7ca5c942aff0",
   "metadata": {},
   "outputs": [
    {
     "name": "stdout",
     "output_type": "stream",
     "text": [
      "CPU times: total: 1min 30s\n",
      "Wall time: 2min 13s\n"
     ]
    }
   ],
   "source": [
    "%%time\n",
    "# Применение функции к столбцу 'title' датасета для получения полярности настроения каждого заголовка новости\n",
    "df_title_news_2['sentiment'] = df_title_news_2['title'].apply(get_sentiment)\n",
    "# Применение функции к столбцу 'sentiment' датасета для присвоения меток настроения\n",
    "df_title_news_2['sentiment_label'] = df_title_news_2['sentiment'].apply(get_sentiment_label)"
   ]
  },
  {
   "cell_type": "code",
   "execution_count": 21,
   "id": "17a3944b-188e-4c0e-8324-10bf9f41e04d",
   "metadata": {},
   "outputs": [
    {
     "data": {
      "text/html": [
       "<div>\n",
       "<style scoped>\n",
       "    .dataframe tbody tr th:only-of-type {\n",
       "        vertical-align: middle;\n",
       "    }\n",
       "\n",
       "    .dataframe tbody tr th {\n",
       "        vertical-align: top;\n",
       "    }\n",
       "\n",
       "    .dataframe thead th {\n",
       "        text-align: right;\n",
       "    }\n",
       "</style>\n",
       "<table border=\"1\" class=\"dataframe\">\n",
       "  <thead>\n",
       "    <tr style=\"text-align: right;\">\n",
       "      <th></th>\n",
       "      <th>title</th>\n",
       "      <th>sentiment</th>\n",
       "      <th>sentiment_label</th>\n",
       "    </tr>\n",
       "  </thead>\n",
       "  <tbody>\n",
       "    <tr>\n",
       "      <th>6252</th>\n",
       "      <td>Чтобы не платить налог, интернет-изданиям нужн...</td>\n",
       "      <td>-0.26</td>\n",
       "      <td>neutral</td>\n",
       "    </tr>\n",
       "    <tr>\n",
       "      <th>4684</th>\n",
       "      <td>Кубинского дипломата выставили из США</td>\n",
       "      <td>0.00</td>\n",
       "      <td>neutral</td>\n",
       "    </tr>\n",
       "    <tr>\n",
       "      <th>1731</th>\n",
       "      <td>Правительство РФ: третье тысячеление наступит ...</td>\n",
       "      <td>-0.14</td>\n",
       "      <td>neutral</td>\n",
       "    </tr>\n",
       "    <tr>\n",
       "      <th>4742</th>\n",
       "      <td>Взрывчатку в Сибирь отправили по почте</td>\n",
       "      <td>0.00</td>\n",
       "      <td>neutral</td>\n",
       "    </tr>\n",
       "    <tr>\n",
       "      <th>4521</th>\n",
       "      <td>В Дагестане совершено покушение на генерала по...</td>\n",
       "      <td>-1.00</td>\n",
       "      <td>negative</td>\n",
       "    </tr>\n",
       "  </tbody>\n",
       "</table>\n",
       "</div>"
      ],
      "text/plain": [
       "                                                  title  sentiment  \\\n",
       "6252  Чтобы не платить налог, интернет-изданиям нужн...      -0.26   \n",
       "4684              Кубинского дипломата выставили из США       0.00   \n",
       "1731  Правительство РФ: третье тысячеление наступит ...      -0.14   \n",
       "4742             Взрывчатку в Сибирь отправили по почте       0.00   \n",
       "4521  В Дагестане совершено покушение на генерала по...      -1.00   \n",
       "\n",
       "     sentiment_label  \n",
       "6252         neutral  \n",
       "4684         neutral  \n",
       "1731         neutral  \n",
       "4742         neutral  \n",
       "4521        negative  "
      ]
     },
     "execution_count": 21,
     "metadata": {},
     "output_type": "execute_result"
    }
   ],
   "source": [
    "df_title_news_2.head()"
   ]
  },
  {
   "cell_type": "code",
   "execution_count": 22,
   "id": "53e8dbd6-cc26-44ed-b294-97ccfcdb2a31",
   "metadata": {},
   "outputs": [
    {
     "data": {
      "text/plain": [
       "(9995, 3)"
      ]
     },
     "execution_count": 22,
     "metadata": {},
     "output_type": "execute_result"
    }
   ],
   "source": [
    "df_title_news_2.shape"
   ]
  },
  {
   "cell_type": "markdown",
   "id": "296d54e1-00ea-43e4-83b6-75bb604cc1fc",
   "metadata": {},
   "source": [
    "#### Присвоение меток настроения в label-studio"
   ]
  },
  {
   "cell_type": "markdown",
   "id": "b16a43ff-c7b6-4a17-ae13-0aedfa25a03f",
   "metadata": {},
   "source": [
    "##### Сохраним датафрем в CSV файл"
   ]
  },
  {
   "cell_type": "code",
   "execution_count": 23,
   "id": "c1f7dee9-e46b-430b-a0b2-8bc8e48a6863",
   "metadata": {},
   "outputs": [],
   "source": [
    "df_title_news_1.to_csv('./csv/manual_marking.csv', index=False)"
   ]
  },
  {
   "cell_type": "markdown",
   "id": "b2a8c0a0-f160-49f1-9eb8-271340bdbe2f",
   "metadata": {},
   "source": [
    "##### Запускаем локально label-studio"
   ]
  },
  {
   "cell_type": "code",
   "execution_count": 24,
   "id": "8de78cfd-ce72-4b77-bb3d-d5aed0e3ae91",
   "metadata": {},
   "outputs": [
    {
     "name": "stdout",
     "output_type": "stream",
     "text": [
      "^C\n"
     ]
    }
   ],
   "source": [
    "!label-studio"
   ]
  },
  {
   "cell_type": "markdown",
   "id": "712d3455-19fe-4293-8e3c-3d8fde7c80e1",
   "metadata": {},
   "source": [
    "##### Экспортируем размеченный вручную CSV файл и зогружаем его в датафрейм"
   ]
  },
  {
   "cell_type": "code",
   "execution_count": 54,
   "id": "cf7aadc6-96aa-414b-a573-21364fb63e88",
   "metadata": {},
   "outputs": [],
   "source": [
    "df_title_news_1 = pd.read_csv('./csv/project-1-at-2024-04-14-20-19-3822a918.csv', engine='python', on_bad_lines='skip')"
   ]
  },
  {
   "cell_type": "code",
   "execution_count": 55,
   "id": "0092004e-4c23-455b-812b-3b619fd811b6",
   "metadata": {},
   "outputs": [
    {
     "data": {
      "text/html": [
       "<div>\n",
       "<style scoped>\n",
       "    .dataframe tbody tr th:only-of-type {\n",
       "        vertical-align: middle;\n",
       "    }\n",
       "\n",
       "    .dataframe tbody tr th {\n",
       "        vertical-align: top;\n",
       "    }\n",
       "\n",
       "    .dataframe thead th {\n",
       "        text-align: right;\n",
       "    }\n",
       "</style>\n",
       "<table border=\"1\" class=\"dataframe\">\n",
       "  <thead>\n",
       "    <tr style=\"text-align: right;\">\n",
       "      <th></th>\n",
       "      <th>annotation_id</th>\n",
       "      <th>annotator</th>\n",
       "      <th>created_at</th>\n",
       "      <th>id</th>\n",
       "      <th>lead_time</th>\n",
       "      <th>sentiment</th>\n",
       "      <th>title</th>\n",
       "      <th>updated_at</th>\n",
       "    </tr>\n",
       "  </thead>\n",
       "  <tbody>\n",
       "    <tr>\n",
       "      <th>0</th>\n",
       "      <td>1</td>\n",
       "      <td>1</td>\n",
       "      <td>2024-04-14T16:08:25.109948Z</td>\n",
       "      <td>1</td>\n",
       "      <td>18.735</td>\n",
       "      <td>positive</td>\n",
       "      <td>Ястржембский называет имя арестованного за взр...</td>\n",
       "      <td>2024-04-14T16:08:33.034497Z</td>\n",
       "    </tr>\n",
       "    <tr>\n",
       "      <th>1</th>\n",
       "      <td>2</td>\n",
       "      <td>1</td>\n",
       "      <td>2024-04-14T16:09:05.374325Z</td>\n",
       "      <td>2</td>\n",
       "      <td>13.131</td>\n",
       "      <td>neutral</td>\n",
       "      <td>Чемпионат Италии: \"Ювентус\" ушел в отрыв</td>\n",
       "      <td>2024-04-14T16:17:06.400265Z</td>\n",
       "    </tr>\n",
       "    <tr>\n",
       "      <th>2</th>\n",
       "      <td>3</td>\n",
       "      <td>1</td>\n",
       "      <td>2024-04-14T16:09:26.498394Z</td>\n",
       "      <td>3</td>\n",
       "      <td>6.770</td>\n",
       "      <td>negative</td>\n",
       "      <td>Из Чернокозово отпущены первые амнистированные...</td>\n",
       "      <td>2024-04-14T16:09:26.498394Z</td>\n",
       "    </tr>\n",
       "    <tr>\n",
       "      <th>3</th>\n",
       "      <td>4</td>\n",
       "      <td>1</td>\n",
       "      <td>2024-04-14T16:09:59.909605Z</td>\n",
       "      <td>4</td>\n",
       "      <td>7.341</td>\n",
       "      <td>neutral</td>\n",
       "      <td>Парламент Украины затребовал у Конгресса США п...</td>\n",
       "      <td>2024-04-14T16:09:59.909605Z</td>\n",
       "    </tr>\n",
       "    <tr>\n",
       "      <th>4</th>\n",
       "      <td>5</td>\n",
       "      <td>1</td>\n",
       "      <td>2024-04-14T16:10:25.863949Z</td>\n",
       "      <td>5</td>\n",
       "      <td>4.486</td>\n",
       "      <td>positive</td>\n",
       "      <td>Пилот Формулы-1 уцелел в авиакатастрофе</td>\n",
       "      <td>2024-04-14T16:10:25.863949Z</td>\n",
       "    </tr>\n",
       "  </tbody>\n",
       "</table>\n",
       "</div>"
      ],
      "text/plain": [
       "   annotation_id  annotator                   created_at  id  lead_time  \\\n",
       "0              1          1  2024-04-14T16:08:25.109948Z   1     18.735   \n",
       "1              2          1  2024-04-14T16:09:05.374325Z   2     13.131   \n",
       "2              3          1  2024-04-14T16:09:26.498394Z   3      6.770   \n",
       "3              4          1  2024-04-14T16:09:59.909605Z   4      7.341   \n",
       "4              5          1  2024-04-14T16:10:25.863949Z   5      4.486   \n",
       "\n",
       "  sentiment                                              title  \\\n",
       "0  positive  Ястржембский называет имя арестованного за взр...   \n",
       "1   neutral           Чемпионат Италии: \"Ювентус\" ушел в отрыв   \n",
       "2  negative  Из Чернокозово отпущены первые амнистированные...   \n",
       "3   neutral  Парламент Украины затребовал у Конгресса США п...   \n",
       "4  positive            Пилот Формулы-1 уцелел в авиакатастрофе   \n",
       "\n",
       "                    updated_at  \n",
       "0  2024-04-14T16:08:33.034497Z  \n",
       "1  2024-04-14T16:17:06.400265Z  \n",
       "2  2024-04-14T16:09:26.498394Z  \n",
       "3  2024-04-14T16:09:59.909605Z  \n",
       "4  2024-04-14T16:10:25.863949Z  "
      ]
     },
     "execution_count": 55,
     "metadata": {},
     "output_type": "execute_result"
    }
   ],
   "source": [
    "df_title_news_1.head()"
   ]
  },
  {
   "cell_type": "code",
   "execution_count": 56,
   "id": "34cbf5ba-f29e-459b-adb8-e7c8f8bad5b9",
   "metadata": {},
   "outputs": [],
   "source": [
    "# Оставим только нужные столбцы\n",
    "df_title_news_1 = df_title_news_1[['title', 'sentiment']].rename(columns={'sentiment': 'sentiment_label'})"
   ]
  },
  {
   "cell_type": "code",
   "execution_count": 57,
   "id": "c06d879c-31d1-4aaa-9b7d-04f744502d71",
   "metadata": {},
   "outputs": [
    {
     "data": {
      "text/html": [
       "<div>\n",
       "<style scoped>\n",
       "    .dataframe tbody tr th:only-of-type {\n",
       "        vertical-align: middle;\n",
       "    }\n",
       "\n",
       "    .dataframe tbody tr th {\n",
       "        vertical-align: top;\n",
       "    }\n",
       "\n",
       "    .dataframe thead th {\n",
       "        text-align: right;\n",
       "    }\n",
       "</style>\n",
       "<table border=\"1\" class=\"dataframe\">\n",
       "  <thead>\n",
       "    <tr style=\"text-align: right;\">\n",
       "      <th></th>\n",
       "      <th>title</th>\n",
       "      <th>sentiment_label</th>\n",
       "    </tr>\n",
       "  </thead>\n",
       "  <tbody>\n",
       "    <tr>\n",
       "      <th>0</th>\n",
       "      <td>Ястржембский называет имя арестованного за взр...</td>\n",
       "      <td>positive</td>\n",
       "    </tr>\n",
       "    <tr>\n",
       "      <th>1</th>\n",
       "      <td>Чемпионат Италии: \"Ювентус\" ушел в отрыв</td>\n",
       "      <td>neutral</td>\n",
       "    </tr>\n",
       "    <tr>\n",
       "      <th>2</th>\n",
       "      <td>Из Чернокозово отпущены первые амнистированные...</td>\n",
       "      <td>negative</td>\n",
       "    </tr>\n",
       "    <tr>\n",
       "      <th>3</th>\n",
       "      <td>Парламент Украины затребовал у Конгресса США п...</td>\n",
       "      <td>neutral</td>\n",
       "    </tr>\n",
       "    <tr>\n",
       "      <th>4</th>\n",
       "      <td>Пилот Формулы-1 уцелел в авиакатастрофе</td>\n",
       "      <td>positive</td>\n",
       "    </tr>\n",
       "  </tbody>\n",
       "</table>\n",
       "</div>"
      ],
      "text/plain": [
       "                                               title sentiment_label\n",
       "0  Ястржембский называет имя арестованного за взр...        positive\n",
       "1           Чемпионат Италии: \"Ювентус\" ушел в отрыв         neutral\n",
       "2  Из Чернокозово отпущены первые амнистированные...        negative\n",
       "3  Парламент Украины затребовал у Конгресса США п...         neutral\n",
       "4            Пилот Формулы-1 уцелел в авиакатастрофе        positive"
      ]
     },
     "execution_count": 57,
     "metadata": {},
     "output_type": "execute_result"
    }
   ],
   "source": [
    "df_title_news_1.head()"
   ]
  },
  {
   "cell_type": "markdown",
   "id": "c4db0da4-19b3-4e5c-9ddd-8f6e7ce4e42f",
   "metadata": {},
   "source": [
    "## Объединение датафреймов"
   ]
  },
  {
   "cell_type": "code",
   "execution_count": 58,
   "id": "731f8698-0957-44e4-beaa-135242de80ab",
   "metadata": {},
   "outputs": [],
   "source": [
    "# Объеденим три датафрейма\n",
    "df_title_news_concat = pd.concat([\n",
    "    df_title_news_1,\n",
    "    df_title_news_2,\n",
    "], axis=0)\n",
    "# Удалим лишний столбец\n",
    "del df_title_news_concat['sentiment']"
   ]
  },
  {
   "cell_type": "code",
   "execution_count": 59,
   "id": "97317487-003f-419e-be55-3ee5ce66d2da",
   "metadata": {},
   "outputs": [
    {
     "data": {
      "text/html": [
       "<div>\n",
       "<style scoped>\n",
       "    .dataframe tbody tr th:only-of-type {\n",
       "        vertical-align: middle;\n",
       "    }\n",
       "\n",
       "    .dataframe tbody tr th {\n",
       "        vertical-align: top;\n",
       "    }\n",
       "\n",
       "    .dataframe thead th {\n",
       "        text-align: right;\n",
       "    }\n",
       "</style>\n",
       "<table border=\"1\" class=\"dataframe\">\n",
       "  <thead>\n",
       "    <tr style=\"text-align: right;\">\n",
       "      <th></th>\n",
       "      <th>title</th>\n",
       "      <th>sentiment_label</th>\n",
       "    </tr>\n",
       "  </thead>\n",
       "  <tbody>\n",
       "    <tr>\n",
       "      <th>0</th>\n",
       "      <td>Ястржембский называет имя арестованного за взр...</td>\n",
       "      <td>positive</td>\n",
       "    </tr>\n",
       "    <tr>\n",
       "      <th>1</th>\n",
       "      <td>Чемпионат Италии: \"Ювентус\" ушел в отрыв</td>\n",
       "      <td>neutral</td>\n",
       "    </tr>\n",
       "    <tr>\n",
       "      <th>2</th>\n",
       "      <td>Из Чернокозово отпущены первые амнистированные...</td>\n",
       "      <td>negative</td>\n",
       "    </tr>\n",
       "    <tr>\n",
       "      <th>3</th>\n",
       "      <td>Парламент Украины затребовал у Конгресса США п...</td>\n",
       "      <td>neutral</td>\n",
       "    </tr>\n",
       "    <tr>\n",
       "      <th>4</th>\n",
       "      <td>Пилот Формулы-1 уцелел в авиакатастрофе</td>\n",
       "      <td>positive</td>\n",
       "    </tr>\n",
       "  </tbody>\n",
       "</table>\n",
       "</div>"
      ],
      "text/plain": [
       "                                               title sentiment_label\n",
       "0  Ястржембский называет имя арестованного за взр...        positive\n",
       "1           Чемпионат Италии: \"Ювентус\" ушел в отрыв         neutral\n",
       "2  Из Чернокозово отпущены первые амнистированные...        negative\n",
       "3  Парламент Украины затребовал у Конгресса США п...         neutral\n",
       "4            Пилот Формулы-1 уцелел в авиакатастрофе        positive"
      ]
     },
     "execution_count": 59,
     "metadata": {},
     "output_type": "execute_result"
    }
   ],
   "source": [
    "df_title_news_concat.head()"
   ]
  },
  {
   "cell_type": "code",
   "execution_count": 60,
   "id": "17110bdb-81f3-47ff-97d4-75fba9c04a54",
   "metadata": {},
   "outputs": [
    {
     "data": {
      "text/plain": [
       "(10000, 2)"
      ]
     },
     "execution_count": 60,
     "metadata": {},
     "output_type": "execute_result"
    }
   ],
   "source": [
    "df_title_news_concat.shape"
   ]
  },
  {
   "cell_type": "code",
   "execution_count": 61,
   "id": "67c25d2e-0d7a-4745-80be-8467820e72d0",
   "metadata": {},
   "outputs": [
    {
     "data": {
      "text/plain": [
       "<Axes: >"
      ]
     },
     "execution_count": 61,
     "metadata": {},
     "output_type": "execute_result"
    },
    {
     "data": {
      "image/png": "[encoded data removed]",
      "text/plain": [
       "<Figure size 640x480 with 1 Axes>"
      ]
     },
     "metadata": {},
     "output_type": "display_data"
    }
   ],
   "source": [
    "# Выведем график тональности заголовков новостей\n",
    "df_title_news_concat['sentiment_label'].hist()"
   ]
  },
  {
   "cell_type": "code",
   "execution_count": 62,
   "id": "e84b4ed9-7207-4cb0-bd20-ed183bd1fe48",
   "metadata": {},
   "outputs": [
    {
     "data": {
      "text/html": [
       "<div>\n",
       "<style scoped>\n",
       "    .dataframe tbody tr th:only-of-type {\n",
       "        vertical-align: middle;\n",
       "    }\n",
       "\n",
       "    .dataframe tbody tr th {\n",
       "        vertical-align: top;\n",
       "    }\n",
       "\n",
       "    .dataframe thead tr th {\n",
       "        text-align: left;\n",
       "    }\n",
       "\n",
       "    .dataframe thead tr:last-of-type th {\n",
       "        text-align: right;\n",
       "    }\n",
       "</style>\n",
       "<table border=\"1\" class=\"dataframe\">\n",
       "  <thead>\n",
       "    <tr>\n",
       "      <th></th>\n",
       "      <th>sentiment_label</th>\n",
       "    </tr>\n",
       "    <tr>\n",
       "      <th></th>\n",
       "      <th>count</th>\n",
       "    </tr>\n",
       "    <tr>\n",
       "      <th>sentiment_label</th>\n",
       "      <th></th>\n",
       "    </tr>\n",
       "  </thead>\n",
       "  <tbody>\n",
       "    <tr>\n",
       "      <th>negative</th>\n",
       "      <td>1186</td>\n",
       "    </tr>\n",
       "    <tr>\n",
       "      <th>neutral</th>\n",
       "      <td>7463</td>\n",
       "    </tr>\n",
       "    <tr>\n",
       "      <th>positive</th>\n",
       "      <td>1351</td>\n",
       "    </tr>\n",
       "  </tbody>\n",
       "</table>\n",
       "</div>"
      ],
      "text/plain": [
       "                sentiment_label\n",
       "                          count\n",
       "sentiment_label                \n",
       "negative                   1186\n",
       "neutral                    7463\n",
       "positive                   1351"
      ]
     },
     "execution_count": 62,
     "metadata": {},
     "output_type": "execute_result"
    }
   ],
   "source": [
    "# Статистика тональности заголоаков новостей\n",
    "df_title_news_concat.groupby(['sentiment_label']).agg({'sentiment_label': ['count']})"
   ]
  },
  {
   "cell_type": "markdown",
   "id": "8fc33ebf-0821-409f-a47a-52546928f076",
   "metadata": {},
   "source": [
    "## Обучение модели"
   ]
  },
  {
   "cell_type": "code",
   "execution_count": 63,
   "id": "67e47435-7936-4067-9f00-6612e1886395",
   "metadata": {},
   "outputs": [],
   "source": [
    "le = LabelEncoder()\n",
    "# Преобразуем в датафрейме буквеное обозначение в цифровое\n",
    "df_title_news_concat['sentiment_label'] = le.fit_transform(df_title_news_concat['sentiment_label'].astype(str))"
   ]
  },
  {
   "cell_type": "code",
   "execution_count": 64,
   "id": "da9a770d-da3f-46cd-bcd8-5c2c07a5f3b7",
   "metadata": {},
   "outputs": [
    {
     "data": {
      "text/html": [
       "<div>\n",
       "<style scoped>\n",
       "    .dataframe tbody tr th:only-of-type {\n",
       "        vertical-align: middle;\n",
       "    }\n",
       "\n",
       "    .dataframe tbody tr th {\n",
       "        vertical-align: top;\n",
       "    }\n",
       "\n",
       "    .dataframe thead th {\n",
       "        text-align: right;\n",
       "    }\n",
       "</style>\n",
       "<table border=\"1\" class=\"dataframe\">\n",
       "  <thead>\n",
       "    <tr style=\"text-align: right;\">\n",
       "      <th></th>\n",
       "      <th>title</th>\n",
       "      <th>sentiment_label</th>\n",
       "    </tr>\n",
       "  </thead>\n",
       "  <tbody>\n",
       "    <tr>\n",
       "      <th>0</th>\n",
       "      <td>Ястржембский называет имя арестованного за взр...</td>\n",
       "      <td>2</td>\n",
       "    </tr>\n",
       "    <tr>\n",
       "      <th>1</th>\n",
       "      <td>Чемпионат Италии: \"Ювентус\" ушел в отрыв</td>\n",
       "      <td>1</td>\n",
       "    </tr>\n",
       "    <tr>\n",
       "      <th>2</th>\n",
       "      <td>Из Чернокозово отпущены первые амнистированные...</td>\n",
       "      <td>0</td>\n",
       "    </tr>\n",
       "    <tr>\n",
       "      <th>3</th>\n",
       "      <td>Парламент Украины затребовал у Конгресса США п...</td>\n",
       "      <td>1</td>\n",
       "    </tr>\n",
       "    <tr>\n",
       "      <th>4</th>\n",
       "      <td>Пилот Формулы-1 уцелел в авиакатастрофе</td>\n",
       "      <td>2</td>\n",
       "    </tr>\n",
       "  </tbody>\n",
       "</table>\n",
       "</div>"
      ],
      "text/plain": [
       "                                               title  sentiment_label\n",
       "0  Ястржембский называет имя арестованного за взр...                2\n",
       "1           Чемпионат Италии: \"Ювентус\" ушел в отрыв                1\n",
       "2  Из Чернокозово отпущены первые амнистированные...                0\n",
       "3  Парламент Украины затребовал у Конгресса США п...                1\n",
       "4            Пилот Формулы-1 уцелел в авиакатастрофе                2"
      ]
     },
     "execution_count": 64,
     "metadata": {},
     "output_type": "execute_result"
    }
   ],
   "source": [
    "df_title_news_concat.head()"
   ]
  },
  {
   "cell_type": "code",
   "execution_count": 65,
   "id": "216b3378-7617-425b-af09-f18671f821f2",
   "metadata": {},
   "outputs": [],
   "source": [
    "# Перемешивание данных\n",
    "df_title_news_concat = shuffle(df_title_news_concat)"
   ]
  },
  {
   "cell_type": "code",
   "execution_count": 66,
   "id": "b24b667a-9f93-448e-8b2b-576212bb975d",
   "metadata": {},
   "outputs": [],
   "source": [
    "# Разделение датасета на размеченную и неразмеченную выборки\n",
    "labeled_title, unlabeled_title = train_test_split(df_title_news_concat, train_size=0.2, random_state=42)"
   ]
  },
  {
   "cell_type": "code",
   "execution_count": 67,
   "id": "f6c5f34b-ac4a-44bc-ade6-946e493200dd",
   "metadata": {},
   "outputs": [
    {
     "data": {
      "text/html": [
       "<div>\n",
       "<style scoped>\n",
       "    .dataframe tbody tr th:only-of-type {\n",
       "        vertical-align: middle;\n",
       "    }\n",
       "\n",
       "    .dataframe tbody tr th {\n",
       "        vertical-align: top;\n",
       "    }\n",
       "\n",
       "    .dataframe thead th {\n",
       "        text-align: right;\n",
       "    }\n",
       "</style>\n",
       "<table border=\"1\" class=\"dataframe\">\n",
       "  <thead>\n",
       "    <tr style=\"text-align: right;\">\n",
       "      <th></th>\n",
       "      <th>title</th>\n",
       "      <th>sentiment_label</th>\n",
       "    </tr>\n",
       "  </thead>\n",
       "  <tbody>\n",
       "    <tr>\n",
       "      <th>7269</th>\n",
       "      <td>В Чечне погибли три инспектора ГИБДД</td>\n",
       "      <td>1</td>\n",
       "    </tr>\n",
       "    <tr>\n",
       "      <th>5797</th>\n",
       "      <td>Контактная группа по бывшей Югославии вновь за...</td>\n",
       "      <td>1</td>\n",
       "    </tr>\n",
       "    <tr>\n",
       "      <th>208</th>\n",
       "      <td>На выборах губернатора Свердловской области по...</td>\n",
       "      <td>1</td>\n",
       "    </tr>\n",
       "    <tr>\n",
       "      <th>9026</th>\n",
       "      <td>В США сошел с рельсов и загорелся товарный поезд</td>\n",
       "      <td>1</td>\n",
       "    </tr>\n",
       "    <tr>\n",
       "      <th>2881</th>\n",
       "      <td>Боевики сообщили, что сбит российский вертолет</td>\n",
       "      <td>1</td>\n",
       "    </tr>\n",
       "  </tbody>\n",
       "</table>\n",
       "</div>"
      ],
      "text/plain": [
       "                                                  title  sentiment_label\n",
       "7269               В Чечне погибли три инспектора ГИБДД                1\n",
       "5797  Контактная группа по бывшей Югославии вновь за...                1\n",
       "208   На выборах губернатора Свердловской области по...                1\n",
       "9026   В США сошел с рельсов и загорелся товарный поезд                1\n",
       "2881     Боевики сообщили, что сбит российский вертолет                1"
      ]
     },
     "execution_count": 67,
     "metadata": {},
     "output_type": "execute_result"
    }
   ],
   "source": [
    "labeled_title.head()"
   ]
  },
  {
   "cell_type": "code",
   "execution_count": 68,
   "id": "81df271a-0e4b-408a-b633-3edee6b4ef6a",
   "metadata": {},
   "outputs": [
    {
     "data": {
      "text/html": [
       "<div>\n",
       "<style scoped>\n",
       "    .dataframe tbody tr th:only-of-type {\n",
       "        vertical-align: middle;\n",
       "    }\n",
       "\n",
       "    .dataframe tbody tr th {\n",
       "        vertical-align: top;\n",
       "    }\n",
       "\n",
       "    .dataframe thead th {\n",
       "        text-align: right;\n",
       "    }\n",
       "</style>\n",
       "<table border=\"1\" class=\"dataframe\">\n",
       "  <thead>\n",
       "    <tr style=\"text-align: right;\">\n",
       "      <th></th>\n",
       "      <th>title</th>\n",
       "      <th>sentiment_label</th>\n",
       "    </tr>\n",
       "  </thead>\n",
       "  <tbody>\n",
       "    <tr>\n",
       "      <th>6312</th>\n",
       "      <td>Немецкие спецслужбы опровергают, что передавал...</td>\n",
       "      <td>1</td>\n",
       "    </tr>\n",
       "    <tr>\n",
       "      <th>6787</th>\n",
       "      <td>Водитель автокрана парализовал движение на Сад...</td>\n",
       "      <td>1</td>\n",
       "    </tr>\n",
       "    <tr>\n",
       "      <th>6305</th>\n",
       "      <td>Детдомовцы хранили гранаты и взрывчатку</td>\n",
       "      <td>1</td>\n",
       "    </tr>\n",
       "    <tr>\n",
       "      <th>9219</th>\n",
       "      <td>ОПЕК увеличивает добычу нефти</td>\n",
       "      <td>1</td>\n",
       "    </tr>\n",
       "    <tr>\n",
       "      <th>4387</th>\n",
       "      <td>Чеченцы пытались отбить своих у милиции</td>\n",
       "      <td>0</td>\n",
       "    </tr>\n",
       "  </tbody>\n",
       "</table>\n",
       "</div>"
      ],
      "text/plain": [
       "                                                  title  sentiment_label\n",
       "6312  Немецкие спецслужбы опровергают, что передавал...                1\n",
       "6787  Водитель автокрана парализовал движение на Сад...                1\n",
       "6305            Детдомовцы хранили гранаты и взрывчатку                1\n",
       "9219                      ОПЕК увеличивает добычу нефти                1\n",
       "4387            Чеченцы пытались отбить своих у милиции                0"
      ]
     },
     "execution_count": 68,
     "metadata": {},
     "output_type": "execute_result"
    }
   ],
   "source": [
    "unlabeled_title.head()"
   ]
  },
  {
   "cell_type": "code",
   "execution_count": 69,
   "id": "79866b48-1b25-4fc1-88d4-e1ff98b87fbd",
   "metadata": {},
   "outputs": [],
   "source": [
    "# Определение функции для обучения модели логистической регрессии на размеченных данных\n",
    "def train_model(labeled_title):\n",
    "    # Векторизация текстовых данных с помощью TF-IDF\n",
    "    vectorizer = TfidfVectorizer()\n",
    "    X = vectorizer.fit_transform(labeled_title['title'])\n",
    "    y = labeled_title['sentiment_label']\n",
    "\n",
    "    # Обучение модели логистической регрессии на размеченных данных\n",
    "    model = LogisticRegression()\n",
    "    model.fit(X, y)\n",
    "\n",
    "    return model, vectorizer"
   ]
  },
  {
   "cell_type": "code",
   "execution_count": 70,
   "id": "6bf1d9ff-c43e-4755-a8dd-94cd991237f5",
   "metadata": {},
   "outputs": [],
   "source": [
    "# Обучение начальной модели на небольшом наборе \n",
    "model, vectorizer = train_model(labeled_title)"
   ]
  },
  {
   "cell_type": "code",
   "execution_count": 71,
   "id": "a1828418-5e26-477b-b3c8-c9887db57107",
   "metadata": {},
   "outputs": [],
   "source": [
    "# Использование исходной модели для прогнозирования настроения неразмеченных данных\n",
    "X_unlabeled = vectorizer.transform(unlabeled_title['title'])\n",
    "y_unlabeled_predicted = model.predict(X_unlabeled)"
   ]
  },
  {
   "cell_type": "code",
   "execution_count": 72,
   "id": "d918abe3-f0b3-4ec1-9139-71102802cb72",
   "metadata": {},
   "outputs": [],
   "source": [
    "# Вычислить неопределенности или энтропии предсказаний\n",
    "y_unlabeled_proba = model.predict_proba(X_unlabeled)\n",
    "uncertainty = -(y_unlabeled_proba * np.log2(y_unlabeled_proba)).sum(axis=1)"
   ]
  },
  {
   "cell_type": "code",
   "execution_count": 73,
   "id": "4fe5c34f-073c-4366-bfd3-ceabbebdc7f7",
   "metadata": {},
   "outputs": [],
   "source": [
    "# Выбор 100 наиболее неопределенных точек данных для маркировки человеком\n",
    "labeled_title_new = unlabeled_title.iloc[uncertainty.argsort()[:100]]\n",
    "unlabeled_title_new = unlabeled_title.iloc[uncertainty.argsort()[100:]]"
   ]
  },
  {
   "cell_type": "code",
   "execution_count": 74,
   "id": "7bddbfaa-0c35-47e1-a0f0-dfbaa92d54bd",
   "metadata": {},
   "outputs": [
    {
     "data": {
      "text/html": [
       "<div>\n",
       "<style scoped>\n",
       "    .dataframe tbody tr th:only-of-type {\n",
       "        vertical-align: middle;\n",
       "    }\n",
       "\n",
       "    .dataframe tbody tr th {\n",
       "        vertical-align: top;\n",
       "    }\n",
       "\n",
       "    .dataframe thead th {\n",
       "        text-align: right;\n",
       "    }\n",
       "</style>\n",
       "<table border=\"1\" class=\"dataframe\">\n",
       "  <thead>\n",
       "    <tr style=\"text-align: right;\">\n",
       "      <th></th>\n",
       "      <th>title</th>\n",
       "      <th>sentiment_label</th>\n",
       "    </tr>\n",
       "  </thead>\n",
       "  <tbody>\n",
       "    <tr>\n",
       "      <th>7169</th>\n",
       "      <td>В Красноярске подростка достали из вентиляцион...</td>\n",
       "      <td>1</td>\n",
       "    </tr>\n",
       "    <tr>\n",
       "      <th>5221</th>\n",
       "      <td>Жилой квартал Тегерана обстреляли из миномета</td>\n",
       "      <td>1</td>\n",
       "    </tr>\n",
       "    <tr>\n",
       "      <th>2078</th>\n",
       "      <td>Власти Сербии не пропускают топливо из EC</td>\n",
       "      <td>1</td>\n",
       "    </tr>\n",
       "    <tr>\n",
       "      <th>8278</th>\n",
       "      <td>Новый бесплатный сыр: онлайновый университет B...</td>\n",
       "      <td>2</td>\n",
       "    </tr>\n",
       "    <tr>\n",
       "      <th>1301</th>\n",
       "      <td>Новый Панамский канал проложат посуху</td>\n",
       "      <td>2</td>\n",
       "    </tr>\n",
       "    <tr>\n",
       "      <th>...</th>\n",
       "      <td>...</td>\n",
       "      <td>...</td>\n",
       "    </tr>\n",
       "    <tr>\n",
       "      <th>8556</th>\n",
       "      <td>В Чечне освобожден предприниматель из Ростова</td>\n",
       "      <td>1</td>\n",
       "    </tr>\n",
       "    <tr>\n",
       "      <th>3449</th>\n",
       "      <td>Один из убийц лидера сербских боевиков находит...</td>\n",
       "      <td>1</td>\n",
       "    </tr>\n",
       "    <tr>\n",
       "      <th>2331</th>\n",
       "      <td>Из питерской Академии художеств украли 16 картин</td>\n",
       "      <td>1</td>\n",
       "    </tr>\n",
       "    <tr>\n",
       "      <th>6980</th>\n",
       "      <td>Беженка из Таджикистана совершила попытку само...</td>\n",
       "      <td>0</td>\n",
       "    </tr>\n",
       "    <tr>\n",
       "      <th>2547</th>\n",
       "      <td>Верховный суд не пустил ЛДПР на выборы</td>\n",
       "      <td>1</td>\n",
       "    </tr>\n",
       "  </tbody>\n",
       "</table>\n",
       "<p>100 rows × 2 columns</p>\n",
       "</div>"
      ],
      "text/plain": [
       "                                                  title  sentiment_label\n",
       "7169  В Красноярске подростка достали из вентиляцион...                1\n",
       "5221      Жилой квартал Тегерана обстреляли из миномета                1\n",
       "2078          Власти Сербии не пропускают топливо из EC                1\n",
       "8278  Новый бесплатный сыр: онлайновый университет B...                2\n",
       "1301              Новый Панамский канал проложат посуху                2\n",
       "...                                                 ...              ...\n",
       "8556      В Чечне освобожден предприниматель из Ростова                1\n",
       "3449  Один из убийц лидера сербских боевиков находит...                1\n",
       "2331   Из питерской Академии художеств украли 16 картин                1\n",
       "6980  Беженка из Таджикистана совершила попытку само...                0\n",
       "2547             Верховный суд не пустил ЛДПР на выборы                1\n",
       "\n",
       "[100 rows x 2 columns]"
      ]
     },
     "execution_count": 74,
     "metadata": {},
     "output_type": "execute_result"
    }
   ],
   "source": [
    "labeled_title_new"
   ]
  },
  {
   "cell_type": "code",
   "execution_count": 75,
   "id": "03d49b89-0c34-4340-9257-746a43a3f89c",
   "metadata": {},
   "outputs": [],
   "source": [
    "# Разметка новых точек данных и добавление их к размеченному множеству\n",
    "labeled_title = pd.concat([labeled_title, labeled_title_new])"
   ]
  },
  {
   "cell_type": "code",
   "execution_count": 76,
   "id": "3a0f9811-42c3-418d-b42f-f4972c5fbcb9",
   "metadata": {},
   "outputs": [
    {
     "data": {
      "text/plain": [
       "(2100, 2)"
      ]
     },
     "execution_count": 76,
     "metadata": {},
     "output_type": "execute_result"
    }
   ],
   "source": [
    "labeled_title.shape"
   ]
  },
  {
   "cell_type": "code",
   "execution_count": 77,
   "id": "49324d52-d25a-400b-bf32-9cea47297100",
   "metadata": {},
   "outputs": [
    {
     "data": {
      "text/plain": [
       "(7900, 2)"
      ]
     },
     "execution_count": 77,
     "metadata": {},
     "output_type": "execute_result"
    }
   ],
   "source": [
    "unlabeled_title_new.shape"
   ]
  },
  {
   "cell_type": "code",
   "execution_count": 78,
   "id": "949cf984-b5c7-4e53-9344-c4531722d95e",
   "metadata": {},
   "outputs": [],
   "source": [
    "# Переобучение модели на расширенном маркированном множестве\n",
    "model, vectorizer = train_model(labeled_title)"
   ]
  },
  {
   "cell_type": "markdown",
   "id": "4d899094-d619-4784-a72b-530e3f087c00",
   "metadata": {},
   "source": [
    "## Оценка обучения модели"
   ]
  },
  {
   "cell_type": "code",
   "execution_count": 79,
   "id": "96a3b4ca-e9b8-4098-8987-6f3aa0239e8b",
   "metadata": {},
   "outputs": [],
   "source": [
    "### Загружаем тестовый датасет\n",
    "title_test = pd.read_csv('./csv/test.csv', engine='python', on_bad_lines='skip')"
   ]
  },
  {
   "cell_type": "code",
   "execution_count": 80,
   "id": "dd628b0f-bd46-4012-ad2f-6537499b80e5",
   "metadata": {},
   "outputs": [],
   "source": [
    "# Преобразуем в датафрейме буквеное обозначение в цифровое\n",
    "title_test['sentiment_label'] = le.fit_transform(title_test['sentiment_label'].astype(str))"
   ]
  },
  {
   "cell_type": "code",
   "execution_count": 81,
   "id": "ad23afe1-0b0f-4d0a-95e4-c01faaf3cbb7",
   "metadata": {},
   "outputs": [
    {
     "data": {
      "text/html": [
       "<div>\n",
       "<style scoped>\n",
       "    .dataframe tbody tr th:only-of-type {\n",
       "        vertical-align: middle;\n",
       "    }\n",
       "\n",
       "    .dataframe tbody tr th {\n",
       "        vertical-align: top;\n",
       "    }\n",
       "\n",
       "    .dataframe thead th {\n",
       "        text-align: right;\n",
       "    }\n",
       "</style>\n",
       "<table border=\"1\" class=\"dataframe\">\n",
       "  <thead>\n",
       "    <tr style=\"text-align: right;\">\n",
       "      <th></th>\n",
       "      <th>title</th>\n",
       "      <th>sentiment_label</th>\n",
       "    </tr>\n",
       "  </thead>\n",
       "  <tbody>\n",
       "    <tr>\n",
       "      <th>0</th>\n",
       "      <td>Вагоны московского метро будут складываться га...</td>\n",
       "      <td>1</td>\n",
       "    </tr>\n",
       "    <tr>\n",
       "      <th>1</th>\n",
       "      <td>В Чечню пытались проникнуть наемники из Пакистана</td>\n",
       "      <td>1</td>\n",
       "    </tr>\n",
       "    <tr>\n",
       "      <th>2</th>\n",
       "      <td>Таллинские заключенные предпочитают голод духоте</td>\n",
       "      <td>0</td>\n",
       "    </tr>\n",
       "    <tr>\n",
       "      <th>3</th>\n",
       "      <td>Адвокатам \"Моста\" не удалось дать отвод следов...</td>\n",
       "      <td>1</td>\n",
       "    </tr>\n",
       "    <tr>\n",
       "      <th>4</th>\n",
       "      <td>В поезде Донецк-Москва нашли взрывчатку</td>\n",
       "      <td>1</td>\n",
       "    </tr>\n",
       "  </tbody>\n",
       "</table>\n",
       "</div>"
      ],
      "text/plain": [
       "                                               title  sentiment_label\n",
       "0  Вагоны московского метро будут складываться га...                1\n",
       "1  В Чечню пытались проникнуть наемники из Пакистана                1\n",
       "2   Таллинские заключенные предпочитают голод духоте                0\n",
       "3  Адвокатам \"Моста\" не удалось дать отвод следов...                1\n",
       "4            В поезде Донецк-Москва нашли взрывчатку                1"
      ]
     },
     "execution_count": 81,
     "metadata": {},
     "output_type": "execute_result"
    }
   ],
   "source": [
    "title_test.head()"
   ]
  },
  {
   "cell_type": "code",
   "execution_count": 82,
   "id": "b4924aa7-3fdc-450c-b415-e8bae696278f",
   "metadata": {},
   "outputs": [
    {
     "name": "stdout",
     "output_type": "stream",
     "text": [
      "0.84008\n"
     ]
    }
   ],
   "source": [
    "# Оценка модели на тестовом датасете\n",
    "X_test = vectorizer.transform(title_test['title'])\n",
    "y_test_predicted = model.predict(X_test)\n",
    "f1 = f1_score(title_test['sentiment_label'], y_test_predicted, average='micro')\n",
    "\n",
    "print(f1)"
   ]
  },
  {
   "cell_type": "markdown",
   "id": "e631817d-9398-4138-b706-525b0cdb4f4a",
   "metadata": {},
   "source": [
    "## Вывод:\n",
    "\n",
    "### Выполнил разметку выбранного подмножества на основе правил, произвел разметку вручную другого подмножества. Объединил эти две выборки в один дасет и произвел обучение модели. Эффективность обученной модели составила 84%. Разметка на основе правил существенно экономит трудозатраты."
   ]
  },
  {
   "cell_type": "code",
   "execution_count": null,
   "id": "d9bd4afb-e7be-4cc7-a427-e62fa52d7dcc",
   "metadata": {},
   "outputs": [],
   "source": []
  }
 ],
 "metadata": {
  "kernelspec": {
   "display_name": "Python 3 (ipykernel)",
   "language": "python",
   "name": "python3"
  },
  "language_info": {
   "codemirror_mode": {
    "name": "ipython",
    "version": 3
   },
   "file_extension": ".py",
   "mimetype": "text/x-python",
   "name": "python",
   "nbconvert_exporter": "python",
   "pygments_lexer": "ipython3",
   "version": "3.11.8"
  }
 },
 "nbformat": 4,
 "nbformat_minor": 5
}
